{
  "nbformat": 4,
  "nbformat_minor": 0,
  "metadata": {
    "colab": {
      "name": "live feed.ipynb",
      "provenance": [],
      "collapsed_sections": []
    },
    "kernelspec": {
      "name": "python3",
      "display_name": "Python 3"
    },
    "language_info": {
      "name": "python"
    },
    "accelerator": "GPU",
    "gpuClass": "standard"
  },
  "cells": [
    {
      "cell_type": "code",
      "execution_count": null,
      "metadata": {
        "colab": {
          "base_uri": "https://localhost:8080/"
        },
        "id": "nEtiB-aa7EXt",
        "outputId": "7eb0cc88-76db-4c67-d6b9-9505b3cf705e"
      },
      "outputs": [
        {
          "output_type": "stream",
          "name": "stdout",
          "text": [
            "Mounted at /content/drive\n"
          ]
        }
      ],
      "source": [
        "from google.colab import drive\n",
        "drive.mount('/content/drive')"
      ]
    },
    {
      "cell_type": "code",
      "source": [
        "#import model_summary as ms\n",
        "import cv2\n",
        "import keras\n",
        "#from model import load_model\n",
        "import numpy as np\n",
        "import PIL\n",
        "from sklearn.metrics import mean_squared_error\n",
        "from keras.models import load_model\n",
        "import keras\n",
        "import pandas as pd\n",
        "from google.colab.patches import cv2_imshow\n",
        "import torch\n",
        "import os\n",
        "import shutil, sys\n",
        "import datetime\n",
        "import random\n",
        "\n",
        "no_of_sample = 1\n",
        "\n",
        "if no_of_sample == 1:\n",
        "  threshold=0.138\n",
        "  vc = cv2.VideoCapture('/content/drive/MyDrive/METIS/videos/camera1_left_near_optical_GH010024.mp4')\n",
        "  vcThermal = cv2.VideoCapture('/content/drive/MyDrive/METIS/videos/camera1_left_near_thermal_ZK3X1s3g8B.mp4')\n",
        "\n",
        "if no_of_sample == 2:\n",
        "  threshold=0.12\n",
        "  vc = cv2.VideoCapture('/content/drive/MyDrive/METIS/videos/camera2_right_near_optical_GH010141.mp4')\n",
        "  vcThermal = cv2.VideoCapture('/content/drive/MyDrive/METIS/videos/camera2_right_near_thermal_wdPJujIkra.mp4')\n",
        "\n",
        "if no_of_sample == 3:\n",
        "  threshold=0.111\n",
        "  vc = cv2.VideoCapture('/content/drive/MyDrive/METIS/videos/camera3_top_optical_GH010017.mp4')\n",
        "  vcThermal = cv2.VideoCapture('/content/drive/MyDrive/METIS/videos/camera3_top_thermal_Y1NUdOUtCA.mp4')\n",
        "\n",
        "if no_of_sample == 4:\n",
        "  threshold=0.137\n",
        "  vc = cv2.VideoCapture('/content/drive/MyDrive/METIS/videos/camera4_left_far_optical_GH010211.mp4')\n",
        "  vcThermal = cv2.VideoCapture('/content/drive/MyDrive/METIS/videos/camera4_left_far_thermal_XBaOGrTo8r.mp4')\n",
        "\n",
        "rval = True\n",
        "previousFrameStatus = True\n",
        "\n",
        "print('Loading autoencoder')\n",
        "model = keras.models.load_model('/content/drive/MyDrive/METIS/models/abnormal_model_for_rgb_side_camera.h5')\n",
        "modelThermal = keras.models.load_model('/content/drive/MyDrive/METIS/models/abnormal_model_thermal_side_camera.h5')"
      ],
      "metadata": {
        "colab": {
          "base_uri": "https://localhost:8080/"
        },
        "id": "xqXzqgofdYE4",
        "outputId": "87ebc036-1f12-4f2a-a919-061093a43bac"
      },
      "execution_count": null,
      "outputs": [
        {
          "output_type": "stream",
          "name": "stdout",
          "text": [
            "Loading autoencoder\n"
          ]
        }
      ]
    },
    {
      "cell_type": "markdown",
      "source": [
        "# **Redis Implementation**"
      ],
      "metadata": {
        "id": "HmT-gaJcs8ys"
      }
    },
    {
      "cell_type": "code",
      "source": [
        "!pip install redis\n",
        "import redis\n",
        "import time\n",
        "\n",
        "r = redis.Redis(\n",
        "    host = '147.102.19.87',\n",
        "    port = 6379,\n",
        "    password = 'metis')"
      ],
      "metadata": {
        "id": "IlNyPp7Us4YN",
        "colab": {
          "base_uri": "https://localhost:8080/"
        },
        "outputId": "cf3d9238-5f54-431d-9740-43b0b3207689"
      },
      "execution_count": null,
      "outputs": [
        {
          "output_type": "stream",
          "name": "stdout",
          "text": [
            "Looking in indexes: https://pypi.org/simple, https://us-python.pkg.dev/colab-wheels/public/simple/\n",
            "Collecting redis\n",
            "  Downloading redis-4.3.4-py3-none-any.whl (246 kB)\n",
            "\u001b[K     |████████████████████████████████| 246 kB 5.2 MB/s \n",
            "\u001b[?25hCollecting async-timeout>=4.0.2\n",
            "  Downloading async_timeout-4.0.2-py3-none-any.whl (5.8 kB)\n",
            "Collecting deprecated>=1.2.3\n",
            "  Downloading Deprecated-1.2.13-py2.py3-none-any.whl (9.6 kB)\n",
            "Requirement already satisfied: typing-extensions in /usr/local/lib/python3.7/dist-packages (from redis) (4.1.1)\n",
            "Requirement already satisfied: packaging>=20.4 in /usr/local/lib/python3.7/dist-packages (from redis) (21.3)\n",
            "Requirement already satisfied: importlib-metadata>=1.0 in /usr/local/lib/python3.7/dist-packages (from redis) (4.11.4)\n",
            "Requirement already satisfied: wrapt<2,>=1.10 in /usr/local/lib/python3.7/dist-packages (from deprecated>=1.2.3->redis) (1.14.1)\n",
            "Requirement already satisfied: zipp>=0.5 in /usr/local/lib/python3.7/dist-packages (from importlib-metadata>=1.0->redis) (3.8.0)\n",
            "Requirement already satisfied: pyparsing!=3.0.5,>=2.0.2 in /usr/local/lib/python3.7/dist-packages (from packaging>=20.4->redis) (3.0.9)\n",
            "Installing collected packages: deprecated, async-timeout, redis\n",
            "Successfully installed async-timeout-4.0.2 deprecated-1.2.13 redis-4.3.4\n"
          ]
        }
      ]
    },
    {
      "cell_type": "markdown",
      "source": [
        "RGB input stream"
      ],
      "metadata": {
        "id": "yKHyzs53tOKY"
      }
    },
    {
      "cell_type": "code",
      "source": [
        "'''\n",
        "score = 0 #input reconstruction error for RGB autoencoder\n",
        "r.zadd('vision', {time.time(): score})\n",
        "'''"
      ],
      "metadata": {
        "id": "bUSb5opotFVl",
        "colab": {
          "base_uri": "https://localhost:8080/",
          "height": 36
        },
        "outputId": "fa88705a-6ddb-4891-e7ed-85892cfc9e18"
      },
      "execution_count": null,
      "outputs": [
        {
          "output_type": "execute_result",
          "data": {
            "text/plain": [
              "\"\\nscore = 0 #input reconstruction error for RGB autoencoder\\nr.zadd('vision', {time.time(): score})\\n\""
            ],
            "application/vnd.google.colaboratory.intrinsic+json": {
              "type": "string"
            }
          },
          "metadata": {},
          "execution_count": 4
        }
      ]
    },
    {
      "cell_type": "markdown",
      "source": [
        "Thermal input stream"
      ],
      "metadata": {
        "id": "oIV8arYjtXXV"
      }
    },
    {
      "cell_type": "code",
      "source": [
        "'''\n",
        "score = 0 #input reconstruction error for thermal autoencoder\n",
        "r.zadd('thermal', {time.time(): score})\n",
        "'''"
      ],
      "metadata": {
        "id": "x9b4QAp5tSo7",
        "colab": {
          "base_uri": "https://localhost:8080/",
          "height": 35
        },
        "outputId": "2d3be4c7-6e24-43ba-9e19-6431ff31052a"
      },
      "execution_count": null,
      "outputs": [
        {
          "output_type": "execute_result",
          "data": {
            "text/plain": [
              "\"\\nscore = 0 #input reconstruction error for thermal autoencoder\\nr.zadd('thermal', {time.time(): score})\\n\""
            ],
            "application/vnd.google.colaboratory.intrinsic+json": {
              "type": "string"
            }
          },
          "metadata": {},
          "execution_count": 5
        }
      ]
    },
    {
      "cell_type": "markdown",
      "source": [
        "Radar input stream"
      ],
      "metadata": {
        "id": "pcPF1mtLtghb"
      }
    },
    {
      "cell_type": "code",
      "source": [
        "'''\n",
        "score = r.zrange('radar', time.time()-0.05, time.time(), desc=True, withscores=True)\n",
        "threshold = 0\n",
        "\n",
        "for i in score:\n",
        "    if i[1]>max:\n",
        "    max = i\n",
        "\n",
        "if max > threshold:\n",
        "  #call object detection method\n",
        "'''"
      ],
      "metadata": {
        "id": "UuvvX9rStfZO",
        "colab": {
          "base_uri": "https://localhost:8080/",
          "height": 53
        },
        "outputId": "669fa366-9589-4a1e-f21d-e568efa3c4f4"
      },
      "execution_count": null,
      "outputs": [
        {
          "output_type": "execute_result",
          "data": {
            "text/plain": [
              "\"\\nscore = r.zrange('radar', time.time()-0.05, time.time(), desc=True, withscores=True)\\nthreshold = 0\\n\\nfor i in score:\\n    if i[1]>max:\\n    max = i\\n\\nif max > threshold:\\n  #call object detection method\\n\""
            ],
            "application/vnd.google.colaboratory.intrinsic+json": {
              "type": "string"
            }
          },
          "metadata": {},
          "execution_count": 6
        }
      ]
    },
    {
      "cell_type": "markdown",
      "source": [
        "Object Detection Score"
      ],
      "metadata": {
        "id": "SrHqwtqhw-YL"
      }
    },
    {
      "cell_type": "code",
      "source": [
        "'''\n",
        "score = 0 #input reconstruction error for thermal autoencoder\n",
        "r.zadd('object', {time.time(): score})\n",
        "'''"
      ],
      "metadata": {
        "id": "zj0Xcab9wA1g",
        "colab": {
          "base_uri": "https://localhost:8080/",
          "height": 35
        },
        "outputId": "fa484cc1-325f-4c2d-ec36-4b068f0d00bb"
      },
      "execution_count": null,
      "outputs": [
        {
          "output_type": "execute_result",
          "data": {
            "text/plain": [
              "\"\\nscore = 0 #input reconstruction error for thermal autoencoder\\nr.zadd('object', {time.time(): score})\\n\""
            ],
            "application/vnd.google.colaboratory.intrinsic+json": {
              "type": "string"
            }
          },
          "metadata": {},
          "execution_count": 7
        }
      ]
    },
    {
      "cell_type": "markdown",
      "source": [
        "Create Frames from Video"
      ],
      "metadata": {
        "id": "x5R1LrngyzCf"
      }
    },
    {
      "cell_type": "code",
      "source": [
        "frames = []\n",
        "while(True): \n",
        "    ret,frame = vc.read() \n",
        "    if ret: \n",
        "        frames.append(frame)\n",
        "    else: \n",
        "        break"
      ],
      "metadata": {
        "id": "LHPkj74FqMQx"
      },
      "execution_count": null,
      "outputs": []
    },
    {
      "cell_type": "code",
      "source": [
        "framesThermal = []\n",
        "while(True): \n",
        "    ret,frame = vcThermal.read() \n",
        "    if ret: \n",
        "        framesThermal.append(frame)\n",
        "    else: \n",
        "        break"
      ],
      "metadata": {
        "id": "SBUsXnme9Wh2"
      },
      "execution_count": null,
      "outputs": []
    },
    {
      "cell_type": "code",
      "source": [
        "print(len(frames))\n",
        "print(len(framesThermal))"
      ],
      "metadata": {
        "colab": {
          "base_uri": "https://localhost:8080/"
        },
        "id": "j7t_8fS1927J",
        "outputId": "15faa8dc-2c58-442f-f153-7f2a81068191"
      },
      "execution_count": null,
      "outputs": [
        {
          "output_type": "stream",
          "name": "stdout",
          "text": [
            "600\n",
            "600\n"
          ]
        }
      ]
    },
    {
      "cell_type": "markdown",
      "source": [
        "Load YOLO"
      ],
      "metadata": {
        "id": "D34VADLMzCDy"
      }
    },
    {
      "cell_type": "code",
      "source": [
        "print('Loading YOLO')\n",
        "yolo_model = torch.hub.load('ultralytics/yolov5', 'custom', path='/content/drive/MyDrive/METIS/models/YOLO_optical_best.pt')  # default\n",
        "\n",
        "!git clone https://github.com/ultralytics/yolov5"
      ],
      "metadata": {
        "colab": {
          "base_uri": "https://localhost:8080/"
        },
        "id": "cq5x7fIpfXBU",
        "outputId": "8408392a-352a-4103-ca48-2220aebbc513"
      },
      "execution_count": null,
      "outputs": [
        {
          "output_type": "stream",
          "name": "stdout",
          "text": [
            "Loading YOLO\n"
          ]
        },
        {
          "output_type": "stream",
          "name": "stderr",
          "text": [
            "Downloading: \"https://github.com/ultralytics/yolov5/archive/master.zip\" to /root/.cache/torch/hub/master.zip\n",
            "\u001b[31m\u001b[1mrequirements:\u001b[0m PyYAML>=5.3.1 not found and is required by YOLOv5, attempting auto-update...\n",
            "Looking in indexes: https://pypi.org/simple, https://us-python.pkg.dev/colab-wheels/public/simple/\n",
            "Collecting PyYAML>=5.3.1\n",
            "  Downloading PyYAML-6.0-cp37-cp37m-manylinux_2_5_x86_64.manylinux1_x86_64.manylinux_2_12_x86_64.manylinux2010_x86_64.whl (596 kB)\n",
            "Installing collected packages: PyYAML\n",
            "  Attempting uninstall: PyYAML\n",
            "    Found existing installation: PyYAML 3.13\n",
            "    Uninstalling PyYAML-3.13:\n",
            "      Successfully uninstalled PyYAML-3.13\n",
            "Successfully installed PyYAML-6.0\n",
            "\n",
            "\u001b[31m\u001b[1mrequirements:\u001b[0m 1 package updated per /root/.cache/torch/hub/ultralytics_yolov5_master/requirements.txt\n",
            "\u001b[31m\u001b[1mrequirements:\u001b[0m ⚠️ \u001b[1mRestart runtime or rerun command for updates to take effect\u001b[0m\n",
            "\n",
            "YOLOv5 🚀 2022-7-7 Python-3.7.13 torch-1.11.0+cu113 CUDA:0 (Tesla T4, 15110MiB)\n",
            "\n",
            "Fusing layers... \n",
            "Model summary: 213 layers, 7012822 parameters, 0 gradients\n",
            "Adding AutoShape... \n"
          ]
        },
        {
          "output_type": "stream",
          "name": "stdout",
          "text": [
            "Cloning into 'yolov5'...\n",
            "remote: Enumerating objects: 12412, done.\u001b[K\n",
            "remote: Counting objects: 100% (32/32), done.\u001b[K\n",
            "remote: Compressing objects: 100% (28/28), done.\u001b[K\n",
            "remote: Total 12412 (delta 11), reused 17 (delta 4), pack-reused 12380\u001b[K\n",
            "Receiving objects: 100% (12412/12412), 12.21 MiB | 29.90 MiB/s, done.\n",
            "Resolving deltas: 100% (8554/8554), done.\n"
          ]
        }
      ]
    },
    {
      "cell_type": "markdown",
      "source": [
        "Load Thermal YOLO"
      ],
      "metadata": {
        "id": "9NsfverD-BkT"
      }
    },
    {
      "cell_type": "code",
      "source": [
        "print('Loading Thermal YOLO')\n",
        "yolo_model_thermal = torch.hub.load('ultralytics/yolov5', 'custom', path='/content/drive/MyDrive/METIS/models/YOLO_thermal_best.pt')  # default"
      ],
      "metadata": {
        "colab": {
          "base_uri": "https://localhost:8080/"
        },
        "id": "N8xZDDMK-DTm",
        "outputId": "6f08d3a2-0fcd-4683-a708-a50eb1081910"
      },
      "execution_count": null,
      "outputs": [
        {
          "output_type": "stream",
          "name": "stderr",
          "text": [
            "Using cache found in /root/.cache/torch/hub/ultralytics_yolov5_master\n",
            "\u001b[31m\u001b[1mrequirements:\u001b[0m PyYAML>=5.3.1 not found and is required by YOLOv5, attempting auto-update...\n"
          ]
        },
        {
          "output_type": "stream",
          "name": "stdout",
          "text": [
            "Loading Thermal YOLO\n"
          ]
        },
        {
          "output_type": "stream",
          "name": "stderr",
          "text": [
            "Looking in indexes: https://pypi.org/simple, https://us-python.pkg.dev/colab-wheels/public/simple/\n",
            "Requirement already satisfied: PyYAML>=5.3.1 in /usr/local/lib/python3.7/dist-packages (6.0)\n",
            "\n",
            "\u001b[31m\u001b[1mrequirements:\u001b[0m 1 package updated per /root/.cache/torch/hub/ultralytics_yolov5_master/requirements.txt\n",
            "\u001b[31m\u001b[1mrequirements:\u001b[0m ⚠️ \u001b[1mRestart runtime or rerun command for updates to take effect\u001b[0m\n",
            "\n",
            "YOLOv5 🚀 2022-7-7 Python-3.7.13 torch-1.11.0+cu113 CUDA:0 (Tesla T4, 15110MiB)\n",
            "\n",
            "Fusing layers... \n",
            "Model summary: 213 layers, 7012822 parameters, 0 gradients\n",
            "Adding AutoShape... \n"
          ]
        }
      ]
    },
    {
      "cell_type": "markdown",
      "source": [
        "Make Predictions Autoencoder"
      ],
      "metadata": {
        "id": "yos41SeGzS8f"
      }
    },
    {
      "cell_type": "code",
      "source": [
        "video = []\n",
        "memory = 50 # memory equals 5sed times the framerate\n",
        "alert_frame = 0\n",
        "alert_in_the_last_5_sec = False\n",
        "initiate_yolo = False\n",
        "last_activated_yolo = -500\n",
        "alert = False\n",
        "\n",
        "for x in range(0,(len(frames)//10)*10,10): #while true for live video\n",
        "\toptical_alert = 0\n",
        "\tthermal_alert = 0\n",
        "\tyolo_alert = 0\n",
        "\timagedump=[]\n",
        "\tframedump = []\n",
        "\timagedumpThermal=[]\n",
        "\tframedumpThermal = []\n",
        "\ttimestamp = time.time()\n",
        "\n",
        "\tfor i in range(10):\n",
        "\t\tframe = frames[x+i]\n",
        "\t\tframedump.append(frame)\n",
        "\t\t#video.append(frame)\n",
        "\t\tframe = np.resize(frame, (240,240,3))\n",
        "\n",
        "\t\t#Convert the Image to Grayscale\n",
        "\t\tgray = 0.2989 * frame[:, :, 0] + 0.5870 * frame[:, :, 1] + 0.1140 * frame[:, :, 2]\n",
        "\t\tgray = (gray-gray.mean())/gray.std()\n",
        "\t\tgray = np.clip(gray,0,1)\n",
        "\t\timagedump.append(gray)\n",
        "\n",
        "\tfor i in range(10):\n",
        "\t\t\tframeThermal = framesThermal[x+i]\n",
        "\t\t\tframedumpThermal.append(frameThermal)\n",
        "\t\t\t#video.append(frame)\n",
        "\t\t\tframeThermal = np.resize(frame, (240,240,3))\n",
        "\n",
        "\t\t\t#Convert the Image to Grayscale\n",
        "\t\t\tgray = 0.2989 * frame[:, :, 0] + 0.5870 * frame[:, :, 1] + 0.1140 * frame[:, :, 2]\n",
        "\t\t\tgray = (gray-gray.mean())/gray.std()\n",
        "\t\t\tgray = np.clip(gray,0,1)\n",
        "\t\t\timagedumpThermal.append(gray)\n",
        "\n",
        "\timagedump = np.array(imagedump)\n",
        "\timagedumpThermal = np.array(imagedumpThermal)\n",
        "\n",
        "\timagedump.resize(240, 240, 10)\n",
        "\timagedump = np.expand_dims(imagedump, axis=0)\n",
        "\timagedump = np.expand_dims(imagedump, axis=4)\n",
        "\n",
        "\timagedumpThermal.resize(240, 240, 10)\n",
        "\timagedumpThermal = np.expand_dims(imagedumpThermal, axis=0)\n",
        "\timagedumpThermal = np.expand_dims(imagedumpThermal, axis=4)\n",
        "\t#print('Processing data... ')\n",
        "\t#print('Autoencoder run: '+ str(int(x/10)))\n",
        "\toutput = model.predict(imagedump)\n",
        "\toutputThermal = modelThermal.predict(imagedumpThermal)\n",
        "\n",
        "\n",
        "\tlossOptical = mean_squared_error(imagedump[0,:,:,0,0], output[0,:,:,0,0])\n",
        "\tr.zadd('optical', {timestamp: lossOptical})\n",
        "\tr.zadd('optical_alert', {timestamp: optical_alert})\n",
        " \n",
        "\tlossThermal = mean_squared_error(imagedumpThermal[0,:,:,0,0], outputThermal[0,:,:,0,0])\n",
        "\tr.zadd('thermal', {timestamp: lossThermal})\n",
        "\tr.zadd('thermal_alert', {timestamp: thermal_alert})\n",
        "\n",
        "\n",
        "\tif (alert == False):\n",
        "\t\tif lossOptical > threshold and previousFrameStatus:\n",
        "\t\t\tprint('Anomalies Detected - Begin: '+str(x))\n",
        "\t\t\tpreviousFrameStatus = not previousFrameStatus\n",
        "\t\t\tvideo_first_frame = x - memory\n",
        "\n",
        "\t\t\toptical_alert = 1\n",
        "\t\t\tthermal_alert = 1\n",
        "\t\t\t#if len(video) > memory:\n",
        "\t\t\t#\tvideo = video[-memory:] # keep last 1 second of video frames\n",
        "\t\telif lossOptical > threshold and not previousFrameStatus:\n",
        "\t\t\t#print('Anomalies Detected - Continue')\n",
        "\n",
        "\t\t\toptical_alert = 1\n",
        "\t\t\tthermal_alert = 1\n",
        "\t\t\t#pass\n",
        "\t\telif lossOptical < threshold and not previousFrameStatus:\n",
        "\t\t\tprint('Return to normal state - Post end JSON and frames: '+str(x))\n",
        "\t\t\tpreviousFrameStatus = not previousFrameStatus\n",
        "\t\t\t#for j in range (memory):\n",
        "\t\t\t#\taftermath = frames[x]\n",
        "\t\t\t#\tvideo.append(aftermath)\n",
        "\t\t\tvideo_last_first_frame = x\n",
        "\t\t\tif (video_first_frame<0):\n",
        "\t\t\t\tvideo_first_frame=0\n",
        "\t\t\tvideo = frames[video_first_frame:video_last_first_frame]\n",
        "\t\t\tprint(\"Video length: \"+str(len(video)))\n",
        "\t\t\toptical_alert = 0\n",
        "\t\t\tthermal_alert = 0\n",
        "\t\t\t#run YOLO on video\n",
        "\t\t\tinitiate_yolo = True\n",
        "\t\n",
        "\tif (initiate_yolo == True):\n",
        "\t\tinitiate_yolo = False\n",
        "\t\tprint('Running YOLO')\n",
        "\t\tflag = False\n",
        "\t\tfor yolo_frame in video:\n",
        "\t\t\tresults = yolo_model(yolo_frame)\n",
        "\t\t\tdf = results.pandas().xyxy[0]\n",
        "\t\t\tif (df.shape[0] != 0):\n",
        "\t\t\t\tflag = True\n",
        "\t\t\t\tbreak\n",
        "\t\tif flag == True:\n",
        "\t\t\tprint(\"YOLO ACTIVATED AN ALERT! MOB on frame \" + str(x))\n",
        "\t\t\talert_frame = x\n",
        "\t\t\talert = True\n",
        "\t\t\tvideo = []\n",
        "\t\t\tyolo_alert = 1\n",
        "\t\telse:\n",
        "\t\t\tprint(\"YOLO WILL NOT ACTIVATE AN ALERT\")\n",
        "\n",
        "\tif ((alert == True) and ((alert_frame+250 <= x) or (x == (len(frames)//10)*10)-10)):\n",
        "\t\tif x>500:\n",
        "\t\t\tfirst_yolo_frame = x-250\n",
        "\t\telse:\n",
        "\t\t\tfirst_yolo_frame = 0\n",
        "\t\tlast_yolo_frame = x\n",
        "\t\talert = False\n",
        "\t\trun_yolo_on_frames = frames[first_yolo_frame:last_yolo_frame]\n",
        "\t\trun_yolo_on_frames_thermal = framesThermal[first_yolo_frame:last_yolo_frame]\n",
        "\n",
        "\n",
        "\n",
        "\n",
        "\tr.zadd('yolo_alert', {timestamp: yolo_alert})"
      ],
      "metadata": {
        "colab": {
          "base_uri": "https://localhost:8080/"
        },
        "id": "mL7eUUdkqtI7",
        "outputId": "87ad0fe8-a8f5-4661-823b-fdbed794fc4e"
      },
      "execution_count": null,
      "outputs": [
        {
          "output_type": "stream",
          "name": "stdout",
          "text": [
            "Anomalies Detected - Begin: 0\n",
            "Return to normal state - Post end JSON and frames: 20\n",
            "Video length: 20\n",
            "Running YOLO\n",
            "YOLO WILL NOT ACTIVATE AN ALERT\n",
            "Anomalies Detected - Begin: 150\n",
            "Return to normal state - Post end JSON and frames: 170\n",
            "Video length: 70\n",
            "Running YOLO\n",
            "YOLO ACTIVATED AN ALERT! MOB on frame 170\n",
            "Anomalies Detected - Begin: 180\n",
            "Return to normal state - Post end JSON and frames: 370\n",
            "Video length: 240\n",
            "Running YOLO\n",
            "YOLO ACTIVATED AN ALERT! MOB on frame 370\n",
            "Anomalies Detected - Begin: 400\n",
            "Return to normal state - Post end JSON and frames: 410\n",
            "Video length: 60\n",
            "Running YOLO\n",
            "YOLO WILL NOT ACTIVATE AN ALERT\n",
            "Anomalies Detected - Begin: 460\n",
            "Return to normal state - Post end JSON and frames: 470\n",
            "Video length: 60\n",
            "Running YOLO\n",
            "YOLO WILL NOT ACTIVATE AN ALERT\n",
            "Anomalies Detected - Begin: 480\n",
            "Return to normal state - Post end JSON and frames: 510\n",
            "Video length: 80\n",
            "Running YOLO\n",
            "YOLO WILL NOT ACTIVATE AN ALERT\n"
          ]
        }
      ]
    },
    {
      "cell_type": "code",
      "source": [
        "print(r.zrange('thermal', 0, -1, desc=True, withscores=True))\n",
        "print(r.zrange('optical_alert', 0, -1, desc=True, withscores=True))\n",
        "print(r.zrange('thermal_alert', 0, -1, desc=True, withscores=True))\n",
        "print(r.zrange('yolo_alert', 0, -1, desc=True, withscores=True))"
      ],
      "metadata": {
        "id": "jG2lOm0fz2HZ",
        "colab": {
          "base_uri": "https://localhost:8080/"
        },
        "outputId": "f490e8df-d364-456a-ecd3-dff8828776fc"
      },
      "execution_count": null,
      "outputs": [
        {
          "output_type": "stream",
          "name": "stdout",
          "text": [
            "[(b'1657016220.8302388', 0.380972349774059), (b'1657016231.525337', 0.37989851821862775), (b'1657103603.6944203', 0.37757342164983826), (b'1657103594.8534446', 0.35872011018843764), (b'1657103593.257203', 0.35810352072261775), (b'1657103599.571505', 0.3560729020358306), (b'1656977210.1784408', 0.3488724004780122), (b'1657103587.4159276', 0.3403992254176131), (b'1657103572.8303692', 0.33912801296190154), (b'1656977208.2972074', 0.33683792762578274), (b'1657103544.616569', 0.33488370339431994), (b'1657103582.7247458', 0.3341855841674742), (b'1657103581.3597012', 0.33026386195357765), (b'1657015821.694126', 0.32572346974769867), (b'1657015058.248435', 0.3257177486039608), (b'1657016242.1002276', 0.32424873523607745), (b'1657016238.1577773', 0.32250730607714334), (b'1657016213.3729398', 0.32061358616401403), (b'1657103571.4407291', 0.32045142470639565), (b'1656977175.3802876', 0.31973274903748267), (b'1657103551.1756551', 0.3184536757538518), (b'1657015823.0546045', 0.3184496174327965), (b'1657016219.509541', 0.31836117354728455), (b'1657016174.8245249', 0.3166576712942625), (b'1657015141.9901843', 0.3165599658127127), (b'1657016235.5092938', 0.31527623336766897), (b'1657103623.4938731', 0.3151287056125277), (b'1657015817.5927682', 0.31510450107031407), (b'1657103578.6096056', 0.31255774455078067), (b'1657015597.8047059', 0.31208519364544135), (b'1657015596.4490364', 0.31024660640198454), (b'1657015802.6152003', 0.3085438732308062), (b'1657016193.7418191', 0.3081528814681836), (b'1657103584.089607', 0.30740720181872977), (b'1657103626.2012215', 0.307259974505677), (b'1657015044.268893', 0.3066729338297091), (b'1657103585.773589', 0.30562103758551934), (b'1657015796.0074236', 0.30517967959294423), (b'1657015037.163869', 0.30274861626738436), (b'1657103619.6384394', 0.30108443187873396), (b'1656977157.874868', 0.30059493058682085), (b'1657015814.8698428', 0.29882604731276197), (b'1657015039.8723261', 0.29552154573427364), (b'1657016230.1882708', 0.29449997152613416), (b'1657103600.9189684', 0.2944960109957282), (b'1657103588.7903311', 0.294353584413855), (b'1657016218.1994343', 0.2939345764806957), (b'1657103579.995726', 0.2910021783875155), (b'1657016234.1839104', 0.2902217354522205), (b'1657015067.6410751', 0.2902162020429676), (b'1657015155.315551', 0.2894976284372119), (b'1657015583.2810752', 0.2890987770292692), (b'1657103596.2275257', 0.2890619405189639), (b'1656977155.1623597', 0.28740204434297995), (b'1657103602.3022876', 0.28594429989091846), (b'1657015813.4948137', 0.28427564148671153), (b'1657016223.5108635', 0.28374042003848193), (b'1657015809.4261053', 0.2836922913772335), (b'1657103609.6335204', 0.28185893164550685), (b'1657013242.4041922', 0.28164575545845993), (b'1657015818.9693322', 0.28164433932582145), (b'1657103597.9524422', 0.2808524552388517), (b'1656977174.427678', 0.28081164665216035), (b'1657015035.825293', 0.2804362431133964), (b'1657015801.064456', 0.2767962980229773), (b'1657103591.833376', 0.27672152817445955), (b'1657015581.5210662', 0.27573872099173763), (b'1657015170.0441606', 0.27543519989124154), (b'1657016222.168345', 0.2739251536313253), (b'1657015812.130283', 0.2729810160848476), (b'1657015056.8941038', 0.27254558312205196), (b'1657015059.5883577', 0.272139732256057), (b'1657016239.4800627', 0.27055261878015313), (b'1657015066.2833717', 0.2705190193777512), (b'1657015592.3163712', 0.26999967665982233), (b'1657015607.3933353', 0.2696327090196795), (b'1657015144.6700625', 0.26935652151397205), (b'1657015816.2318127', 0.2693442665550041), (b'1657015051.5386696', 0.2688806006868463), (b'1657014689.4595644', 0.2677310518067195), (b'1656977205.1679606', 0.2667038117432824), (b'1657015042.7639', 0.26614173306799827), (b'1657103624.8298075', 0.26610477473195876), (b'1657016226.1858954', 0.2659835686040593), (b'1657013241.0516987', 0.26578604470689016), (b'1657016214.7256541', 0.265390931543801), (b'1657015063.6008208', 0.26468784260311445), (b'1657016232.8402843', 0.26440959732540315), (b'1657016236.8419657', 0.2627496357698253), (b'1657015595.075205', 0.26270790683097334), (b'1657015794.6446502', 0.2617764062403424), (b'1657015152.6185937', 0.2612273857383323), (b'1657016240.7856257', 0.2606710550451185), (b'1657015600.5296397', 0.25916473151627184), (b'1657015048.84533', 0.25903487762886357), (b'1657015803.9814708', 0.25884477500890535), (b'1657015160.6910462', 0.2587189888938531), (b'1657015047.5084038', 0.25834100901934487), (b'1657015167.3703244', 0.2576486357018421), (b'1657015593.694532', 0.25746294380614787), (b'1657015603.2641973', 0.25739129847733916), (b'1657103590.4464722', 0.25735162932039585), (b'1657015052.875189', 0.2568129627102298), (b'1656977209.2352357', 0.2562736078632818), (b'1657015793.2840872', 0.2562205622267794), (b'1657015060.9264772', 0.25605062507684184), (b'1657015164.6906273', 0.2558706019269147), (b'1657016227.520803', 0.2557278779182313), (b'1657016228.8537705', 0.25522571138469075), (b'1657015159.3452435', 0.2549019704679208), (b'1657015575.4848256', 0.2545565382512535), (b'1657103577.2320063', 0.2544667355185601), (b'1657013082.3570952', 0.2533038072102691), (b'1657015150.9690945', 0.253120292321358), (b'1657015166.0261784', 0.25219121888347884), (b'1657015171.3713257', 0.25176899880536713), (b'1657015791.804605', 0.25105305151499885), (b'1657015163.3457174', 0.2506069225072283), (b'1657015788.34633', 0.250574887898131), (b'1657015599.168215', 0.25057287758204866), (b'1657015146.0015762', 0.24706348030652953), (b'1657015808.0724607', 0.2467778003257691), (b'1657015041.2142735', 0.24663646130110353), (b'1657015038.5338972', 0.24602788594366598), (b'1657015153.9728765', 0.24508782449058483), (b'1657015174.0725615', 0.24472744501493157), (b'1657013243.7583616', 0.2442778315568959), (b'1657015156.6480775', 0.2432606578912128), (b'1657015588.2149208', 0.24064883329129863), (b'1657015579.74655', 0.24034364444031478), (b'1657014688.1076303', 0.2400706549899318), (b'1657015064.9257262', 0.23962348165134642), (b'1657015168.697005', 0.2396131101992233), (b'1657015590.9525213', 0.23726556328130655), (b'1657015820.337515', 0.23582865368851083), (b'1657015157.993893', 0.23483559578919097), (b'1657014690.796702', 0.23439977514080793), (b'1657015062.2696471', 0.23432258715338175), (b'1657015806.7159328', 0.23363096091412516), (b'1657015824.4084094', 0.23118134777687424), (b'1657015572.38663', 0.230883910984842), (b'1657015805.3367834', 0.23040084485595844), (b'1657016224.8477674', 0.228866183598236), (b'1657015585.016949', 0.22874174845139467), (b'1657014668.8066885', 0.2270814437819633), (b'1657015608.7482204', 0.22665740510521729), (b'1657015045.8639636', 0.22515531188250854), (b'1657013080.9896498', 0.225124471130286), (b'1657015172.7245755', 0.2240722247144813), (b'1657015162.0202813', 0.22379473059883553), (b'1657015578.3713741', 0.22320356076098696), (b'1657015797.6959836', 0.22305483185728245), (b'1657015576.8807478', 0.2215991304196733), (b'1657015810.7640433', 0.22105648450287674), (b'1657015799.422095', 0.21989919336904862), (b'1657015050.1841323', 0.21896585334664165), (b'1657015604.6229963', 0.21871977816333127), (b'1657015138.9999926', 0.21736001808552274), (b'1657015143.3232088', 0.21109415544389026), (b'1657015601.8868763', 0.21037377023643483), (b'1657015606.0069702', 0.20994101435358145), (b'1657015147.6240249', 0.2099107723748008), (b'1657015589.5756133', 0.2088645279804087), (b'1657015055.550393', 0.20823706424952027), (b'1657015149.400373', 0.20703011021628087), (b'1657015032.8036008', 0.20447867516849141), (b'1657013083.7192276', 0.2033477089503774), (b'1657015586.8228765', 0.19659596548307826), (b'1657015054.2135239', 0.1963206778412131), (b'1657016210.7128642', 0.18678646621170755), (b'1657016216.0562634', 0.18672611063375055), (b'1656977206.104547', 0.18642003044883926), (b'1656977200.1653683', 0.18473240360578239), (b'1656977184.6625087', 0.18471821198857927), (b'1656977167.8239412', 0.18462726034982713), (b'1657103605.2632375', 0.18411476823240897), (b'1657103616.8957207', 0.18400699790503125), (b'1656977217.4383802', 0.18368406847526209), (b'1657103563.029471', 0.18360937325095916), (b'1657103627.5636368', 0.18282454466678577), (b'1656977198.2939029', 0.18282241263418644), (b'1656977201.1046836', 0.18166372449536847), (b'1656977218.3479717', 0.18106956344215425), (b'1657103554.3137054', 0.18092180233043512), (b'1656977214.670749', 0.18084015554800056), (b'1657103618.2714424', 0.18018651748120926), (b'1656977162.4528606', 0.17779284171464008), (b'1657016200.0462859', 0.17740533793110339), (b'1656977194.23102', 0.177288633969328), (b'1656977213.7532096', 0.17723365888551082), (b'1657103568.721898', 0.1762279814695203), (b'1657103630.4606144', 0.17620310728124064), (b'1657016204.0629852', 0.17596794689244113), (b'1656977196.3995535', 0.17585986198458253), (b'1657103631.8084958', 0.17545604896434094), (b'1657103561.6692295', 0.1748166220090724), (b'1657016212.048206', 0.1748112919830578), (b'1657103610.9861262', 0.17474204144543565), (b'1656977182.8014374', 0.1746030182459837), (b'1657016208.0661104', 0.17438065049810658), (b'1656977204.2369611', 0.17381868778575013), (b'1657103633.1823652', 0.17358267388049878), (b'1656977220.1861293', 0.17308791938654527), (b'1656977161.3132644', 0.17294402380419474), (b'1656977166.5825918', 0.17159659502886385), (b'1656977158.9236114', 0.17070840144101462), (b'1656977195.4483323', 0.16932111170647857), (b'1656976339.6053667', 0.16832077291362665), (b'1657103615.3184185', 0.16782345017364775), (b'1657013424.9776201', 0.16677836463752652), (b'1657103638.696825', 0.1665389956313841), (b'1656976322.0308042', 0.1657650466572021), (b'1656977179.034419', 0.16487107317488525), (b'1657013415.5134547', 0.16485815457375275), (b'1656977190.444868', 0.1646135486283726), (b'1657103608.2706492', 0.1637944512366435), (b'1656977216.5155497', 0.16348812874864932), (b'1657013407.0321064', 0.16298589029686092), (b'1657016202.7341714', 0.16270540763511135), (b'1656977215.6007001', 0.16248251165212868), (b'1656977193.2651556', 0.1601204960445801), (b'1656977219.2576008', 0.15879780524452114), (b'1657013411.4378653', 0.15866330857751548), (b'1657013434.478154', 0.1583733142665748), (b'1656976333.9013343', 0.1574590216128509), (b'1657103613.957948', 0.15709148076455154), (b'1656976334.8744378', 0.1568885815699076), (b'1657103574.1995506', 0.15681394120830444), (b'1657200574.4526718', 0.15657277638032638), (b'1657214673.9228408', 0.15657277636504432), (b'1657214624.1319563', 0.1565246313774775), (b'1657200528.9556503', 0.15652463137097683), (b'1657200573.3729436', 0.15652408304974766), (b'1657214673.001181', 0.15652408301509865), (b'1657214676.7303574', 0.15649108492012467), (b'1657200577.6770723', 0.15649108491730523), (b'1657200575.5144837', 0.1564836647011771), (b'1657214674.8475294', 0.15648366469461863), (b'1657200576.5992775', 0.15646566759441596), (b'1657214675.779828', 0.15646566759104752), (b'1657200578.7389245', 0.15643968977218176), (b'1657214677.6601756', 0.15643968974869452), (b'1657200572.29443', 0.1564155680995152), (b'1657214672.0725963', 0.15641556805487555), (b'1657200571.2352328', 0.1563968077008271), (b'1657214671.1283019', 0.15639680768559966), (b'1657214678.5810542', 0.15626754920230349), (b'1657200579.7984703', 0.15626754917483965), (b'1657200568.0051718', 0.15615744868139106), (b'1657214668.3672833', 0.1561574486584693), (b'1657214667.4662542', 0.1561053307549121), (b'1657200566.9208503', 0.15610533073944538), (b'1657214666.518582', 0.15606392801783203), (b'1657200565.857444', 0.15606392798226526), (b'1657200569.0937755', 0.1560506357157427), (b'1657214669.2764566', 0.15605063570911823), (b'1657200580.884475', 0.1560190559738108), (b'1657214679.5005713', 0.1560190559591101), (b'1657200570.153396', 0.15601466286330842), (b'1657214670.2009113', 0.15601466282897086), (b'1657200561.8300314', 0.1559641100982087), (b'1657214662.819261', 0.15596411006912553), (b'1657214664.6521544', 0.15596094926172716), (b'1657200563.7167463', 0.15596094925919127), (b'1657214660.0561368', 0.15593103393720345), (b'1657200558.5642416', 0.15593103391214658), (b'1657214665.6003084', 0.15591875204380268), (b'1657200564.777688', 0.15591875201932648), (b'1657214660.9611325', 0.15591853154368607), (b'1657200559.6380107', 0.15591853152350765), (b'1657200557.5003066', 0.15586548294369956), (b'1657214659.151227', 0.15586548293101046), (b'1657214661.8897874', 0.15584587144172485), (b'1657200560.7317948', 0.15584587141361345), (b'1657200556.44018', 0.1558314057970599), (b'1657214658.227578', 0.15583140575887214), (b'1657200581.9572785', 0.15582849353837944), (b'1657214680.4059489', 0.15582849351023273), (b'1657214657.3034992', 0.15575822028019384), (b'1657200555.3645642', 0.1557582202729326), (b'1657200554.2908747', 0.1556863247268705), (b'1657214656.3448896', 0.15568632471386218), (b'1656977179.9732032', 0.15565465400724035), (b'1657200586.4580557', 0.15565101522479832), (b'1657214684.2651587', 0.15565101522259456), (b'1657200583.0293458', 0.15562630605335523), (b'1657214681.3085594', 0.1556263060015729), (b'1657214685.194293', 0.15557163471602806), (b'1657200587.540333', 0.15557163470416924), (b'1657214683.3291883', 0.15555093330796158), (b'1657200585.3756034', 0.15555093326988131), (b'1657214647.1082633', 0.15554584336726898), (b'1657200543.6542592', 0.15554584333586316), (b'1657200584.0895815', 0.1555435986507776), (b'1657214682.2135077', 0.1555435986287588), (b'1657214695.7658148', 0.15553372918610867), (b'1657200599.5219777', 0.155533729166554), (b'1657214694.8679504', 0.15553255818474257), (b'1657200598.4227843', 0.15553255816166775), (b'1657214655.4221823', 0.15542630954010625), (b'1657200553.2076144', 0.15542630953685468), (b'1657214686.137649', 0.1554009169608331), (b'1657200588.618527', 0.15540091692962751), (b'1657214689.1544602', 0.15540068830216303), (b'1657200591.905978', 0.15540068827515804), (b'1657200552.1079452', 0.15538092481733579), (b'1657214654.5168347', 0.15538092480888632), (b'1657200590.8296785', 0.15537861531381464), (b'1657214688.2129726', 0.1553786152921304), (b'1657214703.7177932', 0.1553743407658437), (b'1657200608.6127293', 0.15537434072633224), (b'1657200596.2076316', 0.15535116478874855), (b'1657214692.8108892', 0.15535116475526334), (b'1657200600.6122367', 0.15534420701325924), (b'1657214696.6920729', 0.15534420700967608), (b'1657200609.6758857', 0.15533448771868572), (b'1657214704.641975', 0.15533448771497482), (b'1657214690.97586', 0.15533382992945968), (b'1657200594.0606844', 0.1553338299178512), (b'1657214653.5933805', 0.15530979357856722), (b'1657200551.0398805', 0.15530979353860747), (b'1657200548.9012918', 0.15530284470050534), (b'1657214651.7495391', 0.15530284466537936), (b'1657200595.1410542', 0.1553014419575699), (b'1657214691.8842533', 0.1553014419420776), (b'1657200547.82384', 0.15529901813413527), (b'1657214650.8459494', 0.15529901811240723), (b'1657200611.8300571', 0.15529644158748704), (b'1657214706.4727147', 0.15529644157003689), (b'1657200610.7388115', 0.15529266782607853), (b'1657214705.545513', 0.15529266782422255), (b'1657214652.6664133', 0.15528237245367815), (b'1657200549.96942', 0.1552823724465422), (b'1657214702.7977593', 0.1552756841864927), (b'1657200607.5296152', 0.15527568417578522), (b'1657214700.0097597', 0.1551815504468799), (b'1657200604.254331', 0.15518155043187415), (b'1657200606.4464903', 0.15517611255532626), (b'1657214701.8752882', 0.15517611254073488), (b'1657200601.6859522', 0.15513421788488746), (b'1657214697.60368', 0.1551342178720566), (b'1657200592.9732943', 0.15512495554733327), (b'1657214690.0691946', 0.1551249555340177), (b'1657214700.952324', 0.15505783979957374), (b'1657200605.342265', 0.15505783978558083), (b'1657200544.7598634', 0.15490745089328595), (b'1657214648.0610006', 0.15490745086020027), (b'1656976336.758614', 0.1547402341832137), (b'1657214649.9208238', 0.15468249185087432), (b'1657200546.7675858', 0.154682491820669), (b'1656977189.4946785', 0.15463110063361687), (b'1657016206.7419689', 0.15416038662693696), (b'1656977192.3259387', 0.15371843591037498), (b'1657015625.7584233', 0.1531878157588824), (b'1657103558.4231606', 0.15274133969329695), (b'1657013100.53036', 0.15259044200557267), (b'1657013288.2923744', 0.1521478400261796), (b'1657013115.4948127', 0.15198313022539406), (b'1657013099.1933901', 0.151459008112995), (b'1657014728.7275605', 0.1513154270001458), (b'1656977165.3070314', 0.15097138429802656), (b'1657016195.0851862', 0.15078805550481933), (b'1657013248.7278316', 0.1507626024181324), (b'1657015831.649622', 0.15074716354775128), (b'1657013419.5577905', 0.1504578824596061), (b'1657013088.3086042', 0.15037276172429503), (b'1657014732.7843916', 0.15020946855083828), (b'1656977188.445197', 0.14986575992159343), (b'1656977211.099584', 0.14985256895858756), (b'1657103640.050528', 0.1497695769627587), (b'1657103637.303659', 0.14970431634657477), (b'1657015179.9505973', 0.14970058488349414), (b'1657014708.3632603', 0.14915522180781174), (b'1657014709.7277474', 0.1490402149866424), (b'1657013408.7403984', 0.14870369739392272), (b'1657013129.0052', 0.1486142708293551), (b'1657013118.2101343', 0.14813235726557863), (b'1657015197.4820042', 0.14805501068628046), (b'1657013105.9911726', 0.1479773023676829), (b'1657015832.9884217', 0.14792213702267645), (b'1656977187.497986', 0.14742944814691883), (b'1657015838.3892975', 0.14737629834288032), (b'1657014697.5422482', 0.14720220453753927), (b'1657016198.7008414', 0.14716382050003046), (b'1656977176.3137133', 0.14674106299799639), (b'1656977181.8753836', 0.14668958966216808), (b'1657013137.3827567', 0.14648870121205243), (b'1657016209.3895628', 0.1463785274537918), (b'1656976324.5081959', 0.14623546868034987), (b'1656976332.0004776', 0.14604934956370957), (b'1657015186.706458', 0.1459871424310836), (b'1657014736.846432', 0.1458306859804077), (b'1657103565.7569702', 0.14540804003512345), (b'1657013296.4163628', 0.1453755741838879), (b'1657014702.9167774', 0.14534106692109786), (b'1656976325.7198677', 0.14502098973452887), (b'1657013116.8478825', 0.14500247569825994), (b'1657014738.2015789', 0.14473225978700152), (b'1657015087.5113082', 0.14450236112933118), (b'1656976341.4850945', 0.14447570793619172), (b'1657014735.5001206', 0.1443505154174219), (b'1657014724.6770837', 0.14409270058626875), (b'1657013435.8320065', 0.1440477361732366), (b'1657013266.2163393', 0.14377468886342532), (b'1657013086.9659355', 0.1437277197335746), (b'1657013264.8493543', 0.14372068665604232), (b'1657013263.483616', 0.14367743579854464), (b'1657013119.5648167', 0.1435218155227733), (b'1657015847.816308', 0.14344578320551427), (b'1656977191.3846517', 0.1434381997351218), (b'1657014711.077747', 0.1434189811819687), (b'1657015618.8929062', 0.1433799231178637), (b'1657015616.136789', 0.1432577641092105), (b'1657103559.93222', 0.1432451916283055), (b'1657016205.4026737', 0.14291406036344323), (b'1657013089.6549065', 0.1428964010871906), (b'1656976340.5334492', 0.14282232625544403), (b'1657013097.85343', 0.14267173199681785), (b'1656977185.6167564', 0.14242616210494793), (b'1657013127.650575', 0.14222798505229017), (b'1657103564.3974876', 0.14211053421043668), (b'1657015629.8725376', 0.1420849261189758), (b'1657014694.831691', 0.1420035863759834), (b'1657103567.3357468', 0.14194824319364008), (b'1657015623.0317483', 0.14170809830527709), (b'1657013134.663288', 0.14141713427200248), (b'1657015613.3946767', 0.14139586692140343), (b'1657013256.7816944', 0.1412976963070779), (b'1657015624.4046934', 0.14112672046480143), (b'1657015628.4999962', 0.14097187663304533), (b'1657014723.3237913', 0.14091771120466043), (b'1657013430.4150088', 0.14083593896936553), (b'1657015077.5966735', 0.14068056248508504), (b'1657013111.428114', 0.14054830392761913), (b'1657013250.0591617', 0.13998387662042866), (b'1657103552.523481', 0.13997918378791546), (b'1657014743.652779', 0.13992309391476215), (b'1657013258.1242905', 0.13976579155002677), (b'1657013093.74655', 0.13971878729980133), (b'1657013429.061175', 0.13964802296900045), (b'1656977169.7299', 0.13961698095614505), (b'1657015196.120249', 0.1395243844787985), (b'1657014720.5900562', 0.13790052352870658), (b'1657015632.6274805', 0.13769313494325344), (b'1657014742.2953904', 0.13740994942250231), (b'1657013286.9211652', 0.1372600526512418), (b'1656977183.7436347', 0.13722663966250437), (b'1657015841.0741985', 0.13701333037204833), (b'1656977173.493771', 0.13698542534640698), (b'1657103606.9032307', 0.13683721962401246), (b'1656977163.7994823', 0.13657241754526592), (b'1657013277.1872745', 0.13651689487160945), (b'1657013289.6438375', 0.13623506989890558), (b'1657014721.9448414', 0.1356455278377483), (b'1656977178.119299', 0.13558348622896638), (b'1656977171.6218953', 0.1353200465119091), (b'1657013114.1396139', 0.13522653885481867), (b'1657015183.9909098', 0.13509899087074068), (b'1657015092.8720863', 0.13509137476403982), (b'1657013410.0887508', 0.13498026138263428), (b'1657103555.6513145', 0.13482340655031078), (b'1657013412.7948756', 0.13452553707348636), (b'1657013133.3155856', 0.13450341642226107), (b'1657013085.0599027', 0.13441603551093548), (b'1657015072.2595918', 0.1339990108573023), (b'1657014730.0734613', 0.13368025527927568), (b'1656976328.943477', 0.1335424319085604), (b'1657013278.55382', 0.13325123026966754), (b'1657015086.1487784', 0.13324671361124782), (b'1656976338.679184', 0.13322867569255886), (b'1657013124.96894', 0.13322602959894284), (b'1657103635.911016', 0.13319847974668453), (b'1657013274.4595053', 0.1331725616830643), (b'1657013267.6082208', 0.13313219840392823), (b'1657013427.7052224', 0.13303158035274412), (b'1657013108.7157326', 0.13300332203241375), (b'1657014731.4493797', 0.13286116456961977), (b'1656976327.0427356', 0.13272588067929547), (b'1657015633.9915211', 0.13234844679681776), (b'1657013130.3557277', 0.13225143918647617), (b'1656976344.3356268', 0.13208379047569185), (b'1657103621.0081224', 0.13194948783659421), (b'1656977199.2450244', 0.131848368942838), (b'1657013291.0118337', 0.13175203291880963), (b'1657015621.6477904', 0.13154441320901422), (b'1656977172.571967', 0.1313611733738728), (b'1656977170.679742', 0.13108093672230775), (b'1657013284.1443238', 0.1309000658093805), (b'1657014719.2177327', 0.1307309507727547), (b'1657016201.3823233', 0.13054265368183324), (b'1657103634.5582473', 0.13024618986895187), (b'1657012946.9746494', 0.1300996708753957), (b'1657013418.213438', 0.13007865778784375), (b'1657013271.7152145', 0.1299880817439731), (b'1657015825.7631316', 0.12994496863180505), (b'1657015088.8668137', 0.12959448320511882), (b'1657014713.7930133', 0.1294808190763705), (b'1656977202.3521616', 0.12937143862962108), (b'1657015181.2824726', 0.12919691739384134), (b'1656977168.7801516', 0.12915778299367034), (b'1657012931.46492', 0.12911966578852793), (b'1657012947.6430984', 0.12910231482037282), (b'1657012948.2960756', 0.12897250058447904), (b'1657103570.09169', 0.12891960938384284), (b'1657012952.858236', 0.12868504297023695), (b'1657012953.5295908', 0.1286284124062898), (b'1656976323.2382145', 0.12862535118590138), (b'1657012952.1994658', 0.128610345399737), (b'1657012951.4986358', 0.12859342311450775), (b'1657012950.8174703', 0.12857833561598314), (b'1657012961.605837', 0.1285708618540787), (b'1657103557.0362444', 0.1285599014771123), (b'1657012958.9180357', 0.1285512882090275), (b'1657012960.912769', 0.12853397751279586), (b'1657012957.5757039', 0.12851666320438415), (b'1657012963.6953487', 0.1285075691418577), (b'1657012960.2547162', 0.12850404785013875), (b'1657012958.2459593', 0.12850359032593098), (b'1657012959.577921', 0.12850317863339275), (b'1657012956.2493405', 0.1285002182381865), (b'1657012956.9199123', 0.12848492381809368), (b'1657012962.945035', 0.1284555421576402), (b'1657012954.2149835', 0.12844671914688294), (b'1657012962.2605534', 0.12844586418279788), (b'1657012955.5584652', 0.12844341034631448), (b'1657012954.8819256', 0.1284369668102653), (b'1657012950.1429706', 0.12843140713003748), (b'1656977197.3589337', 0.12840457551292297), (b'1657015074.9277523', 0.12826718867751363), (b'1656976337.7186515', 0.1282441975374982), (b'1657013138.7293746', 0.12824364842318778), (b'1657015828.9556553', 0.12783509456051448), (b'1657012968.1447556', 0.12778659849107857), (b'1657015843.748013', 0.12777508029523843), (b'1657012968.8650856', 0.12775076665674626), (b'1657013416.8617244', 0.12774774430985458), (b'1657012976.2952418', 0.1277474786850038), (b'1657012971.5760853', 0.12774643194163585), (b'1657012969.569604', 0.12774150428435016), (b'1657012974.9249458', 0.12773855192794786), (b'1657012972.9279175', 0.12773288531379245), (b'1657012974.2452674', 0.1277325600922407), (b'1657012972.2539656', 0.127730585904901), (b'1657012975.6097813', 0.12773004335891788), (b'1657012973.5898285', 0.12772839821849005), (b'1657012970.8975828', 0.12772438532617747), (b'1657012970.2427015', 0.12772437881334403), (b'1656977186.5606058', 0.12771324379618407), (b'1657012964.3595562', 0.12768361112708548), (b'1657015185.3533294', 0.12766683687238914), (b'1657012967.0827858', 0.1276046984561413), (b'1657012966.4060261', 0.12757506430426296), (b'1656976343.3724396', 0.12755234958025835), (b'1657012965.0384526', 0.127519566228426), (b'1657012965.7055652', 0.12748847513840783), (b'1657014700.2287881', 0.1273759360168357), (b'1656977180.9310317', 0.127208040305644), (b'1657015073.5806005', 0.1270326440336932), (b'1657015631.2631638', 0.1267789556894438), (b'1657014727.353716', 0.1266082361205398), (b'1657013293.710317', 0.12653148543059511), (b'1657013107.3638012', 0.1265304488820994), (b'1657013104.6355371', 0.12636829968192995), (b'1657013260.812526', 0.12631936153509196), (b'1657013299.0957143', 0.125999682806692), (b'1657015830.3119326', 0.12570691193767905), (b'1657013422.271935', 0.1249064627011052), (b'1657013295.0759661', 0.1246105359645957), (b'1657013136.034922', 0.12452771590775856), (b'1656977203.293427', 0.12443691266759721), (b'1657016197.3842487', 0.12439618678472773), (b'1657014739.5663931', 0.12421723204562721), (b'1657015845.1094038', 0.12412788499572756), (b'1657013280.0216525', 0.12403819728425537), (b'1657015200.17715', 0.12403307827503701), (b'1657013285.531813', 0.12384982412272061), (b'1657015090.1940138', 0.1232350013266427), (b'1657014707.0115144', 0.12316775055323714), (b'1657013259.4697', 0.12296846636399578), (b'1657013423.6220276', 0.12260060510164116), (b'1657015190.7271738', 0.12243731003454872), (b'1657015192.07235', 0.12235384455268555), (b'1657015083.378668', 0.12228287785782121), (b'1657013120.911598', 0.12156592433261862), (b'1657013252.7420032', 0.12147363005791317), (b'1657015610.1379697', 0.12136227166431626), (b'1657013110.072838', 0.12071099165193011), (b'1657015069.0048287', 0.12033588738878499), (b'1657015078.9587789', 0.12028093583721877), (b'1657015617.5009053', 0.12013225403065478), (b'1657015081.947127', 0.11999753274214014), (b'1657015846.4489605', 0.11988311057193443), (b'1657015837.0336375', 0.11976334142975953), (b'1657013251.3891153', 0.11974800270335863), (b'1656976335.8039627', 0.1196583032901908), (b'1657013092.3706496', 0.11936196397045194), (b'1657015835.6926012', 0.11896469760614985), (b'1657015842.4107454', 0.11891391484847792), (b'1657015850.5190496', 0.11847718515924428), (b'1657013292.3710423', 0.11816964580563613), (b'1657015091.5346887', 0.11808171595380328), (b'1656976332.9543886', 0.11805146944598642), (b'1657014704.286838', 0.11804699093067604), (b'1657013431.7500434', 0.11739891981875424), (b'1656976342.4188368', 0.11733901682175092), (b'1656976327.9751782', 0.11702501032202128), (b'1657014715.1481457', 0.11650944538080446), (b'1657015620.2651198', 0.11647903966188412), (b'1657013090.9933584', 0.11645506339309192), (b'1656976320.6763556', 0.11637592017343402), (b'1657015178.5834327', 0.11610555341725995), (b'1657014692.1322608', 0.1159437493841014), (b'1657013122.2687037', 0.11586024775720709), (b'1657013297.758773', 0.1156960976128988), (b'1657015635.3737247', 0.11496594612671192), (b'1657013414.1645372', 0.11488521959105086), (b'1657015194.7765937', 0.11481254402813913), (b'1657014705.657398', 0.11473209934599343), (b'1656976330.081634', 0.11472703429434401), (b'1657015198.8251572', 0.11412695234921014), (b'1657013101.9005294', 0.11398295518648469), (b'1657013255.4285812', 0.11389642461764386), (b'1657014726.01545', 0.11368957448637249), (b'1657014717.8766725', 0.11257074546385602), (b'1657013123.6366582', 0.11250715273381288), (b'1657014712.438481', 0.1123544312107159), (b'1657013273.0857964', 0.11229505830261349), (b'1657015084.8209898', 0.11227376338215722), (b'1657015094.2012353', 0.11177413607680231), (b'1657015627.112886', 0.11145508110809917), (b'1657013270.3610015', 0.11138957163854954), (b'1657014734.12713', 0.11134953564523922), (b'1657013282.7542307', 0.11106811133791045), (b'1657014698.8940103', 0.11041263363364484), (b'1657015839.728329', 0.11039470870584994), (b'1657014740.921958', 0.11031975292857511), (b'1657014696.1861615', 0.11005957771901191), (b'1657013126.2971747', 0.11003914155300115), (b'1657013112.7820792', 0.10997500474761458), (b'1657015189.3672025', 0.10925209182677437), (b'1657013096.4950337', 0.10916757349044653), (b'1657015175.3988075', 0.10885001443194148), (b'1657014716.5059843', 0.1086019201371692), (b'1657015614.7614002', 0.10845742263477826), (b'1657013433.116058', 0.10841353049223423), (b'1657013437.165324', 0.10836245414824691), (b'1657015076.2790914', 0.1080111546496931), (b'1657013262.142502', 0.10791611321498988), (b'1657013131.7085938', 0.10788735953297834), (b'1657014744.9910593', 0.10760046855398533), (b'1657013426.348548', 0.10718219281741338), (b'1657015193.4323063', 0.10711277224127334), (b'1657013095.1308832', 0.1070999314517543), (b'1657013420.928903', 0.10634741433249192), (b'1657013245.106333', 0.10533310202019476), (b'1657013405.3854628', 0.10466374969926759), (b'1657013247.3725774', 0.10445206291865464), (b'1657015080.6073942', 0.10420646682000968), (b'1657013281.3809357', 0.10403680301007809), (b'1657013103.2748344', 0.10402293938849481), (b'1657013268.990979', 0.10397223529771195), (b'1657015834.3454657', 0.10350957507612164), (b'1657013254.100705', 0.1034898740026253), (b'1657013275.8159149', 0.10346394631607916), (b'1657014701.5662732', 0.10330192691033821), (b'1657015182.6242402', 0.10311760299151335), (b'1657015188.0340002', 0.10301720494000123), (b'1657015849.1566172', 0.10298703290955175), (b'1656976331.0365963', 0.10050314000861366), (b'1657013499.8265672', 0.0792502427609377), (b'1657013497.1427069', 0.07893590800803309), (b'1656976373.6647305', 0.07889355258208096), (b'1657013478.272973', 0.07883813179180588), (b'1656976370.784182', 0.07809920824669442), (b'1656976369.8320758', 0.07786193885531596), (b'1656976371.747884', 0.077247250735392), (b'1656976394.4976697', 0.07719781818459956), (b'1657013507.972073', 0.07713393506888838), (b'1657013463.458663', 0.07674477121928854), (b'1657013455.3281724', 0.07629270362287623), (b'1656976366.9924097', 0.0761119666827306), (b'1657013482.3383012', 0.07605880903390318), (b'1656976361.8568344', 0.07592495040836313), (b'1657013502.5454257', 0.07553286197979606), (b'1656976367.938672', 0.07549848306633711), (b'1657013453.9863398', 0.0747240231290172), (b'1657013471.5549352', 0.07451487254856114), (b'1656976348.6538804', 0.07437790379093051), (b'1657013498.487156', 0.0728911095522256), (b'1656976346.7462687', 0.07274120847234881), (b'1656976365.0924191', 0.07201711480384396), (b'1656976392.6299806', 0.07168562269734019), (b'1657013466.1517673', 0.07147820501209971), (b'1657013468.859017', 0.07095574353096604), (b'1656976388.777244', 0.07091805549868979), (b'1656976359.5115466', 0.07059137357357022), (b'1657013452.6420891', 0.07036896341244442), (b'1657013475.593146', 0.07027189384173371), (b'1656976384.0553572', 0.07010043543665596), (b'1657013483.702535', 0.06996822924438809), (b'1657013440.482065', 0.06990929384909363), (b'1657013462.1192799', 0.06962756811801055), (b'1657013486.4029877', 0.06962398749416354), (b'1656976393.5588193', 0.06960521842924439), (b'1656976349.5939472', 0.06942015808349192), (b'1657013456.6798332', 0.06931307491451674), (b'1656976351.4847162', 0.06907541443524044), (b'1657013487.7348187', 0.06902273404712493), (b'1656976380.2915702', 0.06881222758259127), (b'1656976353.3707182', 0.0687552293427656), (b'1657013444.5162368', 0.06861128402740832), (b'1656976386.8946385', 0.06818269611354008), (b'1657013448.5646377', 0.06773094454946166), (b'1657013476.9371486', 0.06735146105658783), (b'1656976317.422421', 0.06716698177069896), (b'1656951321.1506913', 0.06716382219453428), (b'1656951319.4671495', 0.06715732487786173), (b'1657013479.6445575', 0.06714606575321017), (b'1656951318.8996694', 0.06709998422528253), (b'1656951320.0139415', 0.06707467837889552), (b'1656951320.5678995', 0.06698023199509719), (b'1656951321.7248452', 0.06697227633529615), (b'1656976366.029546', 0.06689014742667358), (b'1656976381.24147', 0.06684974317064722), (b'1656951316.6280081', 0.06682921337867757), (b'1656951318.3273425', 0.06680973009730226), (b'1656951317.7546852', 0.06676567022751158), (b'1656976360.8501465', 0.06669624673412132), (b'1656951317.1876657', 0.06667325736983497), (b'1656951323.4047785', 0.06662628791264903), (b'1656951322.2777674', 0.06659187155349997), (b'1656951325.66463', 0.0665331577777514), (b'1656951326.2398026', 0.0664877389468975), (b'1656951322.8267624', 0.06648663821612215), (b'1656951328.5411615', 0.06642029895558185), (b'1656951323.9737146', 0.06641478089521241), (b'1656951327.3971925', 0.0664113024408993), (b'1656951326.8071873', 0.0664112517635293), (b'1656951327.9737153', 0.06640965279880948), (b'1656976383.1247232', 0.06634842048059791), (b'1656951325.0933306', 0.06632244551878387), (b'1656951324.527459', 0.06632193166005046), (b'1656951329.1051505', 0.06628778038664716), (b'1656951341.5917163', 0.06625310433671362), (b'1656951342.1697717', 0.06624793903281366), (b'1656951342.737644', 0.06624057800065532), (b'1656951341.006575', 0.06623115610145183), (b'1656951335.906121', 0.06617380446998773), (b'1656951340.443454', 0.06614770193868984), (b'1656951316.0384357', 0.06611097409082248), (b'1656951343.2980533', 0.06610670293390498), (b'1656951339.8735793', 0.06606625178496914), (b'1656951343.8991637', 0.06606497058294748), (b'1656951356.5624192', 0.06605982946097798), (b'1656951345.0631793', 0.06604493022926236), (b'1656951335.331334', 0.06603089049987826), (b'1656951334.2013602', 0.06600911913193873), (b'1656951344.4773743', 0.06598885817243819), (b'1656951357.1318655', 0.06598547183956222), (b'1656951339.2894483', 0.06597569086735681), (b'1656951354.2708519', 0.06597438335408286), (b'1656951334.7720847', 0.06595264599705532), (b'1656951355.4231744', 0.06594191431431298), (b'1656951333.624141', 0.06592880971648327), (b'1656951336.4555962', 0.06592840486181087), (b'1656951338.163605', 0.06592027327066255), (b'1656951347.9177494', 0.06591665793102215), (b'1656951354.836551', 0.06591262427951729), (b'1656951333.0724561', 0.0659122102188845), (b'1656951355.993287', 0.06590139962779508), (b'1656951349.6536906', 0.06588958685288107), (b'1656951329.6723204', 0.06587865391398924), (b'1656951353.6986344', 0.06587259455729022), (b'1656951347.348211', 0.06587010888793174), (b'1656951337.5881875', 0.06586700430657871), (b'1656951350.224101', 0.06586520978836855), (b'1656951348.4851751', 0.06586134548200082), (b'1656951338.71733', 0.06584816071627335), (b'1656951349.0776832', 0.0658412369925495), (b'1656951337.0351954', 0.06582268285292216), (b'1656951357.724333', 0.06581169794396337), (b'1656951358.8326921', 0.06580915446087728), (b'1656951359.9682512', 0.06579849866325617), (b'1656951350.8104336', 0.06578466255167799), (b'1656951332.4959404', 0.06576290778764199), (b'1656951358.281407', 0.06576147022092688), (b'1656951346.7730255', 0.06575551801703115), (b'1656951359.418853', 0.06571039632187144), (b'1656951353.1136267', 0.06570430060102124), (b'1656951331.8831816', 0.0656921917793675), (b'1656951351.3711205', 0.0656748151880588), (b'1656951331.3163106', 0.06566309015828344), (b'1656951351.9373727', 0.06564559149819676), (b'1656976382.196857', 0.06561753015047146), (b'1656951346.1994245', 0.06561689997088065), (b'1656951330.2212403', 0.06559048727143907), (b'1656951345.6320813', 0.06558475506808473), (b'1656951352.5285869', 0.06556383824261351), (b'1657013443.1746101', 0.06555996694079629), (b'1657013470.211973', 0.06546606089305611), (b'1656976390.6580455', 0.0653027675430914), (b'1657013464.7968733', 0.06529502340670422), (b'1656976378.3926823', 0.06514189621486229), (b'1656976374.5977232', 0.06479788488172956), (b'1657013449.938894', 0.0645078375269037), (b'1656976376.4879513', 0.06437686761300108), (b'1657013393.9531543', 0.06415854910239562), (b'1656976395.4410193', 0.06412652926218973), (b'1657013501.1775556', 0.06401885782446626), (b'1657013505.251614', 0.06277414196626037), (b'1656976358.4282', 0.0626402890679048), (b'1656976391.6254833', 0.062452101461997936), (b'1657013445.8660831', 0.062407768651191665), (b'1656976352.4166853', 0.06230958976444077), (b'1657013480.9878407', 0.062291542706090684), (b'1656976345.2783477', 0.062198957130314), (b'1657013447.2051287', 0.06166761803823711), (b'1656976356.2034817', 0.06163291840956615), (b'1656976389.729945', 0.061377940614885614), (b'1657013441.8378315', 0.06136913556044249), (b'1657013472.8954442', 0.06132700405736244), (b'1657013495.8035376', 0.061309038930294386), (b'1656976372.7087882', 0.06108865356303186), (b'1657013460.7823856', 0.06102204510073662), (b'1657013494.470456', 0.0608635750684959), (b'1656976379.3448298', 0.06032969110059812), (b'1656976385.9515731', 0.06025501197990288), (b'1656976385.0164266', 0.06021022752188286), (b'1657013493.1235154', 0.05991486418432377), (b'1656976377.4338095', 0.05978483197723815), (b'1656976368.894413', 0.059395700103815896), (b'1656976357.1535907', 0.05807037184671662), (b'1656976387.8382356', 0.05804005482023607), (b'1657013485.0534592', 0.05783688958598648), (b'1657013467.5183463', 0.057223839704419736), (b'1656976350.5308914', 0.05699505273388966), (b'1657013491.7784488', 0.05609754691845956), (b'1657013451.2860594', 0.0560504599830343), (b'1657013474.2396092', 0.05591773131879495), (b'1656976364.1230922', 0.05585723624250546), (b'1657013459.4047134', 0.05582046358791996), (b'1656976375.543877', 0.055619082916308654), (b'1657013490.4055622', 0.05537656949259245), (b'1657013506.6070478', 0.05536651593046068), (b'1656976347.6726615', 0.05410658081285208), (b'1657013489.0715902', 0.053999182846328646), (b'1656976363.1511533', 0.0535141930002417), (b'1656976355.2807665', 0.05340484612389253), (b'1657013458.0363996', 0.053280977926588466), (b'1657013503.8965135', 0.053241351470950916), (b'1656976354.3331647', 0.05320360799520629), (b'1657013438.5095956', 0.05290555252318293)]\n",
            "[(b'1657103626.2012215', 1.0), (b'1657103624.8298075', 1.0), (b'1657103623.4938731', 1.0), (b'1657103619.6384394', 1.0), (b'1657103609.6335204', 1.0), (b'1657103603.6944203', 1.0), (b'1657103602.3022876', 1.0), (b'1657103600.9189684', 1.0), (b'1657103599.571505', 1.0), (b'1657103597.9524422', 1.0), (b'1657103596.2275257', 1.0), (b'1657103594.8534446', 1.0), (b'1657103593.257203', 1.0), (b'1657103591.833376', 1.0), (b'1657103590.4464722', 1.0), (b'1657103588.7903311', 1.0), (b'1657103587.4159276', 1.0), (b'1657103585.773589', 1.0), (b'1657103584.089607', 1.0), (b'1657103582.7247458', 1.0), (b'1657103581.3597012', 1.0), (b'1657103579.995726', 1.0), (b'1657103578.6096056', 1.0), (b'1657103577.2320063', 1.0), (b'1657103572.8303692', 1.0), (b'1657103571.4407291', 1.0), (b'1657103551.1756551', 1.0), (b'1657103544.616569', 1.0), (b'1657016242.1002276', 1.0), (b'1657016240.7856257', 1.0), (b'1657016239.4800627', 1.0), (b'1657016238.1577773', 1.0), (b'1657016236.8419657', 1.0), (b'1657016235.5092938', 1.0), (b'1657016234.1839104', 1.0), (b'1657016232.8402843', 1.0), (b'1657016231.525337', 1.0), (b'1657016230.1882708', 1.0), (b'1657016228.8537705', 1.0), (b'1657016227.520803', 1.0), (b'1657016226.1858954', 1.0), (b'1657016224.8477674', 1.0), (b'1657016223.5108635', 1.0), (b'1657016222.168345', 1.0), (b'1657016220.8302388', 1.0), (b'1657016219.509541', 1.0), (b'1657016218.1994343', 1.0), (b'1657016214.7256541', 1.0), (b'1657016213.3729398', 1.0), (b'1657016193.7418191', 1.0), (b'1657016174.8245249', 1.0), (b'1657015824.4084094', 1.0), (b'1657015823.0546045', 1.0), (b'1657015821.694126', 1.0), (b'1657015820.337515', 1.0), (b'1657015818.9693322', 1.0), (b'1657015817.5927682', 1.0), (b'1657015816.2318127', 1.0), (b'1657015814.8698428', 1.0), (b'1657015813.4948137', 1.0), (b'1657015812.130283', 1.0), (b'1657015810.7640433', 1.0), (b'1657015809.4261053', 1.0), (b'1657015808.0724607', 1.0), (b'1657015806.7159328', 1.0), (b'1657015805.3367834', 1.0), (b'1657015803.9814708', 1.0), (b'1657015802.6152003', 1.0), (b'1657015801.064456', 1.0), (b'1657015799.422095', 1.0), (b'1657015797.6959836', 1.0), (b'1657015796.0074236', 1.0), (b'1657015794.6446502', 1.0), (b'1657015793.2840872', 1.0), (b'1657015791.804605', 1.0), (b'1657015788.34633', 1.0), (b'1657015608.7482204', 1.0), (b'1657015607.3933353', 1.0), (b'1657015606.0069702', 1.0), (b'1657015604.6229963', 1.0), (b'1657015603.2641973', 1.0), (b'1657015601.8868763', 1.0), (b'1657015600.5296397', 1.0), (b'1657015599.168215', 1.0), (b'1657015597.8047059', 1.0), (b'1657015596.4490364', 1.0), (b'1657015595.075205', 1.0), (b'1657015593.694532', 1.0), (b'1657015592.3163712', 1.0), (b'1657015590.9525213', 1.0), (b'1657015589.5756133', 1.0), (b'1657015588.2149208', 1.0), (b'1657015586.8228765', 1.0), (b'1657015585.016949', 1.0), (b'1657015583.2810752', 1.0), (b'1657015581.5210662', 1.0), (b'1657015579.74655', 1.0), (b'1657015578.3713741', 1.0), (b'1657015576.8807478', 1.0), (b'1657015575.4848256', 1.0), (b'1657015572.38663', 1.0), (b'1657015174.0725615', 1.0), (b'1657015172.7245755', 1.0), (b'1657015171.3713257', 1.0), (b'1657015170.0441606', 1.0), (b'1657015168.697005', 1.0), (b'1657015167.3703244', 1.0), (b'1657015166.0261784', 1.0), (b'1657015164.6906273', 1.0), (b'1657015163.3457174', 1.0), (b'1657015162.0202813', 1.0), (b'1657015160.6910462', 1.0), (b'1657015159.3452435', 1.0), (b'1657015157.993893', 1.0), (b'1657015156.6480775', 1.0), (b'1657015155.315551', 1.0), (b'1657015153.9728765', 1.0), (b'1657015152.6185937', 1.0), (b'1657015150.9690945', 1.0), (b'1657015149.400373', 1.0), (b'1657015147.6240249', 1.0), (b'1657015146.0015762', 1.0), (b'1657015144.6700625', 1.0), (b'1657015143.3232088', 1.0), (b'1657015141.9901843', 1.0), (b'1657015138.9999926', 1.0), (b'1657015067.6410751', 1.0), (b'1657015066.2833717', 1.0), (b'1657015064.9257262', 1.0), (b'1657015063.6008208', 1.0), (b'1657015062.2696471', 1.0), (b'1657015060.9264772', 1.0), (b'1657015059.5883577', 1.0), (b'1657015058.248435', 1.0), (b'1657015056.8941038', 1.0), (b'1657015055.550393', 1.0), (b'1657015054.2135239', 1.0), (b'1657015052.875189', 1.0), (b'1657015051.5386696', 1.0), (b'1657015050.1841323', 1.0), (b'1657015048.84533', 1.0), (b'1657015047.5084038', 1.0), (b'1657015045.8639636', 1.0), (b'1657015044.268893', 1.0), (b'1657015042.7639', 1.0), (b'1657015041.2142735', 1.0), (b'1657015039.8723261', 1.0), (b'1657015038.5338972', 1.0), (b'1657015037.163869', 1.0), (b'1657015035.825293', 1.0), (b'1657015032.8036008', 1.0), (b'1657014690.796702', 1.0), (b'1657014689.4595644', 1.0), (b'1657014688.1076303', 1.0), (b'1657014668.8066885', 1.0), (b'1657013437.165324', 1.0), (b'1657013435.8320065', 1.0), (b'1657013434.478154', 1.0), (b'1657013433.116058', 1.0), (b'1657013431.7500434', 1.0), (b'1657013430.4150088', 1.0), (b'1657013429.061175', 1.0), (b'1657013427.7052224', 1.0), (b'1657013426.348548', 1.0), (b'1657013424.9776201', 1.0), (b'1657013423.6220276', 1.0), (b'1657013422.271935', 1.0), (b'1657013420.928903', 1.0), (b'1657013419.5577905', 1.0), (b'1657013418.213438', 1.0), (b'1657013416.8617244', 1.0), (b'1657013415.5134547', 1.0), (b'1657013414.1645372', 1.0), (b'1657013412.7948756', 1.0), (b'1657013411.4378653', 1.0), (b'1657013410.0887508', 1.0), (b'1657013408.7403984', 1.0), (b'1657013407.0321064', 1.0), (b'1657013405.3854628', 1.0), (b'1657013243.7583616', 1.0), (b'1657013242.4041922', 1.0), (b'1657013241.0516987', 1.0), (b'1657013083.7192276', 1.0), (b'1657013082.3570952', 1.0), (b'1657013080.9896498', 1.0), (b'1656977210.1784408', 1.0), (b'1656977209.2352357', 1.0), (b'1656977208.2972074', 1.0), (b'1656977205.1679606', 1.0), (b'1656977175.3802876', 1.0), (b'1656977174.427678', 1.0), (b'1656977157.874868', 1.0), (b'1656977155.1623597', 1.0), (b'1656976344.3356268', 1.0), (b'1656976343.3724396', 1.0), (b'1656976342.4188368', 1.0), (b'1656976341.4850945', 1.0), (b'1656976340.5334492', 1.0), (b'1656976339.6053667', 1.0), (b'1656976338.679184', 1.0), (b'1656976337.7186515', 1.0), (b'1656976336.758614', 1.0), (b'1656976335.8039627', 1.0), (b'1656976334.8744378', 1.0), (b'1656976333.9013343', 1.0), (b'1656976332.9543886', 1.0), (b'1656976332.0004776', 1.0), (b'1656976331.0365963', 1.0), (b'1656976330.081634', 1.0), (b'1656976328.943477', 1.0), (b'1656976327.9751782', 1.0), (b'1656976327.0427356', 1.0), (b'1656976325.7198677', 1.0), (b'1656976324.5081959', 1.0), (b'1656976323.2382145', 1.0), (b'1656976322.0308042', 1.0), (b'1656976320.6763556', 1.0), (b'1656974283.1303496', 1.0), (b'1656974282.201857', 1.0), (b'1656974281.261806', 1.0), (b'1656974280.3367112', 1.0), (b'1656974279.4052923', 1.0), (b'1656974278.482065', 1.0), (b'1656974277.5599504', 1.0), (b'1656974276.6341703', 1.0), (b'1656974275.690566', 1.0), (b'1656974274.7390664', 1.0), (b'1656974273.8168218', 1.0), (b'1656974272.8961332', 1.0), (b'1656974271.9684086', 1.0), (b'1656974271.0334713', 1.0), (b'1656974270.104664', 1.0), (b'1656974269.1830792', 1.0), (b'1656974268.259754', 1.0), (b'1656974267.3581312', 1.0), (b'1656974266.452095', 1.0), (b'1656974265.5046976', 1.0), (b'1656974264.3361251', 1.0), (b'1656974263.427593', 1.0), (b'1656974262.4867454', 1.0), (b'1656974261.3270733', 1.0), (b'1657214706.4727147', 0.0), (b'1657214705.545513', 0.0), (b'1657214704.641975', 0.0), (b'1657214703.7177932', 0.0), (b'1657214702.7977593', 0.0), (b'1657214701.8752882', 0.0), (b'1657214700.952324', 0.0), (b'1657214700.0097597', 0.0), (b'1657214697.60368', 0.0), (b'1657214696.6920729', 0.0), (b'1657214695.7658148', 0.0), (b'1657214694.8679504', 0.0), (b'1657214692.8108892', 0.0), (b'1657214691.8842533', 0.0), (b'1657214690.97586', 0.0), (b'1657214690.0691946', 0.0), (b'1657214689.1544602', 0.0), (b'1657214688.2129726', 0.0), (b'1657214686.137649', 0.0), (b'1657214685.194293', 0.0), (b'1657214684.2651587', 0.0), (b'1657214683.3291883', 0.0), (b'1657214682.2135077', 0.0), (b'1657214681.3085594', 0.0), (b'1657214680.4059489', 0.0), (b'1657214679.5005713', 0.0), (b'1657214678.5810542', 0.0), (b'1657214677.6601756', 0.0), (b'1657214676.7303574', 0.0), (b'1657214675.779828', 0.0), (b'1657214674.8475294', 0.0), (b'1657214673.9228408', 0.0), (b'1657214673.001181', 0.0), (b'1657214672.0725963', 0.0), (b'1657214671.1283019', 0.0), (b'1657214670.2009113', 0.0), (b'1657214669.2764566', 0.0), (b'1657214668.3672833', 0.0), (b'1657214667.4662542', 0.0), (b'1657214666.518582', 0.0), (b'1657214665.6003084', 0.0), (b'1657214664.6521544', 0.0), (b'1657214662.819261', 0.0), (b'1657214661.8897874', 0.0), (b'1657214660.9611325', 0.0), (b'1657214660.0561368', 0.0), (b'1657214659.151227', 0.0), (b'1657214658.227578', 0.0), (b'1657214657.3034992', 0.0), (b'1657214656.3448896', 0.0), (b'1657214655.4221823', 0.0), (b'1657214654.5168347', 0.0), (b'1657214653.5933805', 0.0), (b'1657214652.6664133', 0.0), (b'1657214651.7495391', 0.0), (b'1657214650.8459494', 0.0), (b'1657214649.9208238', 0.0), (b'1657214648.0610006', 0.0), (b'1657214647.1082633', 0.0), (b'1657214624.1319563', 0.0), (b'1657200611.8300571', 0.0), (b'1657200610.7388115', 0.0), (b'1657200609.6758857', 0.0), (b'1657200608.6127293', 0.0), (b'1657200607.5296152', 0.0), (b'1657200606.4464903', 0.0), (b'1657200605.342265', 0.0), (b'1657200604.254331', 0.0), (b'1657200601.6859522', 0.0), (b'1657200600.6122367', 0.0), (b'1657200599.5219777', 0.0), (b'1657200598.4227843', 0.0), (b'1657200596.2076316', 0.0), (b'1657200595.1410542', 0.0), (b'1657200594.0606844', 0.0), (b'1657200592.9732943', 0.0), (b'1657200591.905978', 0.0), (b'1657200590.8296785', 0.0), (b'1657200588.618527', 0.0), (b'1657200587.540333', 0.0), (b'1657200586.4580557', 0.0), (b'1657200585.3756034', 0.0), (b'1657200584.0895815', 0.0), (b'1657200583.0293458', 0.0), (b'1657200581.9572785', 0.0), (b'1657200580.884475', 0.0), (b'1657200579.7984703', 0.0), (b'1657200578.7389245', 0.0), (b'1657200577.6770723', 0.0), (b'1657200576.5992775', 0.0), (b'1657200575.5144837', 0.0), (b'1657200574.4526718', 0.0), (b'1657200573.3729436', 0.0), (b'1657200572.29443', 0.0), (b'1657200571.2352328', 0.0), (b'1657200570.153396', 0.0), (b'1657200569.0937755', 0.0), (b'1657200568.0051718', 0.0), (b'1657200566.9208503', 0.0), (b'1657200565.857444', 0.0), (b'1657200564.777688', 0.0), (b'1657200563.7167463', 0.0), (b'1657200561.8300314', 0.0), (b'1657200560.7317948', 0.0), (b'1657200559.6380107', 0.0), (b'1657200558.5642416', 0.0), (b'1657200557.5003066', 0.0), (b'1657200556.44018', 0.0), (b'1657200555.3645642', 0.0), (b'1657200554.2908747', 0.0), (b'1657200553.2076144', 0.0), (b'1657200552.1079452', 0.0), (b'1657200551.0398805', 0.0), (b'1657200549.96942', 0.0), (b'1657200548.9012918', 0.0), (b'1657200547.82384', 0.0), (b'1657200546.7675858', 0.0), (b'1657200544.7598634', 0.0), (b'1657200543.6542592', 0.0), (b'1657200528.9556503', 0.0), (b'1657103640.050528', 0.0), (b'1657103638.696825', 0.0), (b'1657103637.303659', 0.0), (b'1657103635.911016', 0.0), (b'1657103634.5582473', 0.0), (b'1657103633.1823652', 0.0), (b'1657103631.8084958', 0.0), (b'1657103630.4606144', 0.0), (b'1657103627.5636368', 0.0), (b'1657103621.0081224', 0.0), (b'1657103618.2714424', 0.0), (b'1657103616.8957207', 0.0), (b'1657103615.3184185', 0.0), (b'1657103613.957948', 0.0), (b'1657103610.9861262', 0.0), (b'1657103608.2706492', 0.0), (b'1657103606.9032307', 0.0), (b'1657103605.2632375', 0.0), (b'1657103574.1995506', 0.0), (b'1657103570.09169', 0.0), (b'1657103568.721898', 0.0), (b'1657103567.3357468', 0.0), (b'1657103565.7569702', 0.0), (b'1657103564.3974876', 0.0), (b'1657103563.029471', 0.0), (b'1657103561.6692295', 0.0), (b'1657103559.93222', 0.0), (b'1657103558.4231606', 0.0), (b'1657103557.0362444', 0.0), (b'1657103555.6513145', 0.0), (b'1657103554.3137054', 0.0), (b'1657103552.523481', 0.0), (b'1657016216.0562634', 0.0), (b'1657016212.048206', 0.0), (b'1657016210.7128642', 0.0), (b'1657016209.3895628', 0.0), (b'1657016208.0661104', 0.0), (b'1657016206.7419689', 0.0), (b'1657016205.4026737', 0.0), (b'1657016204.0629852', 0.0), (b'1657016202.7341714', 0.0), (b'1657016201.3823233', 0.0), (b'1657016200.0462859', 0.0), (b'1657016198.7008414', 0.0), (b'1657016197.3842487', 0.0), (b'1657016195.0851862', 0.0), (b'1657015850.5190496', 0.0), (b'1657015849.1566172', 0.0), (b'1657015847.816308', 0.0), (b'1657015846.4489605', 0.0), (b'1657015845.1094038', 0.0), (b'1657015843.748013', 0.0), (b'1657015842.4107454', 0.0), (b'1657015841.0741985', 0.0), (b'1657015839.728329', 0.0), (b'1657015838.3892975', 0.0), (b'1657015837.0336375', 0.0), (b'1657015835.6926012', 0.0), (b'1657015834.3454657', 0.0), (b'1657015832.9884217', 0.0), (b'1657015831.649622', 0.0), (b'1657015830.3119326', 0.0), (b'1657015828.9556553', 0.0), (b'1657015825.7631316', 0.0), (b'1657015635.3737247', 0.0), (b'1657015633.9915211', 0.0), (b'1657015632.6274805', 0.0), (b'1657015631.2631638', 0.0), (b'1657015629.8725376', 0.0), (b'1657015628.4999962', 0.0), (b'1657015627.112886', 0.0), (b'1657015625.7584233', 0.0), (b'1657015624.4046934', 0.0), (b'1657015623.0317483', 0.0), (b'1657015621.6477904', 0.0), (b'1657015620.2651198', 0.0), (b'1657015618.8929062', 0.0), (b'1657015617.5009053', 0.0), (b'1657015616.136789', 0.0), (b'1657015614.7614002', 0.0), (b'1657015613.3946767', 0.0), (b'1657015610.1379697', 0.0), (b'1657015200.17715', 0.0), (b'1657015198.8251572', 0.0), (b'1657015197.4820042', 0.0), (b'1657015196.120249', 0.0), (b'1657015194.7765937', 0.0), (b'1657015193.4323063', 0.0), (b'1657015192.07235', 0.0), (b'1657015190.7271738', 0.0), (b'1657015189.3672025', 0.0), (b'1657015188.0340002', 0.0), (b'1657015186.706458', 0.0), (b'1657015185.3533294', 0.0), (b'1657015183.9909098', 0.0), (b'1657015182.6242402', 0.0), (b'1657015181.2824726', 0.0), (b'1657015179.9505973', 0.0), (b'1657015178.5834327', 0.0), (b'1657015175.3988075', 0.0), (b'1657015094.2012353', 0.0), (b'1657015092.8720863', 0.0), (b'1657015091.5346887', 0.0), (b'1657015090.1940138', 0.0), (b'1657015088.8668137', 0.0), (b'1657015087.5113082', 0.0), (b'1657015086.1487784', 0.0), (b'1657015084.8209898', 0.0), (b'1657015083.378668', 0.0), (b'1657015081.947127', 0.0), (b'1657015080.6073942', 0.0), (b'1657015078.9587789', 0.0), (b'1657015077.5966735', 0.0), (b'1657015076.2790914', 0.0), (b'1657015074.9277523', 0.0), (b'1657015073.5806005', 0.0), (b'1657015072.2595918', 0.0), (b'1657015069.0048287', 0.0), (b'1657014744.9910593', 0.0), (b'1657014743.652779', 0.0), (b'1657014742.2953904', 0.0), (b'1657014740.921958', 0.0), (b'1657014739.5663931', 0.0), (b'1657014738.2015789', 0.0), (b'1657014736.846432', 0.0), (b'1657014735.5001206', 0.0), (b'1657014734.12713', 0.0), (b'1657014732.7843916', 0.0), (b'1657014731.4493797', 0.0), (b'1657014730.0734613', 0.0), (b'1657014728.7275605', 0.0), (b'1657014727.353716', 0.0), (b'1657014726.01545', 0.0), (b'1657014724.6770837', 0.0), (b'1657014723.3237913', 0.0), (b'1657014721.9448414', 0.0), (b'1657014720.5900562', 0.0), (b'1657014719.2177327', 0.0), (b'1657014717.8766725', 0.0), (b'1657014716.5059843', 0.0), (b'1657014715.1481457', 0.0), (b'1657014713.7930133', 0.0), (b'1657014712.438481', 0.0), (b'1657014711.077747', 0.0), (b'1657014709.7277474', 0.0), (b'1657014708.3632603', 0.0), (b'1657014707.0115144', 0.0), (b'1657014705.657398', 0.0), (b'1657014704.286838', 0.0), (b'1657014702.9167774', 0.0), (b'1657014701.5662732', 0.0), (b'1657014700.2287881', 0.0), (b'1657014698.8940103', 0.0), (b'1657014697.5422482', 0.0), (b'1657014696.1861615', 0.0), (b'1657014694.831691', 0.0), (b'1657014692.1322608', 0.0), (b'1657013507.972073', 0.0), (b'1657013506.6070478', 0.0), (b'1657013505.251614', 0.0), (b'1657013503.8965135', 0.0), (b'1657013502.5454257', 0.0), (b'1657013501.1775556', 0.0), (b'1657013499.8265672', 0.0), (b'1657013498.487156', 0.0), (b'1657013497.1427069', 0.0), (b'1657013495.8035376', 0.0), (b'1657013494.470456', 0.0), (b'1657013493.1235154', 0.0), (b'1657013491.7784488', 0.0), (b'1657013490.4055622', 0.0), (b'1657013489.0715902', 0.0), (b'1657013487.7348187', 0.0), (b'1657013486.4029877', 0.0), (b'1657013485.0534592', 0.0), (b'1657013483.702535', 0.0), (b'1657013482.3383012', 0.0), (b'1657013480.9878407', 0.0), (b'1657013479.6445575', 0.0), (b'1657013478.272973', 0.0), (b'1657013476.9371486', 0.0), (b'1657013475.593146', 0.0), (b'1657013474.2396092', 0.0), (b'1657013472.8954442', 0.0), (b'1657013471.5549352', 0.0), (b'1657013470.211973', 0.0), (b'1657013468.859017', 0.0), (b'1657013467.5183463', 0.0), (b'1657013466.1517673', 0.0), (b'1657013464.7968733', 0.0), (b'1657013463.458663', 0.0), (b'1657013462.1192799', 0.0), (b'1657013460.7823856', 0.0), (b'1657013459.4047134', 0.0), (b'1657013458.0363996', 0.0), (b'1657013456.6798332', 0.0), (b'1657013455.3281724', 0.0), (b'1657013453.9863398', 0.0), (b'1657013452.6420891', 0.0), (b'1657013451.2860594', 0.0), (b'1657013449.938894', 0.0), (b'1657013448.5646377', 0.0), (b'1657013447.2051287', 0.0), (b'1657013445.8660831', 0.0), (b'1657013444.5162368', 0.0), (b'1657013443.1746101', 0.0), (b'1657013441.8378315', 0.0), (b'1657013440.482065', 0.0), (b'1657013438.5095956', 0.0), (b'1657013393.9531543', 0.0), (b'1657013299.0957143', 0.0), (b'1657013297.758773', 0.0), (b'1657013296.4163628', 0.0), (b'1657013295.0759661', 0.0), (b'1657013293.710317', 0.0), (b'1657013292.3710423', 0.0), (b'1657013291.0118337', 0.0), (b'1657013289.6438375', 0.0), (b'1657013288.2923744', 0.0), (b'1657013286.9211652', 0.0), (b'1657013285.531813', 0.0), (b'1657013284.1443238', 0.0), (b'1657013282.7542307', 0.0), (b'1657013281.3809357', 0.0), (b'1657013280.0216525', 0.0), (b'1657013278.55382', 0.0), (b'1657013277.1872745', 0.0), (b'1657013275.8159149', 0.0), (b'1657013274.4595053', 0.0), (b'1657013273.0857964', 0.0), (b'1657013271.7152145', 0.0), (b'1657013270.3610015', 0.0), (b'1657013268.990979', 0.0), (b'1657013267.6082208', 0.0), (b'1657013266.2163393', 0.0), (b'1657013264.8493543', 0.0), (b'1657013263.483616', 0.0), (b'1657013262.142502', 0.0), (b'1657013260.812526', 0.0), (b'1657013259.4697', 0.0), (b'1657013258.1242905', 0.0), (b'1657013256.7816944', 0.0), (b'1657013255.4285812', 0.0), (b'1657013254.100705', 0.0), (b'1657013252.7420032', 0.0), (b'1657013251.3891153', 0.0), (b'1657013250.0591617', 0.0), (b'1657013248.7278316', 0.0), (b'1657013247.3725774', 0.0), (b'1657013245.106333', 0.0), (b'1657013138.7293746', 0.0), (b'1657013137.3827567', 0.0), (b'1657013136.034922', 0.0), (b'1657013134.663288', 0.0), (b'1657013133.3155856', 0.0), (b'1657013131.7085938', 0.0), (b'1657013130.3557277', 0.0), (b'1657013129.0052', 0.0), (b'1657013127.650575', 0.0), (b'1657013126.2971747', 0.0), (b'1657013124.96894', 0.0), (b'1657013123.6366582', 0.0), (b'1657013122.2687037', 0.0), (b'1657013120.911598', 0.0), (b'1657013119.5648167', 0.0), (b'1657013118.2101343', 0.0), (b'1657013116.8478825', 0.0), (b'1657013115.4948127', 0.0), (b'1657013114.1396139', 0.0), (b'1657013112.7820792', 0.0), (b'1657013111.428114', 0.0), (b'1657013110.072838', 0.0), (b'1657013108.7157326', 0.0), (b'1657013107.3638012', 0.0), (b'1657013105.9911726', 0.0), (b'1657013104.6355371', 0.0), (b'1657013103.2748344', 0.0), (b'1657013101.9005294', 0.0), (b'1657013100.53036', 0.0), (b'1657013099.1933901', 0.0), (b'1657013097.85343', 0.0), (b'1657013096.4950337', 0.0), (b'1657013095.1308832', 0.0), (b'1657013093.74655', 0.0), (b'1657013092.3706496', 0.0), (b'1657013090.9933584', 0.0), (b'1657013089.6549065', 0.0), (b'1657013088.3086042', 0.0), (b'1657013086.9659355', 0.0), (b'1657013085.0599027', 0.0), (b'1656977220.1861293', 0.0), (b'1656977219.2576008', 0.0), (b'1656977218.3479717', 0.0), (b'1656977217.4383802', 0.0), (b'1656977216.5155497', 0.0), (b'1656977215.6007001', 0.0), (b'1656977214.670749', 0.0), (b'1656977213.7532096', 0.0), (b'1656977211.099584', 0.0), (b'1656977206.104547', 0.0), (b'1656977204.2369611', 0.0), (b'1656977203.293427', 0.0), (b'1656977202.3521616', 0.0), (b'1656977201.1046836', 0.0), (b'1656977200.1653683', 0.0), (b'1656977199.2450244', 0.0), (b'1656977198.2939029', 0.0), (b'1656977197.3589337', 0.0), (b'1656977196.3995535', 0.0), (b'1656977195.4483323', 0.0), (b'1656977194.23102', 0.0), (b'1656977193.2651556', 0.0), (b'1656977192.3259387', 0.0), (b'1656977191.3846517', 0.0), (b'1656977190.444868', 0.0), (b'1656977189.4946785', 0.0), (b'1656977188.445197', 0.0), (b'1656977187.497986', 0.0), (b'1656977186.5606058', 0.0), (b'1656977185.6167564', 0.0), (b'1656977184.6625087', 0.0), (b'1656977183.7436347', 0.0), (b'1656977182.8014374', 0.0), (b'1656977181.8753836', 0.0), (b'1656977180.9310317', 0.0), (b'1656977179.9732032', 0.0), (b'1656977179.034419', 0.0), (b'1656977178.119299', 0.0), (b'1656977176.3137133', 0.0), (b'1656977173.493771', 0.0), (b'1656977172.571967', 0.0), (b'1656977171.6218953', 0.0), (b'1656977170.679742', 0.0), (b'1656977169.7299', 0.0), (b'1656977168.7801516', 0.0), (b'1656977167.8239412', 0.0), (b'1656977166.5825918', 0.0), (b'1656977165.3070314', 0.0), (b'1656977163.7994823', 0.0), (b'1656977162.4528606', 0.0), (b'1656977161.3132644', 0.0), (b'1656977158.9236114', 0.0), (b'1656976395.4410193', 0.0), (b'1656976394.4976697', 0.0), (b'1656976393.5588193', 0.0), (b'1656976392.6299806', 0.0), (b'1656976391.6254833', 0.0), (b'1656976390.6580455', 0.0), (b'1656976389.729945', 0.0), (b'1656976388.777244', 0.0), (b'1656976387.8382356', 0.0), (b'1656976386.8946385', 0.0), (b'1656976385.9515731', 0.0), (b'1656976385.0164266', 0.0), (b'1656976384.0553572', 0.0), (b'1656976383.1247232', 0.0), (b'1656976382.196857', 0.0), (b'1656976381.24147', 0.0), (b'1656976380.2915702', 0.0), (b'1656976379.3448298', 0.0), (b'1656976378.3926823', 0.0), (b'1656976377.4338095', 0.0), (b'1656976376.4879513', 0.0), (b'1656976375.543877', 0.0), (b'1656976374.5977232', 0.0), (b'1656976373.6647305', 0.0), (b'1656976372.7087882', 0.0), (b'1656976371.747884', 0.0), (b'1656976370.784182', 0.0), (b'1656976369.8320758', 0.0), (b'1656976368.894413', 0.0), (b'1656976367.938672', 0.0), (b'1656976366.9924097', 0.0), (b'1656976366.029546', 0.0), (b'1656976365.0924191', 0.0), (b'1656976364.1230922', 0.0), (b'1656976363.1511533', 0.0), (b'1656976361.8568344', 0.0), (b'1656976360.8501465', 0.0), (b'1656976359.5115466', 0.0), (b'1656976358.4282', 0.0), (b'1656976357.1535907', 0.0), (b'1656976356.2034817', 0.0), (b'1656976355.2807665', 0.0), (b'1656976354.3331647', 0.0), (b'1656976353.3707182', 0.0), (b'1656976352.4166853', 0.0), (b'1656976351.4847162', 0.0), (b'1656976350.5308914', 0.0), (b'1656976349.5939472', 0.0), (b'1656976348.6538804', 0.0), (b'1656976347.6726615', 0.0), (b'1656976346.7462687', 0.0), (b'1656976345.2783477', 0.0), (b'1656976317.422421', 0.0), (b'1656974332.4491844', 0.0), (b'1656974331.507211', 0.0), (b'1656974330.5782304', 0.0), (b'1656974329.6551402', 0.0), (b'1656974328.7265403', 0.0), (b'1656974327.815753', 0.0), (b'1656974326.8792284', 0.0), (b'1656974325.96656', 0.0), (b'1656974325.0209987', 0.0), (b'1656974324.080156', 0.0), (b'1656974323.1424315', 0.0), (b'1656974322.2393858', 0.0), (b'1656974321.3291008', 0.0), (b'1656974320.425178', 0.0), (b'1656974319.5196285', 0.0), (b'1656974318.5857697', 0.0), (b'1656974317.6417272', 0.0), (b'1656974316.7121863', 0.0), (b'1656974315.7890844', 0.0), (b'1656974314.8481154', 0.0), (b'1656974313.9212744', 0.0), (b'1656974312.9795723', 0.0), (b'1656974312.0373058', 0.0), (b'1656974311.114094', 0.0), (b'1656974310.193085', 0.0), (b'1656974309.2469974', 0.0), (b'1656974308.3054585', 0.0), (b'1656974307.3717215', 0.0), (b'1656974306.4372795', 0.0), (b'1656974305.504525', 0.0), (b'1656974304.5817835', 0.0), (b'1656974303.6579106', 0.0), (b'1656974302.7094402', 0.0), (b'1656974301.7988813', 0.0), (b'1656974300.8753977', 0.0), (b'1656974299.9640903', 0.0), (b'1656974299.0173242', 0.0), (b'1656974298.08436', 0.0), (b'1656974297.1800632', 0.0), (b'1656974296.2668924', 0.0), (b'1656974295.3485858', 0.0), (b'1656974294.4265857', 0.0), (b'1656974293.4988592', 0.0), (b'1656974292.5796494', 0.0), (b'1656974291.6502233', 0.0), (b'1656974290.7226865', 0.0), (b'1656974289.8162632', 0.0), (b'1656974288.886241', 0.0), (b'1656974287.944205', 0.0), (b'1656974287.0082765', 0.0), (b'1656974286.0798557', 0.0), (b'1656974284.0552242', 0.0), (b'1656974237.9582071', 0.0)]\n",
            "[(b'1657103626.2012215', 1.0), (b'1657103624.8298075', 1.0), (b'1657103623.4938731', 1.0), (b'1657103619.6384394', 1.0), (b'1657103609.6335204', 1.0), (b'1657103603.6944203', 1.0), (b'1657103602.3022876', 1.0), (b'1657103600.9189684', 1.0), (b'1657103599.571505', 1.0), (b'1657103597.9524422', 1.0), (b'1657103596.2275257', 1.0), (b'1657103594.8534446', 1.0), (b'1657103593.257203', 1.0), (b'1657103591.833376', 1.0), (b'1657103590.4464722', 1.0), (b'1657103588.7903311', 1.0), (b'1657103587.4159276', 1.0), (b'1657103585.773589', 1.0), (b'1657103584.089607', 1.0), (b'1657103582.7247458', 1.0), (b'1657103581.3597012', 1.0), (b'1657103579.995726', 1.0), (b'1657103578.6096056', 1.0), (b'1657103577.2320063', 1.0), (b'1657103572.8303692', 1.0), (b'1657103571.4407291', 1.0), (b'1657103551.1756551', 1.0), (b'1657103544.616569', 1.0), (b'1657016242.1002276', 1.0), (b'1657016240.7856257', 1.0), (b'1657016239.4800627', 1.0), (b'1657016238.1577773', 1.0), (b'1657016236.8419657', 1.0), (b'1657016235.5092938', 1.0), (b'1657016234.1839104', 1.0), (b'1657016232.8402843', 1.0), (b'1657016231.525337', 1.0), (b'1657016230.1882708', 1.0), (b'1657016228.8537705', 1.0), (b'1657016227.520803', 1.0), (b'1657016226.1858954', 1.0), (b'1657016224.8477674', 1.0), (b'1657016223.5108635', 1.0), (b'1657016222.168345', 1.0), (b'1657016220.8302388', 1.0), (b'1657016219.509541', 1.0), (b'1657016218.1994343', 1.0), (b'1657016214.7256541', 1.0), (b'1657016213.3729398', 1.0), (b'1657016193.7418191', 1.0), (b'1657016174.8245249', 1.0), (b'1657015824.4084094', 1.0), (b'1657015823.0546045', 1.0), (b'1657015821.694126', 1.0), (b'1657015820.337515', 1.0), (b'1657015818.9693322', 1.0), (b'1657015817.5927682', 1.0), (b'1657015816.2318127', 1.0), (b'1657015814.8698428', 1.0), (b'1657015813.4948137', 1.0), (b'1657015812.130283', 1.0), (b'1657015810.7640433', 1.0), (b'1657015809.4261053', 1.0), (b'1657015808.0724607', 1.0), (b'1657015806.7159328', 1.0), (b'1657015805.3367834', 1.0), (b'1657015803.9814708', 1.0), (b'1657015802.6152003', 1.0), (b'1657015801.064456', 1.0), (b'1657015799.422095', 1.0), (b'1657015797.6959836', 1.0), (b'1657015796.0074236', 1.0), (b'1657015794.6446502', 1.0), (b'1657015793.2840872', 1.0), (b'1657015791.804605', 1.0), (b'1657015788.34633', 1.0), (b'1657015608.7482204', 1.0), (b'1657015607.3933353', 1.0), (b'1657015606.0069702', 1.0), (b'1657015604.6229963', 1.0), (b'1657015603.2641973', 1.0), (b'1657015601.8868763', 1.0), (b'1657015600.5296397', 1.0), (b'1657015599.168215', 1.0), (b'1657015597.8047059', 1.0), (b'1657015596.4490364', 1.0), (b'1657015595.075205', 1.0), (b'1657015593.694532', 1.0), (b'1657015592.3163712', 1.0), (b'1657015590.9525213', 1.0), (b'1657015589.5756133', 1.0), (b'1657015588.2149208', 1.0), (b'1657015586.8228765', 1.0), (b'1657015585.016949', 1.0), (b'1657015583.2810752', 1.0), (b'1657015581.5210662', 1.0), (b'1657015579.74655', 1.0), (b'1657015578.3713741', 1.0), (b'1657015576.8807478', 1.0), (b'1657015575.4848256', 1.0), (b'1657015572.38663', 1.0), (b'1657015174.0725615', 1.0), (b'1657015172.7245755', 1.0), (b'1657015171.3713257', 1.0), (b'1657015170.0441606', 1.0), (b'1657015168.697005', 1.0), (b'1657015167.3703244', 1.0), (b'1657015166.0261784', 1.0), (b'1657015164.6906273', 1.0), (b'1657015163.3457174', 1.0), (b'1657015162.0202813', 1.0), (b'1657015160.6910462', 1.0), (b'1657015159.3452435', 1.0), (b'1657015157.993893', 1.0), (b'1657015156.6480775', 1.0), (b'1657015155.315551', 1.0), (b'1657015153.9728765', 1.0), (b'1657015152.6185937', 1.0), (b'1657015150.9690945', 1.0), (b'1657015149.400373', 1.0), (b'1657015147.6240249', 1.0), (b'1657015146.0015762', 1.0), (b'1657015144.6700625', 1.0), (b'1657015143.3232088', 1.0), (b'1657015141.9901843', 1.0), (b'1657015138.9999926', 1.0), (b'1657015067.6410751', 1.0), (b'1657015066.2833717', 1.0), (b'1657015064.9257262', 1.0), (b'1657015063.6008208', 1.0), (b'1657015062.2696471', 1.0), (b'1657015060.9264772', 1.0), (b'1657015059.5883577', 1.0), (b'1657015058.248435', 1.0), (b'1657015056.8941038', 1.0), (b'1657015055.550393', 1.0), (b'1657015054.2135239', 1.0), (b'1657015052.875189', 1.0), (b'1657015051.5386696', 1.0), (b'1657015050.1841323', 1.0), (b'1657015048.84533', 1.0), (b'1657015047.5084038', 1.0), (b'1657015045.8639636', 1.0), (b'1657015044.268893', 1.0), (b'1657015042.7639', 1.0), (b'1657015041.2142735', 1.0), (b'1657015039.8723261', 1.0), (b'1657015038.5338972', 1.0), (b'1657015037.163869', 1.0), (b'1657015035.825293', 1.0), (b'1657015032.8036008', 1.0), (b'1657014690.796702', 1.0), (b'1657014689.4595644', 1.0), (b'1657014688.1076303', 1.0), (b'1657014668.8066885', 1.0), (b'1657013437.165324', 1.0), (b'1657013435.8320065', 1.0), (b'1657013434.478154', 1.0), (b'1657013433.116058', 1.0), (b'1657013431.7500434', 1.0), (b'1657013430.4150088', 1.0), (b'1657013429.061175', 1.0), (b'1657013427.7052224', 1.0), (b'1657013426.348548', 1.0), (b'1657013424.9776201', 1.0), (b'1657013423.6220276', 1.0), (b'1657013422.271935', 1.0), (b'1657013420.928903', 1.0), (b'1657013419.5577905', 1.0), (b'1657013418.213438', 1.0), (b'1657013416.8617244', 1.0), (b'1657013415.5134547', 1.0), (b'1657013414.1645372', 1.0), (b'1657013412.7948756', 1.0), (b'1657013411.4378653', 1.0), (b'1657013410.0887508', 1.0), (b'1657013408.7403984', 1.0), (b'1657013407.0321064', 1.0), (b'1657013405.3854628', 1.0), (b'1657013243.7583616', 1.0), (b'1657013242.4041922', 1.0), (b'1657013241.0516987', 1.0), (b'1657013083.7192276', 1.0), (b'1657013082.3570952', 1.0), (b'1657013080.9896498', 1.0), (b'1656977210.1784408', 1.0), (b'1656977209.2352357', 1.0), (b'1656977208.2972074', 1.0), (b'1656977205.1679606', 1.0), (b'1656977175.3802876', 1.0), (b'1656977174.427678', 1.0), (b'1656977157.874868', 1.0), (b'1656977155.1623597', 1.0), (b'1656976344.3356268', 1.0), (b'1656976343.3724396', 1.0), (b'1656976342.4188368', 1.0), (b'1656976341.4850945', 1.0), (b'1656976340.5334492', 1.0), (b'1656976339.6053667', 1.0), (b'1656976338.679184', 1.0), (b'1656976337.7186515', 1.0), (b'1656976336.758614', 1.0), (b'1656976335.8039627', 1.0), (b'1656976334.8744378', 1.0), (b'1656976333.9013343', 1.0), (b'1656976332.9543886', 1.0), (b'1656976332.0004776', 1.0), (b'1656976331.0365963', 1.0), (b'1656976330.081634', 1.0), (b'1656976328.943477', 1.0), (b'1656976327.9751782', 1.0), (b'1656976327.0427356', 1.0), (b'1656976325.7198677', 1.0), (b'1656976324.5081959', 1.0), (b'1656976323.2382145', 1.0), (b'1656976322.0308042', 1.0), (b'1656976320.6763556', 1.0), (b'1656974283.1303496', 1.0), (b'1656974282.201857', 1.0), (b'1656974281.261806', 1.0), (b'1656974280.3367112', 1.0), (b'1656974279.4052923', 1.0), (b'1656974278.482065', 1.0), (b'1656974277.5599504', 1.0), (b'1656974276.6341703', 1.0), (b'1656974275.690566', 1.0), (b'1656974274.7390664', 1.0), (b'1656974273.8168218', 1.0), (b'1656974272.8961332', 1.0), (b'1656974271.9684086', 1.0), (b'1656974271.0334713', 1.0), (b'1656974270.104664', 1.0), (b'1656974269.1830792', 1.0), (b'1656974268.259754', 1.0), (b'1656974267.3581312', 1.0), (b'1656974266.452095', 1.0), (b'1656974265.5046976', 1.0), (b'1656974264.3361251', 1.0), (b'1656974263.427593', 1.0), (b'1656974262.4867454', 1.0), (b'1656974261.3270733', 1.0), (b'1657214706.4727147', 0.0), (b'1657214705.545513', 0.0), (b'1657214704.641975', 0.0), (b'1657214703.7177932', 0.0), (b'1657214702.7977593', 0.0), (b'1657214701.8752882', 0.0), (b'1657214700.952324', 0.0), (b'1657214700.0097597', 0.0), (b'1657214697.60368', 0.0), (b'1657214696.6920729', 0.0), (b'1657214695.7658148', 0.0), (b'1657214694.8679504', 0.0), (b'1657214692.8108892', 0.0), (b'1657214691.8842533', 0.0), (b'1657214690.97586', 0.0), (b'1657214690.0691946', 0.0), (b'1657214689.1544602', 0.0), (b'1657214688.2129726', 0.0), (b'1657214686.137649', 0.0), (b'1657214685.194293', 0.0), (b'1657214684.2651587', 0.0), (b'1657214683.3291883', 0.0), (b'1657214682.2135077', 0.0), (b'1657214681.3085594', 0.0), (b'1657214680.4059489', 0.0), (b'1657214679.5005713', 0.0), (b'1657214678.5810542', 0.0), (b'1657214677.6601756', 0.0), (b'1657214676.7303574', 0.0), (b'1657214675.779828', 0.0), (b'1657214674.8475294', 0.0), (b'1657214673.9228408', 0.0), (b'1657214673.001181', 0.0), (b'1657214672.0725963', 0.0), (b'1657214671.1283019', 0.0), (b'1657214670.2009113', 0.0), (b'1657214669.2764566', 0.0), (b'1657214668.3672833', 0.0), (b'1657214667.4662542', 0.0), (b'1657214666.518582', 0.0), (b'1657214665.6003084', 0.0), (b'1657214664.6521544', 0.0), (b'1657214662.819261', 0.0), (b'1657214661.8897874', 0.0), (b'1657214660.9611325', 0.0), (b'1657214660.0561368', 0.0), (b'1657214659.151227', 0.0), (b'1657214658.227578', 0.0), (b'1657214657.3034992', 0.0), (b'1657214656.3448896', 0.0), (b'1657214655.4221823', 0.0), (b'1657214654.5168347', 0.0), (b'1657214653.5933805', 0.0), (b'1657214652.6664133', 0.0), (b'1657214651.7495391', 0.0), (b'1657214650.8459494', 0.0), (b'1657214649.9208238', 0.0), (b'1657214648.0610006', 0.0), (b'1657214647.1082633', 0.0), (b'1657214624.1319563', 0.0), (b'1657200611.8300571', 0.0), (b'1657200610.7388115', 0.0), (b'1657200609.6758857', 0.0), (b'1657200608.6127293', 0.0), (b'1657200607.5296152', 0.0), (b'1657200606.4464903', 0.0), (b'1657200605.342265', 0.0), (b'1657200604.254331', 0.0), (b'1657200601.6859522', 0.0), (b'1657200600.6122367', 0.0), (b'1657200599.5219777', 0.0), (b'1657200598.4227843', 0.0), (b'1657200596.2076316', 0.0), (b'1657200595.1410542', 0.0), (b'1657200594.0606844', 0.0), (b'1657200592.9732943', 0.0), (b'1657200591.905978', 0.0), (b'1657200590.8296785', 0.0), (b'1657200588.618527', 0.0), (b'1657200587.540333', 0.0), (b'1657200586.4580557', 0.0), (b'1657200585.3756034', 0.0), (b'1657200584.0895815', 0.0), (b'1657200583.0293458', 0.0), (b'1657200581.9572785', 0.0), (b'1657200580.884475', 0.0), (b'1657200579.7984703', 0.0), (b'1657200578.7389245', 0.0), (b'1657200577.6770723', 0.0), (b'1657200576.5992775', 0.0), (b'1657200575.5144837', 0.0), (b'1657200574.4526718', 0.0), (b'1657200573.3729436', 0.0), (b'1657200572.29443', 0.0), (b'1657200571.2352328', 0.0), (b'1657200570.153396', 0.0), (b'1657200569.0937755', 0.0), (b'1657200568.0051718', 0.0), (b'1657200566.9208503', 0.0), (b'1657200565.857444', 0.0), (b'1657200564.777688', 0.0), (b'1657200563.7167463', 0.0), (b'1657200561.8300314', 0.0), (b'1657200560.7317948', 0.0), (b'1657200559.6380107', 0.0), (b'1657200558.5642416', 0.0), (b'1657200557.5003066', 0.0), (b'1657200556.44018', 0.0), (b'1657200555.3645642', 0.0), (b'1657200554.2908747', 0.0), (b'1657200553.2076144', 0.0), (b'1657200552.1079452', 0.0), (b'1657200551.0398805', 0.0), (b'1657200549.96942', 0.0), (b'1657200548.9012918', 0.0), (b'1657200547.82384', 0.0), (b'1657200546.7675858', 0.0), (b'1657200544.7598634', 0.0), (b'1657200543.6542592', 0.0), (b'1657200528.9556503', 0.0), (b'1657103640.050528', 0.0), (b'1657103638.696825', 0.0), (b'1657103637.303659', 0.0), (b'1657103635.911016', 0.0), (b'1657103634.5582473', 0.0), (b'1657103633.1823652', 0.0), (b'1657103631.8084958', 0.0), (b'1657103630.4606144', 0.0), (b'1657103627.5636368', 0.0), (b'1657103621.0081224', 0.0), (b'1657103618.2714424', 0.0), (b'1657103616.8957207', 0.0), (b'1657103615.3184185', 0.0), (b'1657103613.957948', 0.0), (b'1657103610.9861262', 0.0), (b'1657103608.2706492', 0.0), (b'1657103606.9032307', 0.0), (b'1657103605.2632375', 0.0), (b'1657103574.1995506', 0.0), (b'1657103570.09169', 0.0), (b'1657103568.721898', 0.0), (b'1657103567.3357468', 0.0), (b'1657103565.7569702', 0.0), (b'1657103564.3974876', 0.0), (b'1657103563.029471', 0.0), (b'1657103561.6692295', 0.0), (b'1657103559.93222', 0.0), (b'1657103558.4231606', 0.0), (b'1657103557.0362444', 0.0), (b'1657103555.6513145', 0.0), (b'1657103554.3137054', 0.0), (b'1657103552.523481', 0.0), (b'1657016216.0562634', 0.0), (b'1657016212.048206', 0.0), (b'1657016210.7128642', 0.0), (b'1657016209.3895628', 0.0), (b'1657016208.0661104', 0.0), (b'1657016206.7419689', 0.0), (b'1657016205.4026737', 0.0), (b'1657016204.0629852', 0.0), (b'1657016202.7341714', 0.0), (b'1657016201.3823233', 0.0), (b'1657016200.0462859', 0.0), (b'1657016198.7008414', 0.0), (b'1657016197.3842487', 0.0), (b'1657016195.0851862', 0.0), (b'1657015850.5190496', 0.0), (b'1657015849.1566172', 0.0), (b'1657015847.816308', 0.0), (b'1657015846.4489605', 0.0), (b'1657015845.1094038', 0.0), (b'1657015843.748013', 0.0), (b'1657015842.4107454', 0.0), (b'1657015841.0741985', 0.0), (b'1657015839.728329', 0.0), (b'1657015838.3892975', 0.0), (b'1657015837.0336375', 0.0), (b'1657015835.6926012', 0.0), (b'1657015834.3454657', 0.0), (b'1657015832.9884217', 0.0), (b'1657015831.649622', 0.0), (b'1657015830.3119326', 0.0), (b'1657015828.9556553', 0.0), (b'1657015825.7631316', 0.0), (b'1657015635.3737247', 0.0), (b'1657015633.9915211', 0.0), (b'1657015632.6274805', 0.0), (b'1657015631.2631638', 0.0), (b'1657015629.8725376', 0.0), (b'1657015628.4999962', 0.0), (b'1657015627.112886', 0.0), (b'1657015625.7584233', 0.0), (b'1657015624.4046934', 0.0), (b'1657015623.0317483', 0.0), (b'1657015621.6477904', 0.0), (b'1657015620.2651198', 0.0), (b'1657015618.8929062', 0.0), (b'1657015617.5009053', 0.0), (b'1657015616.136789', 0.0), (b'1657015614.7614002', 0.0), (b'1657015613.3946767', 0.0), (b'1657015610.1379697', 0.0), (b'1657015200.17715', 0.0), (b'1657015198.8251572', 0.0), (b'1657015197.4820042', 0.0), (b'1657015196.120249', 0.0), (b'1657015194.7765937', 0.0), (b'1657015193.4323063', 0.0), (b'1657015192.07235', 0.0), (b'1657015190.7271738', 0.0), (b'1657015189.3672025', 0.0), (b'1657015188.0340002', 0.0), (b'1657015186.706458', 0.0), (b'1657015185.3533294', 0.0), (b'1657015183.9909098', 0.0), (b'1657015182.6242402', 0.0), (b'1657015181.2824726', 0.0), (b'1657015179.9505973', 0.0), (b'1657015178.5834327', 0.0), (b'1657015175.3988075', 0.0), (b'1657015094.2012353', 0.0), (b'1657015092.8720863', 0.0), (b'1657015091.5346887', 0.0), (b'1657015090.1940138', 0.0), (b'1657015088.8668137', 0.0), (b'1657015087.5113082', 0.0), (b'1657015086.1487784', 0.0), (b'1657015084.8209898', 0.0), (b'1657015083.378668', 0.0), (b'1657015081.947127', 0.0), (b'1657015080.6073942', 0.0), (b'1657015078.9587789', 0.0), (b'1657015077.5966735', 0.0), (b'1657015076.2790914', 0.0), (b'1657015074.9277523', 0.0), (b'1657015073.5806005', 0.0), (b'1657015072.2595918', 0.0), (b'1657015069.0048287', 0.0), (b'1657014744.9910593', 0.0), (b'1657014743.652779', 0.0), (b'1657014742.2953904', 0.0), (b'1657014740.921958', 0.0), (b'1657014739.5663931', 0.0), (b'1657014738.2015789', 0.0), (b'1657014736.846432', 0.0), (b'1657014735.5001206', 0.0), (b'1657014734.12713', 0.0), (b'1657014732.7843916', 0.0), (b'1657014731.4493797', 0.0), (b'1657014730.0734613', 0.0), (b'1657014728.7275605', 0.0), (b'1657014727.353716', 0.0), (b'1657014726.01545', 0.0), (b'1657014724.6770837', 0.0), (b'1657014723.3237913', 0.0), (b'1657014721.9448414', 0.0), (b'1657014720.5900562', 0.0), (b'1657014719.2177327', 0.0), (b'1657014717.8766725', 0.0), (b'1657014716.5059843', 0.0), (b'1657014715.1481457', 0.0), (b'1657014713.7930133', 0.0), (b'1657014712.438481', 0.0), (b'1657014711.077747', 0.0), (b'1657014709.7277474', 0.0), (b'1657014708.3632603', 0.0), (b'1657014707.0115144', 0.0), (b'1657014705.657398', 0.0), (b'1657014704.286838', 0.0), (b'1657014702.9167774', 0.0), (b'1657014701.5662732', 0.0), (b'1657014700.2287881', 0.0), (b'1657014698.8940103', 0.0), (b'1657014697.5422482', 0.0), (b'1657014696.1861615', 0.0), (b'1657014694.831691', 0.0), (b'1657014692.1322608', 0.0), (b'1657013507.972073', 0.0), (b'1657013506.6070478', 0.0), (b'1657013505.251614', 0.0), (b'1657013503.8965135', 0.0), (b'1657013502.5454257', 0.0), (b'1657013501.1775556', 0.0), (b'1657013499.8265672', 0.0), (b'1657013498.487156', 0.0), (b'1657013497.1427069', 0.0), (b'1657013495.8035376', 0.0), (b'1657013494.470456', 0.0), (b'1657013493.1235154', 0.0), (b'1657013491.7784488', 0.0), (b'1657013490.4055622', 0.0), (b'1657013489.0715902', 0.0), (b'1657013487.7348187', 0.0), (b'1657013486.4029877', 0.0), (b'1657013485.0534592', 0.0), (b'1657013483.702535', 0.0), (b'1657013482.3383012', 0.0), (b'1657013480.9878407', 0.0), (b'1657013479.6445575', 0.0), (b'1657013478.272973', 0.0), (b'1657013476.9371486', 0.0), (b'1657013475.593146', 0.0), (b'1657013474.2396092', 0.0), (b'1657013472.8954442', 0.0), (b'1657013471.5549352', 0.0), (b'1657013470.211973', 0.0), (b'1657013468.859017', 0.0), (b'1657013467.5183463', 0.0), (b'1657013466.1517673', 0.0), (b'1657013464.7968733', 0.0), (b'1657013463.458663', 0.0), (b'1657013462.1192799', 0.0), (b'1657013460.7823856', 0.0), (b'1657013459.4047134', 0.0), (b'1657013458.0363996', 0.0), (b'1657013456.6798332', 0.0), (b'1657013455.3281724', 0.0), (b'1657013453.9863398', 0.0), (b'1657013452.6420891', 0.0), (b'1657013451.2860594', 0.0), (b'1657013449.938894', 0.0), (b'1657013448.5646377', 0.0), (b'1657013447.2051287', 0.0), (b'1657013445.8660831', 0.0), (b'1657013444.5162368', 0.0), (b'1657013443.1746101', 0.0), (b'1657013441.8378315', 0.0), (b'1657013440.482065', 0.0), (b'1657013438.5095956', 0.0), (b'1657013393.9531543', 0.0), (b'1657013299.0957143', 0.0), (b'1657013297.758773', 0.0), (b'1657013296.4163628', 0.0), (b'1657013295.0759661', 0.0), (b'1657013293.710317', 0.0), (b'1657013292.3710423', 0.0), (b'1657013291.0118337', 0.0), (b'1657013289.6438375', 0.0), (b'1657013288.2923744', 0.0), (b'1657013286.9211652', 0.0), (b'1657013285.531813', 0.0), (b'1657013284.1443238', 0.0), (b'1657013282.7542307', 0.0), (b'1657013281.3809357', 0.0), (b'1657013280.0216525', 0.0), (b'1657013278.55382', 0.0), (b'1657013277.1872745', 0.0), (b'1657013275.8159149', 0.0), (b'1657013274.4595053', 0.0), (b'1657013273.0857964', 0.0), (b'1657013271.7152145', 0.0), (b'1657013270.3610015', 0.0), (b'1657013268.990979', 0.0), (b'1657013267.6082208', 0.0), (b'1657013266.2163393', 0.0), (b'1657013264.8493543', 0.0), (b'1657013263.483616', 0.0), (b'1657013262.142502', 0.0), (b'1657013260.812526', 0.0), (b'1657013259.4697', 0.0), (b'1657013258.1242905', 0.0), (b'1657013256.7816944', 0.0), (b'1657013255.4285812', 0.0), (b'1657013254.100705', 0.0), (b'1657013252.7420032', 0.0), (b'1657013251.3891153', 0.0), (b'1657013250.0591617', 0.0), (b'1657013248.7278316', 0.0), (b'1657013247.3725774', 0.0), (b'1657013245.106333', 0.0), (b'1657013138.7293746', 0.0), (b'1657013137.3827567', 0.0), (b'1657013136.034922', 0.0), (b'1657013134.663288', 0.0), (b'1657013133.3155856', 0.0), (b'1657013131.7085938', 0.0), (b'1657013130.3557277', 0.0), (b'1657013129.0052', 0.0), (b'1657013127.650575', 0.0), (b'1657013126.2971747', 0.0), (b'1657013124.96894', 0.0), (b'1657013123.6366582', 0.0), (b'1657013122.2687037', 0.0), (b'1657013120.911598', 0.0), (b'1657013119.5648167', 0.0), (b'1657013118.2101343', 0.0), (b'1657013116.8478825', 0.0), (b'1657013115.4948127', 0.0), (b'1657013114.1396139', 0.0), (b'1657013112.7820792', 0.0), (b'1657013111.428114', 0.0), (b'1657013110.072838', 0.0), (b'1657013108.7157326', 0.0), (b'1657013107.3638012', 0.0), (b'1657013105.9911726', 0.0), (b'1657013104.6355371', 0.0), (b'1657013103.2748344', 0.0), (b'1657013101.9005294', 0.0), (b'1657013100.53036', 0.0), (b'1657013099.1933901', 0.0), (b'1657013097.85343', 0.0), (b'1657013096.4950337', 0.0), (b'1657013095.1308832', 0.0), (b'1657013093.74655', 0.0), (b'1657013092.3706496', 0.0), (b'1657013090.9933584', 0.0), (b'1657013089.6549065', 0.0), (b'1657013088.3086042', 0.0), (b'1657013086.9659355', 0.0), (b'1657013085.0599027', 0.0), (b'1656977220.1861293', 0.0), (b'1656977219.2576008', 0.0), (b'1656977218.3479717', 0.0), (b'1656977217.4383802', 0.0), (b'1656977216.5155497', 0.0), (b'1656977215.6007001', 0.0), (b'1656977214.670749', 0.0), (b'1656977213.7532096', 0.0), (b'1656977211.099584', 0.0), (b'1656977206.104547', 0.0), (b'1656977204.2369611', 0.0), (b'1656977203.293427', 0.0), (b'1656977202.3521616', 0.0), (b'1656977201.1046836', 0.0), (b'1656977200.1653683', 0.0), (b'1656977199.2450244', 0.0), (b'1656977198.2939029', 0.0), (b'1656977197.3589337', 0.0), (b'1656977196.3995535', 0.0), (b'1656977195.4483323', 0.0), (b'1656977194.23102', 0.0), (b'1656977193.2651556', 0.0), (b'1656977192.3259387', 0.0), (b'1656977191.3846517', 0.0), (b'1656977190.444868', 0.0), (b'1656977189.4946785', 0.0), (b'1656977188.445197', 0.0), (b'1656977187.497986', 0.0), (b'1656977186.5606058', 0.0), (b'1656977185.6167564', 0.0), (b'1656977184.6625087', 0.0), (b'1656977183.7436347', 0.0), (b'1656977182.8014374', 0.0), (b'1656977181.8753836', 0.0), (b'1656977180.9310317', 0.0), (b'1656977179.9732032', 0.0), (b'1656977179.034419', 0.0), (b'1656977178.119299', 0.0), (b'1656977176.3137133', 0.0), (b'1656977173.493771', 0.0), (b'1656977172.571967', 0.0), (b'1656977171.6218953', 0.0), (b'1656977170.679742', 0.0), (b'1656977169.7299', 0.0), (b'1656977168.7801516', 0.0), (b'1656977167.8239412', 0.0), (b'1656977166.5825918', 0.0), (b'1656977165.3070314', 0.0), (b'1656977163.7994823', 0.0), (b'1656977162.4528606', 0.0), (b'1656977161.3132644', 0.0), (b'1656977158.9236114', 0.0), (b'1656976395.4410193', 0.0), (b'1656976394.4976697', 0.0), (b'1656976393.5588193', 0.0), (b'1656976392.6299806', 0.0), (b'1656976391.6254833', 0.0), (b'1656976390.6580455', 0.0), (b'1656976389.729945', 0.0), (b'1656976388.777244', 0.0), (b'1656976387.8382356', 0.0), (b'1656976386.8946385', 0.0), (b'1656976385.9515731', 0.0), (b'1656976385.0164266', 0.0), (b'1656976384.0553572', 0.0), (b'1656976383.1247232', 0.0), (b'1656976382.196857', 0.0), (b'1656976381.24147', 0.0), (b'1656976380.2915702', 0.0), (b'1656976379.3448298', 0.0), (b'1656976378.3926823', 0.0), (b'1656976377.4338095', 0.0), (b'1656976376.4879513', 0.0), (b'1656976375.543877', 0.0), (b'1656976374.5977232', 0.0), (b'1656976373.6647305', 0.0), (b'1656976372.7087882', 0.0), (b'1656976371.747884', 0.0), (b'1656976370.784182', 0.0), (b'1656976369.8320758', 0.0), (b'1656976368.894413', 0.0), (b'1656976367.938672', 0.0), (b'1656976366.9924097', 0.0), (b'1656976366.029546', 0.0), (b'1656976365.0924191', 0.0), (b'1656976364.1230922', 0.0), (b'1656976363.1511533', 0.0), (b'1656976361.8568344', 0.0), (b'1656976360.8501465', 0.0), (b'1656976359.5115466', 0.0), (b'1656976358.4282', 0.0), (b'1656976357.1535907', 0.0), (b'1656976356.2034817', 0.0), (b'1656976355.2807665', 0.0), (b'1656976354.3331647', 0.0), (b'1656976353.3707182', 0.0), (b'1656976352.4166853', 0.0), (b'1656976351.4847162', 0.0), (b'1656976350.5308914', 0.0), (b'1656976349.5939472', 0.0), (b'1656976348.6538804', 0.0), (b'1656976347.6726615', 0.0), (b'1656976346.7462687', 0.0), (b'1656976345.2783477', 0.0), (b'1656976317.422421', 0.0), (b'1656974332.4491844', 0.0), (b'1656974331.507211', 0.0), (b'1656974330.5782304', 0.0), (b'1656974329.6551402', 0.0), (b'1656974328.7265403', 0.0), (b'1656974327.815753', 0.0), (b'1656974326.8792284', 0.0), (b'1656974325.96656', 0.0), (b'1656974325.0209987', 0.0), (b'1656974324.080156', 0.0), (b'1656974323.1424315', 0.0), (b'1656974322.2393858', 0.0), (b'1656974321.3291008', 0.0), (b'1656974320.425178', 0.0), (b'1656974319.5196285', 0.0), (b'1656974318.5857697', 0.0), (b'1656974317.6417272', 0.0), (b'1656974316.7121863', 0.0), (b'1656974315.7890844', 0.0), (b'1656974314.8481154', 0.0), (b'1656974313.9212744', 0.0), (b'1656974312.9795723', 0.0), (b'1656974312.0373058', 0.0), (b'1656974311.114094', 0.0), (b'1656974310.193085', 0.0), (b'1656974309.2469974', 0.0), (b'1656974308.3054585', 0.0), (b'1656974307.3717215', 0.0), (b'1656974306.4372795', 0.0), (b'1656974305.504525', 0.0), (b'1656974304.5817835', 0.0), (b'1656974303.6579106', 0.0), (b'1656974302.7094402', 0.0), (b'1656974301.7988813', 0.0), (b'1656974300.8753977', 0.0), (b'1656974299.9640903', 0.0), (b'1656974299.0173242', 0.0), (b'1656974298.08436', 0.0), (b'1656974297.1800632', 0.0), (b'1656974296.2668924', 0.0), (b'1656974295.3485858', 0.0), (b'1656974294.4265857', 0.0), (b'1656974293.4988592', 0.0), (b'1656974292.5796494', 0.0), (b'1656974291.6502233', 0.0), (b'1656974290.7226865', 0.0), (b'1656974289.8162632', 0.0), (b'1656974288.886241', 0.0), (b'1656974287.944205', 0.0), (b'1656974287.0082765', 0.0), (b'1656974286.0798557', 0.0), (b'1656974284.0552242', 0.0), (b'1656974237.9582071', 0.0)]\n",
            "[(b'1657214682.2135077', 1.0), (b'1657214662.819261', 1.0), (b'1657200584.0895815', 1.0), (b'1657200561.8300314', 1.0), (b'1657103605.2632375', 1.0), (b'1657103574.1995506', 1.0), (b'1657016216.0562634', 1.0), (b'1657015825.7631316', 1.0), (b'1657015610.1379697', 1.0), (b'1657015175.3988075', 1.0), (b'1657015069.0048287', 1.0), (b'1657013438.5095956', 1.0), (b'1656977176.3137133', 1.0), (b'1656976345.2783477', 1.0), (b'1656974284.0552242', 1.0), (b'1657214706.4727147', 0.0), (b'1657214705.545513', 0.0), (b'1657214704.641975', 0.0), (b'1657214703.7177932', 0.0), (b'1657214702.7977593', 0.0), (b'1657214701.8752882', 0.0), (b'1657214700.952324', 0.0), (b'1657214700.0097597', 0.0), (b'1657214697.60368', 0.0), (b'1657214696.6920729', 0.0), (b'1657214695.7658148', 0.0), (b'1657214694.8679504', 0.0), (b'1657214692.8108892', 0.0), (b'1657214691.8842533', 0.0), (b'1657214690.97586', 0.0), (b'1657214690.0691946', 0.0), (b'1657214689.1544602', 0.0), (b'1657214688.2129726', 0.0), (b'1657214686.137649', 0.0), (b'1657214685.194293', 0.0), (b'1657214684.2651587', 0.0), (b'1657214683.3291883', 0.0), (b'1657214681.3085594', 0.0), (b'1657214680.4059489', 0.0), (b'1657214679.5005713', 0.0), (b'1657214678.5810542', 0.0), (b'1657214677.6601756', 0.0), (b'1657214676.7303574', 0.0), (b'1657214675.779828', 0.0), (b'1657214674.8475294', 0.0), (b'1657214673.9228408', 0.0), (b'1657214673.001181', 0.0), (b'1657214672.0725963', 0.0), (b'1657214671.1283019', 0.0), (b'1657214670.2009113', 0.0), (b'1657214669.2764566', 0.0), (b'1657214668.3672833', 0.0), (b'1657214667.4662542', 0.0), (b'1657214666.518582', 0.0), (b'1657214665.6003084', 0.0), (b'1657214664.6521544', 0.0), (b'1657214661.8897874', 0.0), (b'1657214660.9611325', 0.0), (b'1657214660.0561368', 0.0), (b'1657214659.151227', 0.0), (b'1657214658.227578', 0.0), (b'1657214657.3034992', 0.0), (b'1657214656.3448896', 0.0), (b'1657214655.4221823', 0.0), (b'1657214654.5168347', 0.0), (b'1657214653.5933805', 0.0), (b'1657214652.6664133', 0.0), (b'1657214651.7495391', 0.0), (b'1657214650.8459494', 0.0), (b'1657214649.9208238', 0.0), (b'1657214648.0610006', 0.0), (b'1657214647.1082633', 0.0), (b'1657214624.1319563', 0.0), (b'1657200611.8300571', 0.0), (b'1657200610.7388115', 0.0), (b'1657200609.6758857', 0.0), (b'1657200608.6127293', 0.0), (b'1657200607.5296152', 0.0), (b'1657200606.4464903', 0.0), (b'1657200605.342265', 0.0), (b'1657200604.254331', 0.0), (b'1657200601.6859522', 0.0), (b'1657200600.6122367', 0.0), (b'1657200599.5219777', 0.0), (b'1657200598.4227843', 0.0), (b'1657200596.2076316', 0.0), (b'1657200595.1410542', 0.0), (b'1657200594.0606844', 0.0), (b'1657200592.9732943', 0.0), (b'1657200591.905978', 0.0), (b'1657200590.8296785', 0.0), (b'1657200588.618527', 0.0), (b'1657200587.540333', 0.0), (b'1657200586.4580557', 0.0), (b'1657200585.3756034', 0.0), (b'1657200583.0293458', 0.0), (b'1657200581.9572785', 0.0), (b'1657200580.884475', 0.0), (b'1657200579.7984703', 0.0), (b'1657200578.7389245', 0.0), (b'1657200577.6770723', 0.0), (b'1657200576.5992775', 0.0), (b'1657200575.5144837', 0.0), (b'1657200574.4526718', 0.0), (b'1657200573.3729436', 0.0), (b'1657200572.29443', 0.0), (b'1657200571.2352328', 0.0), (b'1657200570.153396', 0.0), (b'1657200569.0937755', 0.0), (b'1657200568.0051718', 0.0), (b'1657200566.9208503', 0.0), (b'1657200565.857444', 0.0), (b'1657200564.777688', 0.0), (b'1657200563.7167463', 0.0), (b'1657200560.7317948', 0.0), (b'1657200559.6380107', 0.0), (b'1657200558.5642416', 0.0), (b'1657200557.5003066', 0.0), (b'1657200556.44018', 0.0), (b'1657200555.3645642', 0.0), (b'1657200554.2908747', 0.0), (b'1657200553.2076144', 0.0), (b'1657200552.1079452', 0.0), (b'1657200551.0398805', 0.0), (b'1657200549.96942', 0.0), (b'1657200548.9012918', 0.0), (b'1657200547.82384', 0.0), (b'1657200546.7675858', 0.0), (b'1657200544.7598634', 0.0), (b'1657200543.6542592', 0.0), (b'1657200528.9556503', 0.0), (b'1657103640.050528', 0.0), (b'1657103638.696825', 0.0), (b'1657103637.303659', 0.0), (b'1657103635.911016', 0.0), (b'1657103634.5582473', 0.0), (b'1657103633.1823652', 0.0), (b'1657103631.8084958', 0.0), (b'1657103630.4606144', 0.0), (b'1657103627.5636368', 0.0), (b'1657103626.2012215', 0.0), (b'1657103624.8298075', 0.0), (b'1657103623.4938731', 0.0), (b'1657103621.0081224', 0.0), (b'1657103619.6384394', 0.0), (b'1657103618.2714424', 0.0), (b'1657103616.8957207', 0.0), (b'1657103615.3184185', 0.0), (b'1657103613.957948', 0.0), (b'1657103610.9861262', 0.0), (b'1657103609.6335204', 0.0), (b'1657103608.2706492', 0.0), (b'1657103606.9032307', 0.0), (b'1657103603.6944203', 0.0), (b'1657103602.3022876', 0.0), (b'1657103600.9189684', 0.0), (b'1657103599.571505', 0.0), (b'1657103597.9524422', 0.0), (b'1657103596.2275257', 0.0), (b'1657103594.8534446', 0.0), (b'1657103593.257203', 0.0), (b'1657103591.833376', 0.0), (b'1657103590.4464722', 0.0), (b'1657103588.7903311', 0.0), (b'1657103587.4159276', 0.0), (b'1657103585.773589', 0.0), (b'1657103584.089607', 0.0), (b'1657103582.7247458', 0.0), (b'1657103581.3597012', 0.0), (b'1657103579.995726', 0.0), (b'1657103578.6096056', 0.0), (b'1657103577.2320063', 0.0), (b'1657103572.8303692', 0.0), (b'1657103571.4407291', 0.0), (b'1657103570.09169', 0.0), (b'1657103568.721898', 0.0), (b'1657103567.3357468', 0.0), (b'1657103565.7569702', 0.0), (b'1657103564.3974876', 0.0), (b'1657103563.029471', 0.0), (b'1657103561.6692295', 0.0), (b'1657103559.93222', 0.0), (b'1657103558.4231606', 0.0), (b'1657103557.0362444', 0.0), (b'1657103555.6513145', 0.0), (b'1657103554.3137054', 0.0), (b'1657103552.523481', 0.0), (b'1657103551.1756551', 0.0), (b'1657103544.616569', 0.0), (b'1657016242.1002276', 0.0), (b'1657016240.7856257', 0.0), (b'1657016239.4800627', 0.0), (b'1657016238.1577773', 0.0), (b'1657016236.8419657', 0.0), (b'1657016235.5092938', 0.0), (b'1657016234.1839104', 0.0), (b'1657016232.8402843', 0.0), (b'1657016231.525337', 0.0), (b'1657016230.1882708', 0.0), (b'1657016228.8537705', 0.0), (b'1657016227.520803', 0.0), (b'1657016226.1858954', 0.0), (b'1657016224.8477674', 0.0), (b'1657016223.5108635', 0.0), (b'1657016222.168345', 0.0), (b'1657016220.8302388', 0.0), (b'1657016219.509541', 0.0), (b'1657016218.1994343', 0.0), (b'1657016214.7256541', 0.0), (b'1657016213.3729398', 0.0), (b'1657016212.048206', 0.0), (b'1657016210.7128642', 0.0), (b'1657016209.3895628', 0.0), (b'1657016208.0661104', 0.0), (b'1657016206.7419689', 0.0), (b'1657016205.4026737', 0.0), (b'1657016204.0629852', 0.0), (b'1657016202.7341714', 0.0), (b'1657016201.3823233', 0.0), (b'1657016200.0462859', 0.0), (b'1657016198.7008414', 0.0), (b'1657016197.3842487', 0.0), (b'1657016195.0851862', 0.0), (b'1657016193.7418191', 0.0), (b'1657016174.8245249', 0.0), (b'1657015850.5190496', 0.0), (b'1657015849.1566172', 0.0), (b'1657015847.816308', 0.0), (b'1657015846.4489605', 0.0), (b'1657015845.1094038', 0.0), (b'1657015843.748013', 0.0), (b'1657015842.4107454', 0.0), (b'1657015841.0741985', 0.0), (b'1657015839.728329', 0.0), (b'1657015838.3892975', 0.0), (b'1657015837.0336375', 0.0), (b'1657015835.6926012', 0.0), (b'1657015834.3454657', 0.0), (b'1657015832.9884217', 0.0), (b'1657015831.649622', 0.0), (b'1657015830.3119326', 0.0), (b'1657015828.9556553', 0.0), (b'1657015824.4084094', 0.0), (b'1657015823.0546045', 0.0), (b'1657015821.694126', 0.0), (b'1657015820.337515', 0.0), (b'1657015818.9693322', 0.0), (b'1657015817.5927682', 0.0), (b'1657015816.2318127', 0.0), (b'1657015814.8698428', 0.0), (b'1657015813.4948137', 0.0), (b'1657015812.130283', 0.0), (b'1657015810.7640433', 0.0), (b'1657015809.4261053', 0.0), (b'1657015808.0724607', 0.0), (b'1657015806.7159328', 0.0), (b'1657015805.3367834', 0.0), (b'1657015803.9814708', 0.0), (b'1657015802.6152003', 0.0), (b'1657015801.064456', 0.0), (b'1657015799.422095', 0.0), (b'1657015797.6959836', 0.0), (b'1657015796.0074236', 0.0), (b'1657015794.6446502', 0.0), (b'1657015793.2840872', 0.0), (b'1657015791.804605', 0.0), (b'1657015788.34633', 0.0), (b'1657015635.3737247', 0.0), (b'1657015633.9915211', 0.0), (b'1657015632.6274805', 0.0), (b'1657015631.2631638', 0.0), (b'1657015629.8725376', 0.0), (b'1657015628.4999962', 0.0), (b'1657015627.112886', 0.0), (b'1657015625.7584233', 0.0), (b'1657015624.4046934', 0.0), (b'1657015623.0317483', 0.0), (b'1657015621.6477904', 0.0), (b'1657015620.2651198', 0.0), (b'1657015618.8929062', 0.0), (b'1657015617.5009053', 0.0), (b'1657015616.136789', 0.0), (b'1657015614.7614002', 0.0), (b'1657015613.3946767', 0.0), (b'1657015608.7482204', 0.0), (b'1657015607.3933353', 0.0), (b'1657015606.0069702', 0.0), (b'1657015604.6229963', 0.0), (b'1657015603.2641973', 0.0), (b'1657015601.8868763', 0.0), (b'1657015600.5296397', 0.0), (b'1657015599.168215', 0.0), (b'1657015597.8047059', 0.0), (b'1657015596.4490364', 0.0), (b'1657015595.075205', 0.0), (b'1657015593.694532', 0.0), (b'1657015592.3163712', 0.0), (b'1657015590.9525213', 0.0), (b'1657015589.5756133', 0.0), (b'1657015588.2149208', 0.0), (b'1657015586.8228765', 0.0), (b'1657015585.016949', 0.0), (b'1657015583.2810752', 0.0), (b'1657015581.5210662', 0.0), (b'1657015579.74655', 0.0), (b'1657015578.3713741', 0.0), (b'1657015576.8807478', 0.0), (b'1657015575.4848256', 0.0), (b'1657015572.38663', 0.0), (b'1657015200.17715', 0.0), (b'1657015198.8251572', 0.0), (b'1657015197.4820042', 0.0), (b'1657015196.120249', 0.0), (b'1657015194.7765937', 0.0), (b'1657015193.4323063', 0.0), (b'1657015192.07235', 0.0), (b'1657015190.7271738', 0.0), (b'1657015189.3672025', 0.0), (b'1657015188.0340002', 0.0), (b'1657015186.706458', 0.0), (b'1657015185.3533294', 0.0), (b'1657015183.9909098', 0.0), (b'1657015182.6242402', 0.0), (b'1657015181.2824726', 0.0), (b'1657015179.9505973', 0.0), (b'1657015178.5834327', 0.0), (b'1657015174.0725615', 0.0), (b'1657015172.7245755', 0.0), (b'1657015171.3713257', 0.0), (b'1657015170.0441606', 0.0), (b'1657015168.697005', 0.0), (b'1657015167.3703244', 0.0), (b'1657015166.0261784', 0.0), (b'1657015164.6906273', 0.0), (b'1657015163.3457174', 0.0), (b'1657015162.0202813', 0.0), (b'1657015160.6910462', 0.0), (b'1657015159.3452435', 0.0), (b'1657015157.993893', 0.0), (b'1657015156.6480775', 0.0), (b'1657015155.315551', 0.0), (b'1657015153.9728765', 0.0), (b'1657015152.6185937', 0.0), (b'1657015150.9690945', 0.0), (b'1657015149.400373', 0.0), (b'1657015147.6240249', 0.0), (b'1657015146.0015762', 0.0), (b'1657015144.6700625', 0.0), (b'1657015143.3232088', 0.0), (b'1657015141.9901843', 0.0), (b'1657015138.9999926', 0.0), (b'1657015094.2012353', 0.0), (b'1657015092.8720863', 0.0), (b'1657015091.5346887', 0.0), (b'1657015090.1940138', 0.0), (b'1657015088.8668137', 0.0), (b'1657015087.5113082', 0.0), (b'1657015086.1487784', 0.0), (b'1657015084.8209898', 0.0), (b'1657015083.378668', 0.0), (b'1657015081.947127', 0.0), (b'1657015080.6073942', 0.0), (b'1657015078.9587789', 0.0), (b'1657015077.5966735', 0.0), (b'1657015076.2790914', 0.0), (b'1657015074.9277523', 0.0), (b'1657015073.5806005', 0.0), (b'1657015072.2595918', 0.0), (b'1657015067.6410751', 0.0), (b'1657015066.2833717', 0.0), (b'1657015064.9257262', 0.0), (b'1657015063.6008208', 0.0), (b'1657015062.2696471', 0.0), (b'1657015060.9264772', 0.0), (b'1657015059.5883577', 0.0), (b'1657015058.248435', 0.0), (b'1657015056.8941038', 0.0), (b'1657015055.550393', 0.0), (b'1657015054.2135239', 0.0), (b'1657015052.875189', 0.0), (b'1657015051.5386696', 0.0), (b'1657015050.1841323', 0.0), (b'1657015048.84533', 0.0), (b'1657015047.5084038', 0.0), (b'1657015045.8639636', 0.0), (b'1657015044.268893', 0.0), (b'1657015042.7639', 0.0), (b'1657015041.2142735', 0.0), (b'1657015039.8723261', 0.0), (b'1657015038.5338972', 0.0), (b'1657015037.163869', 0.0), (b'1657015035.825293', 0.0), (b'1657015032.8036008', 0.0), (b'1657014744.9910593', 0.0), (b'1657014743.652779', 0.0), (b'1657014742.2953904', 0.0), (b'1657014740.921958', 0.0), (b'1657014739.5663931', 0.0), (b'1657014738.2015789', 0.0), (b'1657014736.846432', 0.0), (b'1657014735.5001206', 0.0), (b'1657014734.12713', 0.0), (b'1657014732.7843916', 0.0), (b'1657014731.4493797', 0.0), (b'1657014730.0734613', 0.0), (b'1657014728.7275605', 0.0), (b'1657014727.353716', 0.0), (b'1657014726.01545', 0.0), (b'1657014724.6770837', 0.0), (b'1657014723.3237913', 0.0), (b'1657014721.9448414', 0.0), (b'1657014720.5900562', 0.0), (b'1657014719.2177327', 0.0), (b'1657014717.8766725', 0.0), (b'1657014716.5059843', 0.0), (b'1657014715.1481457', 0.0), (b'1657014713.7930133', 0.0), (b'1657014712.438481', 0.0), (b'1657014711.077747', 0.0), (b'1657014709.7277474', 0.0), (b'1657014708.3632603', 0.0), (b'1657014707.0115144', 0.0), (b'1657014705.657398', 0.0), (b'1657014704.286838', 0.0), (b'1657014702.9167774', 0.0), (b'1657014701.5662732', 0.0), (b'1657014700.2287881', 0.0), (b'1657014698.8940103', 0.0), (b'1657014697.5422482', 0.0), (b'1657014696.1861615', 0.0), (b'1657014694.831691', 0.0), (b'1657014692.1322608', 0.0), (b'1657014690.796702', 0.0), (b'1657014689.4595644', 0.0), (b'1657014688.1076303', 0.0), (b'1657014668.8066885', 0.0), (b'1657013507.972073', 0.0), (b'1657013506.6070478', 0.0), (b'1657013505.251614', 0.0), (b'1657013503.8965135', 0.0), (b'1657013502.5454257', 0.0), (b'1657013501.1775556', 0.0), (b'1657013499.8265672', 0.0), (b'1657013498.487156', 0.0), (b'1657013497.1427069', 0.0), (b'1657013495.8035376', 0.0), (b'1657013494.470456', 0.0), (b'1657013493.1235154', 0.0), (b'1657013491.7784488', 0.0), (b'1657013490.4055622', 0.0), (b'1657013489.0715902', 0.0), (b'1657013487.7348187', 0.0), (b'1657013486.4029877', 0.0), (b'1657013485.0534592', 0.0), (b'1657013483.702535', 0.0), (b'1657013482.3383012', 0.0), (b'1657013480.9878407', 0.0), (b'1657013479.6445575', 0.0), (b'1657013478.272973', 0.0), (b'1657013476.9371486', 0.0), (b'1657013475.593146', 0.0), (b'1657013474.2396092', 0.0), (b'1657013472.8954442', 0.0), (b'1657013471.5549352', 0.0), (b'1657013470.211973', 0.0), (b'1657013468.859017', 0.0), (b'1657013467.5183463', 0.0), (b'1657013466.1517673', 0.0), (b'1657013464.7968733', 0.0), (b'1657013463.458663', 0.0), (b'1657013462.1192799', 0.0), (b'1657013460.7823856', 0.0), (b'1657013459.4047134', 0.0), (b'1657013458.0363996', 0.0), (b'1657013456.6798332', 0.0), (b'1657013455.3281724', 0.0), (b'1657013453.9863398', 0.0), (b'1657013452.6420891', 0.0), (b'1657013451.2860594', 0.0), (b'1657013449.938894', 0.0), (b'1657013448.5646377', 0.0), (b'1657013447.2051287', 0.0), (b'1657013445.8660831', 0.0), (b'1657013444.5162368', 0.0), (b'1657013443.1746101', 0.0), (b'1657013441.8378315', 0.0), (b'1657013440.482065', 0.0), (b'1657013437.165324', 0.0), (b'1657013435.8320065', 0.0), (b'1657013434.478154', 0.0), (b'1657013433.116058', 0.0), (b'1657013431.7500434', 0.0), (b'1657013430.4150088', 0.0), (b'1657013429.061175', 0.0), (b'1657013427.7052224', 0.0), (b'1657013426.348548', 0.0), (b'1657013424.9776201', 0.0), (b'1657013423.6220276', 0.0), (b'1657013422.271935', 0.0), (b'1657013420.928903', 0.0), (b'1657013419.5577905', 0.0), (b'1657013418.213438', 0.0), (b'1657013416.8617244', 0.0), (b'1657013415.5134547', 0.0), (b'1657013414.1645372', 0.0), (b'1657013412.7948756', 0.0), (b'1657013411.4378653', 0.0), (b'1657013410.0887508', 0.0), (b'1657013408.7403984', 0.0), (b'1657013407.0321064', 0.0), (b'1657013405.3854628', 0.0), (b'1657013393.9531543', 0.0), (b'1657013299.0957143', 0.0), (b'1657013297.758773', 0.0), (b'1657013296.4163628', 0.0), (b'1657013295.0759661', 0.0), (b'1657013293.710317', 0.0), (b'1657013292.3710423', 0.0), (b'1657013291.0118337', 0.0), (b'1657013289.6438375', 0.0), (b'1657013288.2923744', 0.0), (b'1657013286.9211652', 0.0), (b'1657013285.531813', 0.0), (b'1657013284.1443238', 0.0), (b'1657013282.7542307', 0.0), (b'1657013281.3809357', 0.0), (b'1657013280.0216525', 0.0), (b'1657013278.55382', 0.0), (b'1657013277.1872745', 0.0), (b'1657013275.8159149', 0.0), (b'1657013274.4595053', 0.0), (b'1657013273.0857964', 0.0), (b'1657013271.7152145', 0.0), (b'1657013270.3610015', 0.0), (b'1657013268.990979', 0.0), (b'1657013267.6082208', 0.0), (b'1657013266.2163393', 0.0), (b'1657013264.8493543', 0.0), (b'1657013263.483616', 0.0), (b'1657013262.142502', 0.0), (b'1657013260.812526', 0.0), (b'1657013259.4697', 0.0), (b'1657013258.1242905', 0.0), (b'1657013256.7816944', 0.0), (b'1657013255.4285812', 0.0), (b'1657013254.100705', 0.0), (b'1657013252.7420032', 0.0), (b'1657013251.3891153', 0.0), (b'1657013250.0591617', 0.0), (b'1657013248.7278316', 0.0), (b'1657013247.3725774', 0.0), (b'1657013245.106333', 0.0), (b'1657013243.7583616', 0.0), (b'1657013242.4041922', 0.0), (b'1657013241.0516987', 0.0), (b'1657013138.7293746', 0.0), (b'1657013137.3827567', 0.0), (b'1657013136.034922', 0.0), (b'1657013134.663288', 0.0), (b'1657013133.3155856', 0.0), (b'1657013131.7085938', 0.0), (b'1657013130.3557277', 0.0), (b'1657013129.0052', 0.0), (b'1657013127.650575', 0.0), (b'1657013126.2971747', 0.0), (b'1657013124.96894', 0.0), (b'1657013123.6366582', 0.0), (b'1657013122.2687037', 0.0), (b'1657013120.911598', 0.0), (b'1657013119.5648167', 0.0), (b'1657013118.2101343', 0.0), (b'1657013116.8478825', 0.0), (b'1657013115.4948127', 0.0), (b'1657013114.1396139', 0.0), (b'1657013112.7820792', 0.0), (b'1657013111.428114', 0.0), (b'1657013110.072838', 0.0), (b'1657013108.7157326', 0.0), (b'1657013107.3638012', 0.0), (b'1657013105.9911726', 0.0), (b'1657013104.6355371', 0.0), (b'1657013103.2748344', 0.0), (b'1657013101.9005294', 0.0), (b'1657013100.53036', 0.0), (b'1657013099.1933901', 0.0), (b'1657013097.85343', 0.0), (b'1657013096.4950337', 0.0), (b'1657013095.1308832', 0.0), (b'1657013093.74655', 0.0), (b'1657013092.3706496', 0.0), (b'1657013090.9933584', 0.0), (b'1657013089.6549065', 0.0), (b'1657013088.3086042', 0.0), (b'1657013086.9659355', 0.0), (b'1657013085.0599027', 0.0), (b'1657013083.7192276', 0.0), (b'1657013082.3570952', 0.0), (b'1657013080.9896498', 0.0), (b'1656977220.1861293', 0.0), (b'1656977219.2576008', 0.0), (b'1656977218.3479717', 0.0), (b'1656977217.4383802', 0.0), (b'1656977216.5155497', 0.0), (b'1656977215.6007001', 0.0), (b'1656977214.670749', 0.0), (b'1656977213.7532096', 0.0), (b'1656977211.099584', 0.0), (b'1656977210.1784408', 0.0), (b'1656977209.2352357', 0.0), (b'1656977208.2972074', 0.0), (b'1656977206.104547', 0.0), (b'1656977205.1679606', 0.0), (b'1656977204.2369611', 0.0), (b'1656977203.293427', 0.0), (b'1656977202.3521616', 0.0), (b'1656977201.1046836', 0.0), (b'1656977200.1653683', 0.0), (b'1656977199.2450244', 0.0), (b'1656977198.2939029', 0.0), (b'1656977197.3589337', 0.0), (b'1656977196.3995535', 0.0), (b'1656977195.4483323', 0.0), (b'1656977194.23102', 0.0), (b'1656977193.2651556', 0.0), (b'1656977192.3259387', 0.0), (b'1656977191.3846517', 0.0), (b'1656977190.444868', 0.0), (b'1656977189.4946785', 0.0), (b'1656977188.445197', 0.0), (b'1656977187.497986', 0.0), (b'1656977186.5606058', 0.0), (b'1656977185.6167564', 0.0), (b'1656977184.6625087', 0.0), (b'1656977183.7436347', 0.0), (b'1656977182.8014374', 0.0), (b'1656977181.8753836', 0.0), (b'1656977180.9310317', 0.0), (b'1656977179.9732032', 0.0), (b'1656977179.034419', 0.0), (b'1656977178.119299', 0.0), (b'1656977175.3802876', 0.0), (b'1656977174.427678', 0.0), (b'1656977173.493771', 0.0), (b'1656977172.571967', 0.0), (b'1656977171.6218953', 0.0), (b'1656977170.679742', 0.0), (b'1656977169.7299', 0.0), (b'1656977168.7801516', 0.0), (b'1656977167.8239412', 0.0), (b'1656977166.5825918', 0.0), (b'1656977165.3070314', 0.0), (b'1656977163.7994823', 0.0), (b'1656977162.4528606', 0.0), (b'1656977161.3132644', 0.0), (b'1656977158.9236114', 0.0), (b'1656977157.874868', 0.0), (b'1656977155.1623597', 0.0), (b'1656976395.4410193', 0.0), (b'1656976394.4976697', 0.0), (b'1656976393.5588193', 0.0), (b'1656976392.6299806', 0.0), (b'1656976391.6254833', 0.0), (b'1656976390.6580455', 0.0), (b'1656976389.729945', 0.0), (b'1656976388.777244', 0.0), (b'1656976387.8382356', 0.0), (b'1656976386.8946385', 0.0), (b'1656976385.9515731', 0.0), (b'1656976385.0164266', 0.0), (b'1656976384.0553572', 0.0), (b'1656976383.1247232', 0.0), (b'1656976382.196857', 0.0), (b'1656976381.24147', 0.0), (b'1656976380.2915702', 0.0), (b'1656976379.3448298', 0.0), (b'1656976378.3926823', 0.0), (b'1656976377.4338095', 0.0), (b'1656976376.4879513', 0.0), (b'1656976375.543877', 0.0), (b'1656976374.5977232', 0.0), (b'1656976373.6647305', 0.0), (b'1656976372.7087882', 0.0), (b'1656976371.747884', 0.0), (b'1656976370.784182', 0.0), (b'1656976369.8320758', 0.0), (b'1656976368.894413', 0.0), (b'1656976367.938672', 0.0), (b'1656976366.9924097', 0.0), (b'1656976366.029546', 0.0), (b'1656976365.0924191', 0.0), (b'1656976364.1230922', 0.0), (b'1656976363.1511533', 0.0), (b'1656976361.8568344', 0.0), (b'1656976360.8501465', 0.0), (b'1656976359.5115466', 0.0), (b'1656976358.4282', 0.0), (b'1656976357.1535907', 0.0), (b'1656976356.2034817', 0.0), (b'1656976355.2807665', 0.0), (b'1656976354.3331647', 0.0), (b'1656976353.3707182', 0.0), (b'1656976352.4166853', 0.0), (b'1656976351.4847162', 0.0), (b'1656976350.5308914', 0.0), (b'1656976349.5939472', 0.0), (b'1656976348.6538804', 0.0), (b'1656976347.6726615', 0.0), (b'1656976346.7462687', 0.0), (b'1656976344.3356268', 0.0), (b'1656976343.3724396', 0.0), (b'1656976342.4188368', 0.0), (b'1656976341.4850945', 0.0), (b'1656976340.5334492', 0.0), (b'1656976339.6053667', 0.0), (b'1656976338.679184', 0.0), (b'1656976337.7186515', 0.0), (b'1656976336.758614', 0.0), (b'1656976335.8039627', 0.0), (b'1656976334.8744378', 0.0), (b'1656976333.9013343', 0.0), (b'1656976332.9543886', 0.0), (b'1656976332.0004776', 0.0), (b'1656976331.0365963', 0.0), (b'1656976330.081634', 0.0), (b'1656976328.943477', 0.0), (b'1656976327.9751782', 0.0), (b'1656976327.0427356', 0.0), (b'1656976325.7198677', 0.0), (b'1656976324.5081959', 0.0), (b'1656976323.2382145', 0.0), (b'1656976322.0308042', 0.0), (b'1656976320.6763556', 0.0), (b'1656976317.422421', 0.0), (b'1656974332.4491844', 0.0), (b'1656974331.507211', 0.0), (b'1656974330.5782304', 0.0), (b'1656974329.6551402', 0.0), (b'1656974328.7265403', 0.0), (b'1656974327.815753', 0.0), (b'1656974326.8792284', 0.0), (b'1656974325.96656', 0.0), (b'1656974325.0209987', 0.0), (b'1656974324.080156', 0.0), (b'1656974323.1424315', 0.0), (b'1656974322.2393858', 0.0), (b'1656974321.3291008', 0.0), (b'1656974320.425178', 0.0), (b'1656974319.5196285', 0.0), (b'1656974318.5857697', 0.0), (b'1656974317.6417272', 0.0), (b'1656974316.7121863', 0.0), (b'1656974315.7890844', 0.0), (b'1656974314.8481154', 0.0), (b'1656974313.9212744', 0.0), (b'1656974312.9795723', 0.0), (b'1656974312.0373058', 0.0), (b'1656974311.114094', 0.0), (b'1656974310.193085', 0.0), (b'1656974309.2469974', 0.0), (b'1656974308.3054585', 0.0), (b'1656974307.3717215', 0.0), (b'1656974306.4372795', 0.0), (b'1656974305.504525', 0.0), (b'1656974304.5817835', 0.0), (b'1656974303.6579106', 0.0), (b'1656974302.7094402', 0.0), (b'1656974301.7988813', 0.0), (b'1656974300.8753977', 0.0), (b'1656974299.9640903', 0.0), (b'1656974299.0173242', 0.0), (b'1656974298.08436', 0.0), (b'1656974297.1800632', 0.0), (b'1656974296.2668924', 0.0), (b'1656974295.3485858', 0.0), (b'1656974294.4265857', 0.0), (b'1656974293.4988592', 0.0), (b'1656974292.5796494', 0.0), (b'1656974291.6502233', 0.0), (b'1656974290.7226865', 0.0), (b'1656974289.8162632', 0.0), (b'1656974288.886241', 0.0), (b'1656974287.944205', 0.0), (b'1656974287.0082765', 0.0), (b'1656974286.0798557', 0.0), (b'1656974283.1303496', 0.0), (b'1656974282.201857', 0.0), (b'1656974281.261806', 0.0), (b'1656974280.3367112', 0.0), (b'1656974279.4052923', 0.0), (b'1656974278.482065', 0.0), (b'1656974277.5599504', 0.0), (b'1656974276.6341703', 0.0), (b'1656974275.690566', 0.0), (b'1656974274.7390664', 0.0), (b'1656974273.8168218', 0.0), (b'1656974272.8961332', 0.0), (b'1656974271.9684086', 0.0), (b'1656974271.0334713', 0.0), (b'1656974270.104664', 0.0), (b'1656974269.1830792', 0.0), (b'1656974268.259754', 0.0), (b'1656974267.3581312', 0.0), (b'1656974266.452095', 0.0), (b'1656974265.5046976', 0.0), (b'1656974264.3361251', 0.0), (b'1656974263.427593', 0.0), (b'1656974262.4867454', 0.0), (b'1656974261.3270733', 0.0), (b'1656974237.9582071', 0.0)]\n"
          ]
        }
      ]
    },
    {
      "cell_type": "markdown",
      "source": [
        "# Runs YOLO on frames and create clean video"
      ],
      "metadata": {
        "id": "bfZpMIH4DYcG"
      }
    },
    {
      "cell_type": "code",
      "source": [
        "os.mkdir(\"/content/yolo_frames\")\n",
        "counter=1\n",
        "for img in run_yolo_on_frames:\n",
        "  cv2.imwrite(\"/content/yolo_frames/yolo_frame_\"+str(counter)+\".png\", img)\n",
        "  counter=counter+1\n",
        "os.system(\"ffmpeg -r 50 -i /content/yolo_frames/yolo_frame_%01d.png -vcodec mpeg4 -y /content/sample_data/movie.mp4\")\n",
        "shutil.rmtree(\"/content/yolo_frames\")"
      ],
      "metadata": {
        "id": "Y_5GgLZcg9Hb"
      },
      "execution_count": null,
      "outputs": []
    },
    {
      "cell_type": "code",
      "source": [
        "os.mkdir(\"/content/yolo_frames\")\n",
        "counter=1\n",
        "for img in run_yolo_on_frames_thermal:\n",
        "  cv2.imwrite(\"/content/yolo_frames/yolo_frame_\"+str(counter)+\".png\", img)\n",
        "  counter=counter+1\n",
        "os.system(\"ffmpeg -r 50 -i /content/yolo_frames/yolo_frame_%01d.png -vcodec mpeg4 -y /content/sample_data/movie_thermal.mp4\")\n",
        "shutil.rmtree(\"/content/yolo_frames\")"
      ],
      "metadata": {
        "id": "zpUSwiOS9mKT"
      },
      "execution_count": null,
      "outputs": []
    },
    {
      "cell_type": "markdown",
      "source": [
        "Create Video from Frames"
      ],
      "metadata": {
        "id": "XmrsmmmGxIXa"
      }
    },
    {
      "cell_type": "code",
      "source": [
        "!python /content/yolov5/detect.py --weights /content/drive/MyDrive/METIS/models/YOLO_optical_best.pt --img 640 --conf 0.25 --source /content/sample_data/movie.mp4"
      ],
      "metadata": {
        "id": "-5unbac5fjpZ",
        "colab": {
          "base_uri": "https://localhost:8080/"
        },
        "outputId": "8c8b68bd-eae6-4e40-9f61-92d7abd54b8b"
      },
      "execution_count": null,
      "outputs": [
        {
          "output_type": "stream",
          "name": "stdout",
          "text": [
            "\u001b[34m\u001b[1mdetect: \u001b[0mweights=['/content/drive/MyDrive/METIS/models/YOLO_optical_best.pt'], source=/content/sample_data/movie.mp4, data=yolov5/data/coco128.yaml, imgsz=[640, 640], conf_thres=0.25, iou_thres=0.45, max_det=1000, device=, view_img=False, save_txt=False, save_conf=False, save_crop=False, nosave=False, classes=None, agnostic_nms=False, augment=False, visualize=False, update=False, project=yolov5/runs/detect, name=exp, exist_ok=False, line_thickness=3, hide_labels=False, hide_conf=False, half=False, dnn=False\n",
            "YOLOv5 🚀 v6.1-280-g27d831b Python-3.7.13 torch-1.11.0+cu113 CUDA:0 (Tesla T4, 15110MiB)\n",
            "\n",
            "Fusing layers... \n",
            "Model summary: 213 layers, 7012822 parameters, 0 gradients\n",
            "video 1/1 (1/371) /content/sample_data/movie.mp4: 640x384 Done. (0.021s)\n",
            "video 1/1 (2/371) /content/sample_data/movie.mp4: 640x384 Done. (0.016s)\n",
            "video 1/1 (3/371) /content/sample_data/movie.mp4: 640x384 Done. (0.010s)\n",
            "video 1/1 (4/371) /content/sample_data/movie.mp4: 640x384 Done. (0.011s)\n",
            "video 1/1 (5/371) /content/sample_data/movie.mp4: 640x384 Done. (0.010s)\n",
            "video 1/1 (6/371) /content/sample_data/movie.mp4: 640x384 Done. (0.010s)\n",
            "video 1/1 (7/371) /content/sample_data/movie.mp4: 640x384 Done. (0.010s)\n",
            "video 1/1 (8/371) /content/sample_data/movie.mp4: 640x384 Done. (0.010s)\n",
            "video 1/1 (9/371) /content/sample_data/movie.mp4: 640x384 Done. (0.010s)\n",
            "video 1/1 (10/371) /content/sample_data/movie.mp4: 640x384 Done. (0.010s)\n",
            "video 1/1 (11/371) /content/sample_data/movie.mp4: 640x384 Done. (0.014s)\n",
            "video 1/1 (12/371) /content/sample_data/movie.mp4: 640x384 Done. (0.012s)\n",
            "video 1/1 (13/371) /content/sample_data/movie.mp4: 640x384 Done. (0.011s)\n",
            "video 1/1 (14/371) /content/sample_data/movie.mp4: 640x384 Done. (0.011s)\n",
            "video 1/1 (15/371) /content/sample_data/movie.mp4: 640x384 Done. (0.010s)\n",
            "video 1/1 (16/371) /content/sample_data/movie.mp4: 640x384 Done. (0.010s)\n",
            "video 1/1 (17/371) /content/sample_data/movie.mp4: 640x384 Done. (0.010s)\n",
            "video 1/1 (18/371) /content/sample_data/movie.mp4: 640x384 Done. (0.010s)\n",
            "video 1/1 (19/371) /content/sample_data/movie.mp4: 640x384 Done. (0.010s)\n",
            "video 1/1 (20/371) /content/sample_data/movie.mp4: 640x384 Done. (0.010s)\n",
            "video 1/1 (21/371) /content/sample_data/movie.mp4: 640x384 Done. (0.011s)\n",
            "video 1/1 (22/371) /content/sample_data/movie.mp4: 640x384 Done. (0.011s)\n",
            "video 1/1 (23/371) /content/sample_data/movie.mp4: 640x384 Done. (0.014s)\n",
            "video 1/1 (24/371) /content/sample_data/movie.mp4: 640x384 Done. (0.012s)\n",
            "video 1/1 (25/371) /content/sample_data/movie.mp4: 640x384 Done. (0.010s)\n",
            "video 1/1 (26/371) /content/sample_data/movie.mp4: 640x384 Done. (0.010s)\n",
            "video 1/1 (27/371) /content/sample_data/movie.mp4: 640x384 Done. (0.010s)\n",
            "video 1/1 (28/371) /content/sample_data/movie.mp4: 640x384 Done. (0.011s)\n",
            "video 1/1 (29/371) /content/sample_data/movie.mp4: 640x384 Done. (0.013s)\n",
            "video 1/1 (30/371) /content/sample_data/movie.mp4: 640x384 Done. (0.010s)\n",
            "video 1/1 (31/371) /content/sample_data/movie.mp4: 640x384 Done. (0.010s)\n",
            "video 1/1 (32/371) /content/sample_data/movie.mp4: 640x384 Done. (0.010s)\n",
            "video 1/1 (33/371) /content/sample_data/movie.mp4: 640x384 Done. (0.010s)\n",
            "video 1/1 (34/371) /content/sample_data/movie.mp4: 640x384 Done. (0.010s)\n",
            "video 1/1 (35/371) /content/sample_data/movie.mp4: 640x384 Done. (0.010s)\n",
            "video 1/1 (36/371) /content/sample_data/movie.mp4: 640x384 Done. (0.010s)\n",
            "video 1/1 (37/371) /content/sample_data/movie.mp4: 640x384 Done. (0.010s)\n",
            "video 1/1 (38/371) /content/sample_data/movie.mp4: 640x384 Done. (0.010s)\n",
            "video 1/1 (39/371) /content/sample_data/movie.mp4: 640x384 Done. (0.010s)\n",
            "video 1/1 (40/371) /content/sample_data/movie.mp4: 640x384 Done. (0.010s)\n",
            "video 1/1 (41/371) /content/sample_data/movie.mp4: 640x384 Done. (0.010s)\n",
            "video 1/1 (42/371) /content/sample_data/movie.mp4: 640x384 Done. (0.010s)\n",
            "video 1/1 (43/371) /content/sample_data/movie.mp4: 640x384 Done. (0.011s)\n",
            "video 1/1 (44/371) /content/sample_data/movie.mp4: 640x384 Done. (0.014s)\n",
            "video 1/1 (45/371) /content/sample_data/movie.mp4: 640x384 Done. (0.011s)\n",
            "video 1/1 (46/371) /content/sample_data/movie.mp4: 640x384 Done. (0.010s)\n",
            "video 1/1 (47/371) /content/sample_data/movie.mp4: 640x384 Done. (0.010s)\n",
            "video 1/1 (48/371) /content/sample_data/movie.mp4: 640x384 Done. (0.011s)\n",
            "video 1/1 (49/371) /content/sample_data/movie.mp4: 640x384 Done. (0.010s)\n",
            "video 1/1 (50/371) /content/sample_data/movie.mp4: 640x384 Done. (0.010s)\n",
            "video 1/1 (51/371) /content/sample_data/movie.mp4: 640x384 Done. (0.010s)\n",
            "video 1/1 (52/371) /content/sample_data/movie.mp4: 640x384 Done. (0.010s)\n",
            "video 1/1 (53/371) /content/sample_data/movie.mp4: 640x384 Done. (0.011s)\n",
            "video 1/1 (54/371) /content/sample_data/movie.mp4: 640x384 Done. (0.010s)\n",
            "video 1/1 (55/371) /content/sample_data/movie.mp4: 640x384 Done. (0.010s)\n",
            "video 1/1 (56/371) /content/sample_data/movie.mp4: 640x384 Done. (0.010s)\n",
            "video 1/1 (57/371) /content/sample_data/movie.mp4: 640x384 Done. (0.010s)\n",
            "video 1/1 (58/371) /content/sample_data/movie.mp4: 640x384 Done. (0.011s)\n",
            "video 1/1 (59/371) /content/sample_data/movie.mp4: 640x384 Done. (0.010s)\n",
            "video 1/1 (60/371) /content/sample_data/movie.mp4: 640x384 Done. (0.010s)\n",
            "video 1/1 (61/371) /content/sample_data/movie.mp4: 640x384 Done. (0.010s)\n",
            "video 1/1 (62/371) /content/sample_data/movie.mp4: 640x384 Done. (0.013s)\n",
            "video 1/1 (63/371) /content/sample_data/movie.mp4: 640x384 Done. (0.010s)\n",
            "video 1/1 (64/371) /content/sample_data/movie.mp4: 640x384 Done. (0.010s)\n",
            "video 1/1 (65/371) /content/sample_data/movie.mp4: 640x384 Done. (0.011s)\n",
            "video 1/1 (66/371) /content/sample_data/movie.mp4: 640x384 Done. (0.010s)\n",
            "video 1/1 (67/371) /content/sample_data/movie.mp4: 640x384 Done. (0.010s)\n",
            "video 1/1 (68/371) /content/sample_data/movie.mp4: 640x384 Done. (0.010s)\n",
            "video 1/1 (69/371) /content/sample_data/movie.mp4: 640x384 Done. (0.010s)\n",
            "video 1/1 (70/371) /content/sample_data/movie.mp4: 640x384 Done. (0.010s)\n",
            "video 1/1 (71/371) /content/sample_data/movie.mp4: 640x384 Done. (0.010s)\n",
            "video 1/1 (72/371) /content/sample_data/movie.mp4: 640x384 Done. (0.011s)\n",
            "video 1/1 (73/371) /content/sample_data/movie.mp4: 640x384 Done. (0.011s)\n",
            "video 1/1 (74/371) /content/sample_data/movie.mp4: 640x384 Done. (0.010s)\n",
            "video 1/1 (75/371) /content/sample_data/movie.mp4: 640x384 Done. (0.013s)\n",
            "video 1/1 (76/371) /content/sample_data/movie.mp4: 640x384 Done. (0.010s)\n",
            "video 1/1 (77/371) /content/sample_data/movie.mp4: 640x384 Done. (0.010s)\n",
            "video 1/1 (78/371) /content/sample_data/movie.mp4: 640x384 Done. (0.010s)\n",
            "video 1/1 (79/371) /content/sample_data/movie.mp4: 640x384 Done. (0.016s)\n",
            "video 1/1 (80/371) /content/sample_data/movie.mp4: 640x384 Done. (0.011s)\n",
            "video 1/1 (81/371) /content/sample_data/movie.mp4: 640x384 Done. (0.010s)\n",
            "video 1/1 (82/371) /content/sample_data/movie.mp4: 640x384 Done. (0.013s)\n",
            "video 1/1 (83/371) /content/sample_data/movie.mp4: 640x384 Done. (0.010s)\n",
            "video 1/1 (84/371) /content/sample_data/movie.mp4: 640x384 Done. (0.011s)\n",
            "video 1/1 (85/371) /content/sample_data/movie.mp4: 640x384 Done. (0.011s)\n",
            "video 1/1 (86/371) /content/sample_data/movie.mp4: 640x384 Done. (0.011s)\n",
            "video 1/1 (87/371) /content/sample_data/movie.mp4: 640x384 Done. (0.011s)\n",
            "video 1/1 (88/371) /content/sample_data/movie.mp4: 640x384 Done. (0.011s)\n",
            "video 1/1 (89/371) /content/sample_data/movie.mp4: 640x384 Done. (0.010s)\n",
            "video 1/1 (90/371) /content/sample_data/movie.mp4: 640x384 Done. (0.010s)\n",
            "video 1/1 (91/371) /content/sample_data/movie.mp4: 640x384 Done. (0.013s)\n",
            "video 1/1 (92/371) /content/sample_data/movie.mp4: 640x384 Done. (0.010s)\n",
            "video 1/1 (93/371) /content/sample_data/movie.mp4: 640x384 Done. (0.011s)\n",
            "video 1/1 (94/371) /content/sample_data/movie.mp4: 640x384 Done. (0.014s)\n",
            "video 1/1 (95/371) /content/sample_data/movie.mp4: 640x384 Done. (0.010s)\n",
            "video 1/1 (96/371) /content/sample_data/movie.mp4: 640x384 Done. (0.010s)\n",
            "video 1/1 (97/371) /content/sample_data/movie.mp4: 640x384 Done. (0.010s)\n",
            "video 1/1 (98/371) /content/sample_data/movie.mp4: 640x384 Done. (0.010s)\n",
            "video 1/1 (99/371) /content/sample_data/movie.mp4: 640x384 Done. (0.011s)\n",
            "video 1/1 (100/371) /content/sample_data/movie.mp4: 640x384 Done. (0.011s)\n",
            "video 1/1 (101/371) /content/sample_data/movie.mp4: 640x384 Done. (0.011s)\n",
            "video 1/1 (102/371) /content/sample_data/movie.mp4: 640x384 Done. (0.010s)\n",
            "video 1/1 (103/371) /content/sample_data/movie.mp4: 640x384 Done. (0.010s)\n",
            "video 1/1 (104/371) /content/sample_data/movie.mp4: 640x384 Done. (0.010s)\n",
            "video 1/1 (105/371) /content/sample_data/movie.mp4: 640x384 Done. (0.011s)\n",
            "video 1/1 (106/371) /content/sample_data/movie.mp4: 640x384 Done. (0.011s)\n",
            "video 1/1 (107/371) /content/sample_data/movie.mp4: 640x384 Done. (0.012s)\n",
            "video 1/1 (108/371) /content/sample_data/movie.mp4: 640x384 Done. (0.010s)\n",
            "video 1/1 (109/371) /content/sample_data/movie.mp4: 640x384 Done. (0.011s)\n",
            "video 1/1 (110/371) /content/sample_data/movie.mp4: 640x384 Done. (0.013s)\n",
            "video 1/1 (111/371) /content/sample_data/movie.mp4: 640x384 Done. (0.010s)\n",
            "video 1/1 (112/371) /content/sample_data/movie.mp4: 640x384 Done. (0.010s)\n",
            "video 1/1 (113/371) /content/sample_data/movie.mp4: 640x384 Done. (0.011s)\n",
            "video 1/1 (114/371) /content/sample_data/movie.mp4: 640x384 Done. (0.010s)\n",
            "video 1/1 (115/371) /content/sample_data/movie.mp4: 640x384 Done. (0.010s)\n",
            "video 1/1 (116/371) /content/sample_data/movie.mp4: 640x384 Done. (0.010s)\n",
            "video 1/1 (117/371) /content/sample_data/movie.mp4: 640x384 Done. (0.010s)\n",
            "video 1/1 (118/371) /content/sample_data/movie.mp4: 640x384 Done. (0.014s)\n",
            "video 1/1 (119/371) /content/sample_data/movie.mp4: 640x384 Done. (0.010s)\n",
            "video 1/1 (120/371) /content/sample_data/movie.mp4: 640x384 Done. (0.010s)\n",
            "video 1/1 (121/371) /content/sample_data/movie.mp4: 640x384 Done. (0.013s)\n",
            "video 1/1 (122/371) /content/sample_data/movie.mp4: 640x384 Done. (0.010s)\n",
            "video 1/1 (123/371) /content/sample_data/movie.mp4: 640x384 Done. (0.010s)\n",
            "video 1/1 (124/371) /content/sample_data/movie.mp4: 640x384 Done. (0.010s)\n",
            "video 1/1 (125/371) /content/sample_data/movie.mp4: 640x384 Done. (0.010s)\n",
            "video 1/1 (126/371) /content/sample_data/movie.mp4: 640x384 Done. (0.011s)\n",
            "video 1/1 (127/371) /content/sample_data/movie.mp4: 640x384 Done. (0.010s)\n",
            "video 1/1 (128/371) /content/sample_data/movie.mp4: 640x384 Done. (0.010s)\n",
            "video 1/1 (129/371) /content/sample_data/movie.mp4: 640x384 Done. (0.010s)\n",
            "video 1/1 (130/371) /content/sample_data/movie.mp4: 640x384 Done. (0.010s)\n",
            "video 1/1 (131/371) /content/sample_data/movie.mp4: 640x384 Done. (0.011s)\n",
            "video 1/1 (132/371) /content/sample_data/movie.mp4: 640x384 Done. (0.013s)\n",
            "video 1/1 (133/371) /content/sample_data/movie.mp4: 640x384 Done. (0.011s)\n",
            "video 1/1 (134/371) /content/sample_data/movie.mp4: 640x384 Done. (0.010s)\n",
            "video 1/1 (135/371) /content/sample_data/movie.mp4: 640x384 Done. (0.010s)\n",
            "video 1/1 (136/371) /content/sample_data/movie.mp4: 640x384 Done. (0.010s)\n",
            "video 1/1 (137/371) /content/sample_data/movie.mp4: 640x384 Done. (0.011s)\n",
            "video 1/1 (138/371) /content/sample_data/movie.mp4: 640x384 Done. (0.011s)\n",
            "video 1/1 (139/371) /content/sample_data/movie.mp4: 640x384 Done. (0.010s)\n",
            "video 1/1 (140/371) /content/sample_data/movie.mp4: 640x384 Done. (0.010s)\n",
            "video 1/1 (141/371) /content/sample_data/movie.mp4: 640x384 Done. (0.010s)\n",
            "video 1/1 (142/371) /content/sample_data/movie.mp4: 640x384 1 Man overboard, Done. (0.010s)\n",
            "video 1/1 (143/371) /content/sample_data/movie.mp4: 640x384 1 Man overboard, Done. (0.010s)\n",
            "video 1/1 (144/371) /content/sample_data/movie.mp4: 640x384 1 Man overboard, Done. (0.010s)\n",
            "video 1/1 (145/371) /content/sample_data/movie.mp4: 640x384 1 Man overboard, Done. (0.011s)\n",
            "video 1/1 (146/371) /content/sample_data/movie.mp4: 640x384 1 Man overboard, Done. (0.012s)\n",
            "video 1/1 (147/371) /content/sample_data/movie.mp4: 640x384 1 Man overboard, Done. (0.010s)\n",
            "video 1/1 (148/371) /content/sample_data/movie.mp4: 640x384 1 Man overboard, Done. (0.010s)\n",
            "video 1/1 (149/371) /content/sample_data/movie.mp4: 640x384 1 Man overboard, Done. (0.010s)\n",
            "video 1/1 (150/371) /content/sample_data/movie.mp4: 640x384 1 Man overboard, Done. (0.013s)\n",
            "video 1/1 (151/371) /content/sample_data/movie.mp4: 640x384 1 Man overboard, Done. (0.010s)\n",
            "video 1/1 (152/371) /content/sample_data/movie.mp4: 640x384 1 Man overboard, Done. (0.011s)\n",
            "video 1/1 (153/371) /content/sample_data/movie.mp4: 640x384 1 Man overboard, Done. (0.010s)\n",
            "video 1/1 (154/371) /content/sample_data/movie.mp4: 640x384 1 Man overboard, Done. (0.010s)\n",
            "video 1/1 (155/371) /content/sample_data/movie.mp4: 640x384 1 Man overboard, Done. (0.011s)\n",
            "video 1/1 (156/371) /content/sample_data/movie.mp4: 640x384 1 Man overboard, Done. (0.010s)\n",
            "video 1/1 (157/371) /content/sample_data/movie.mp4: 640x384 1 Man overboard, Done. (0.010s)\n",
            "video 1/1 (158/371) /content/sample_data/movie.mp4: 640x384 1 Man overboard, Done. (0.010s)\n",
            "video 1/1 (159/371) /content/sample_data/movie.mp4: 640x384 1 Man overboard, Done. (0.010s)\n",
            "video 1/1 (160/371) /content/sample_data/movie.mp4: 640x384 1 Man overboard, Done. (0.013s)\n",
            "video 1/1 (161/371) /content/sample_data/movie.mp4: 640x384 1 Man overboard, Done. (0.011s)\n",
            "video 1/1 (162/371) /content/sample_data/movie.mp4: 640x384 1 Man overboard, Done. (0.010s)\n",
            "video 1/1 (163/371) /content/sample_data/movie.mp4: 640x384 1 Man overboard, Done. (0.010s)\n",
            "video 1/1 (164/371) /content/sample_data/movie.mp4: 640x384 1 Man overboard, Done. (0.011s)\n",
            "video 1/1 (165/371) /content/sample_data/movie.mp4: 640x384 1 Man overboard, Done. (0.011s)\n",
            "video 1/1 (166/371) /content/sample_data/movie.mp4: 640x384 1 Man overboard, Done. (0.011s)\n",
            "video 1/1 (167/371) /content/sample_data/movie.mp4: 640x384 1 Man overboard, Done. (0.010s)\n",
            "video 1/1 (168/371) /content/sample_data/movie.mp4: 640x384 1 Man overboard, Done. (0.010s)\n",
            "video 1/1 (169/371) /content/sample_data/movie.mp4: 640x384 1 Man overboard, Done. (0.011s)\n",
            "video 1/1 (170/371) /content/sample_data/movie.mp4: 640x384 1 Man overboard, Done. (0.010s)\n",
            "video 1/1 (171/371) /content/sample_data/movie.mp4: 640x384 1 Man overboard, Done. (0.010s)\n",
            "video 1/1 (172/371) /content/sample_data/movie.mp4: 640x384 1 Man overboard, Done. (0.010s)\n",
            "video 1/1 (173/371) /content/sample_data/movie.mp4: 640x384 1 Man overboard, Done. (0.010s)\n",
            "video 1/1 (174/371) /content/sample_data/movie.mp4: 640x384 1 Man overboard, Done. (0.010s)\n",
            "video 1/1 (175/371) /content/sample_data/movie.mp4: 640x384 1 Man overboard, Done. (0.012s)\n",
            "video 1/1 (176/371) /content/sample_data/movie.mp4: 640x384 1 Man overboard, Done. (0.010s)\n",
            "video 1/1 (177/371) /content/sample_data/movie.mp4: 640x384 1 Man overboard, Done. (0.013s)\n",
            "video 1/1 (178/371) /content/sample_data/movie.mp4: 640x384 1 Man overboard, Done. (0.010s)\n",
            "video 1/1 (179/371) /content/sample_data/movie.mp4: 640x384 1 Man overboard, Done. (0.011s)\n",
            "video 1/1 (180/371) /content/sample_data/movie.mp4: 640x384 1 Man overboard, Done. (0.011s)\n",
            "video 1/1 (181/371) /content/sample_data/movie.mp4: 640x384 1 Man overboard, Done. (0.013s)\n",
            "video 1/1 (182/371) /content/sample_data/movie.mp4: 640x384 1 Man overboard, Done. (0.010s)\n",
            "video 1/1 (183/371) /content/sample_data/movie.mp4: 640x384 1 Man overboard, Done. (0.011s)\n",
            "video 1/1 (184/371) /content/sample_data/movie.mp4: 640x384 1 Man overboard, Done. (0.010s)\n",
            "video 1/1 (185/371) /content/sample_data/movie.mp4: 640x384 1 Man overboard, Done. (0.011s)\n",
            "video 1/1 (186/371) /content/sample_data/movie.mp4: 640x384 1 Man overboard, Done. (0.010s)\n",
            "video 1/1 (187/371) /content/sample_data/movie.mp4: 640x384 1 Man overboard, Done. (0.010s)\n",
            "video 1/1 (188/371) /content/sample_data/movie.mp4: 640x384 1 Man overboard, Done. (0.010s)\n",
            "video 1/1 (189/371) /content/sample_data/movie.mp4: 640x384 1 Man overboard, Done. (0.015s)\n",
            "video 1/1 (190/371) /content/sample_data/movie.mp4: 640x384 1 Man overboard, Done. (0.010s)\n",
            "video 1/1 (191/371) /content/sample_data/movie.mp4: 640x384 1 Man overboard, Done. (0.011s)\n",
            "video 1/1 (192/371) /content/sample_data/movie.mp4: 640x384 1 Man overboard, Done. (0.010s)\n",
            "video 1/1 (193/371) /content/sample_data/movie.mp4: 640x384 1 Man overboard, Done. (0.010s)\n",
            "video 1/1 (194/371) /content/sample_data/movie.mp4: 640x384 1 Man overboard, Done. (0.010s)\n",
            "video 1/1 (195/371) /content/sample_data/movie.mp4: 640x384 1 Man overboard, Done. (0.011s)\n",
            "video 1/1 (196/371) /content/sample_data/movie.mp4: 640x384 1 Man overboard, Done. (0.010s)\n",
            "video 1/1 (197/371) /content/sample_data/movie.mp4: 640x384 1 Man overboard, Done. (0.011s)\n",
            "video 1/1 (198/371) /content/sample_data/movie.mp4: 640x384 1 Man overboard, Done. (0.011s)\n",
            "video 1/1 (199/371) /content/sample_data/movie.mp4: 640x384 1 Man overboard, Done. (0.011s)\n",
            "video 1/1 (200/371) /content/sample_data/movie.mp4: 640x384 1 Man overboard, Done. (0.011s)\n",
            "video 1/1 (201/371) /content/sample_data/movie.mp4: 640x384 1 Man overboard, Done. (0.011s)\n",
            "video 1/1 (202/371) /content/sample_data/movie.mp4: 640x384 1 Man overboard, Done. (0.011s)\n",
            "video 1/1 (203/371) /content/sample_data/movie.mp4: 640x384 1 Man overboard, Done. (0.014s)\n",
            "video 1/1 (204/371) /content/sample_data/movie.mp4: 640x384 1 Man overboard, Done. (0.010s)\n",
            "video 1/1 (205/371) /content/sample_data/movie.mp4: 640x384 1 Man overboard, Done. (0.011s)\n",
            "video 1/1 (206/371) /content/sample_data/movie.mp4: 640x384 1 Man overboard, Done. (0.010s)\n",
            "video 1/1 (207/371) /content/sample_data/movie.mp4: 640x384 1 Man overboard, Done. (0.011s)\n",
            "video 1/1 (208/371) /content/sample_data/movie.mp4: 640x384 1 Man overboard, Done. (0.010s)\n",
            "video 1/1 (209/371) /content/sample_data/movie.mp4: 640x384 1 Man overboard, Done. (0.011s)\n",
            "video 1/1 (210/371) /content/sample_data/movie.mp4: 640x384 1 Man overboard, Done. (0.010s)\n",
            "video 1/1 (211/371) /content/sample_data/movie.mp4: 640x384 1 Man overboard, Done. (0.010s)\n",
            "video 1/1 (212/371) /content/sample_data/movie.mp4: 640x384 1 Man overboard, Done. (0.010s)\n",
            "video 1/1 (213/371) /content/sample_data/movie.mp4: 640x384 1 Man overboard, Done. (0.010s)\n",
            "video 1/1 (214/371) /content/sample_data/movie.mp4: 640x384 1 Man overboard, Done. (0.012s)\n",
            "video 1/1 (215/371) /content/sample_data/movie.mp4: 640x384 1 Man overboard, Done. (0.010s)\n",
            "video 1/1 (216/371) /content/sample_data/movie.mp4: 640x384 Done. (0.011s)\n",
            "video 1/1 (217/371) /content/sample_data/movie.mp4: 640x384 Done. (0.010s)\n",
            "video 1/1 (218/371) /content/sample_data/movie.mp4: 640x384 Done. (0.012s)\n",
            "video 1/1 (219/371) /content/sample_data/movie.mp4: 640x384 Done. (0.010s)\n",
            "video 1/1 (220/371) /content/sample_data/movie.mp4: 640x384 Done. (0.010s)\n",
            "video 1/1 (221/371) /content/sample_data/movie.mp4: 640x384 Done. (0.010s)\n",
            "video 1/1 (222/371) /content/sample_data/movie.mp4: 640x384 Done. (0.010s)\n",
            "video 1/1 (223/371) /content/sample_data/movie.mp4: 640x384 Done. (0.011s)\n",
            "video 1/1 (224/371) /content/sample_data/movie.mp4: 640x384 Done. (0.010s)\n",
            "video 1/1 (225/371) /content/sample_data/movie.mp4: 640x384 Done. (0.010s)\n",
            "video 1/1 (226/371) /content/sample_data/movie.mp4: 640x384 Done. (0.010s)\n",
            "video 1/1 (227/371) /content/sample_data/movie.mp4: 640x384 Done. (0.010s)\n",
            "video 1/1 (228/371) /content/sample_data/movie.mp4: 640x384 Done. (0.010s)\n",
            "video 1/1 (229/371) /content/sample_data/movie.mp4: 640x384 Done. (0.010s)\n",
            "video 1/1 (230/371) /content/sample_data/movie.mp4: 640x384 Done. (0.010s)\n",
            "video 1/1 (231/371) /content/sample_data/movie.mp4: 640x384 Done. (0.013s)\n",
            "video 1/1 (232/371) /content/sample_data/movie.mp4: 640x384 Done. (0.010s)\n",
            "video 1/1 (233/371) /content/sample_data/movie.mp4: 640x384 Done. (0.010s)\n",
            "video 1/1 (234/371) /content/sample_data/movie.mp4: 640x384 Done. (0.011s)\n",
            "video 1/1 (235/371) /content/sample_data/movie.mp4: 640x384 Done. (0.010s)\n",
            "video 1/1 (236/371) /content/sample_data/movie.mp4: 640x384 Done. (0.010s)\n",
            "video 1/1 (237/371) /content/sample_data/movie.mp4: 640x384 Done. (0.010s)\n",
            "video 1/1 (238/371) /content/sample_data/movie.mp4: 640x384 Done. (0.010s)\n",
            "video 1/1 (239/371) /content/sample_data/movie.mp4: 640x384 Done. (0.010s)\n",
            "video 1/1 (240/371) /content/sample_data/movie.mp4: 640x384 Done. (0.010s)\n",
            "video 1/1 (241/371) /content/sample_data/movie.mp4: 640x384 Done. (0.010s)\n",
            "video 1/1 (242/371) /content/sample_data/movie.mp4: 640x384 Done. (0.010s)\n",
            "video 1/1 (243/371) /content/sample_data/movie.mp4: 640x384 Done. (0.011s)\n",
            "video 1/1 (244/371) /content/sample_data/movie.mp4: 640x384 Done. (0.010s)\n",
            "video 1/1 (245/371) /content/sample_data/movie.mp4: 640x384 Done. (0.010s)\n",
            "video 1/1 (246/371) /content/sample_data/movie.mp4: 640x384 Done. (0.010s)\n",
            "video 1/1 (247/371) /content/sample_data/movie.mp4: 640x384 Done. (0.010s)\n",
            "video 1/1 (248/371) /content/sample_data/movie.mp4: 640x384 Done. (0.010s)\n",
            "video 1/1 (249/371) /content/sample_data/movie.mp4: 640x384 Done. (0.010s)\n",
            "video 1/1 (250/371) /content/sample_data/movie.mp4: 640x384 Done. (0.013s)\n",
            "video 1/1 (251/371) /content/sample_data/movie.mp4: 640x384 Done. (0.011s)\n",
            "video 1/1 (252/371) /content/sample_data/movie.mp4: 640x384 Done. (0.010s)\n",
            "video 1/1 (253/371) /content/sample_data/movie.mp4: 640x384 Done. (0.010s)\n",
            "video 1/1 (254/371) /content/sample_data/movie.mp4: 640x384 Done. (0.010s)\n",
            "video 1/1 (255/371) /content/sample_data/movie.mp4: 640x384 Done. (0.011s)\n",
            "video 1/1 (256/371) /content/sample_data/movie.mp4: 640x384 Done. (0.010s)\n",
            "video 1/1 (257/371) /content/sample_data/movie.mp4: 640x384 Done. (0.012s)\n",
            "video 1/1 (258/371) /content/sample_data/movie.mp4: 640x384 1 Man overboard, Done. (0.012s)\n",
            "video 1/1 (259/371) /content/sample_data/movie.mp4: 640x384 1 Man overboard, Done. (0.010s)\n",
            "video 1/1 (260/371) /content/sample_data/movie.mp4: 640x384 1 Man overboard, Done. (0.011s)\n",
            "video 1/1 (261/371) /content/sample_data/movie.mp4: 640x384 Done. (0.011s)\n",
            "video 1/1 (262/371) /content/sample_data/movie.mp4: 640x384 Done. (0.010s)\n",
            "video 1/1 (263/371) /content/sample_data/movie.mp4: 640x384 Done. (0.010s)\n",
            "video 1/1 (264/371) /content/sample_data/movie.mp4: 640x384 Done. (0.010s)\n",
            "video 1/1 (265/371) /content/sample_data/movie.mp4: 640x384 Done. (0.011s)\n",
            "video 1/1 (266/371) /content/sample_data/movie.mp4: 640x384 Done. (0.012s)\n",
            "video 1/1 (267/371) /content/sample_data/movie.mp4: 640x384 Done. (0.012s)\n",
            "video 1/1 (268/371) /content/sample_data/movie.mp4: 640x384 Done. (0.010s)\n",
            "video 1/1 (269/371) /content/sample_data/movie.mp4: 640x384 Done. (0.011s)\n",
            "video 1/1 (270/371) /content/sample_data/movie.mp4: 640x384 Done. (0.010s)\n",
            "video 1/1 (271/371) /content/sample_data/movie.mp4: 640x384 Done. (0.011s)\n",
            "video 1/1 (272/371) /content/sample_data/movie.mp4: 640x384 Done. (0.010s)\n",
            "video 1/1 (273/371) /content/sample_data/movie.mp4: 640x384 Done. (0.013s)\n",
            "video 1/1 (274/371) /content/sample_data/movie.mp4: 640x384 Done. (0.011s)\n",
            "video 1/1 (275/371) /content/sample_data/movie.mp4: 640x384 Done. (0.010s)\n",
            "video 1/1 (276/371) /content/sample_data/movie.mp4: 640x384 Done. (0.011s)\n",
            "video 1/1 (277/371) /content/sample_data/movie.mp4: 640x384 Done. (0.011s)\n",
            "video 1/1 (278/371) /content/sample_data/movie.mp4: 640x384 Done. (0.010s)\n",
            "video 1/1 (279/371) /content/sample_data/movie.mp4: 640x384 Done. (0.010s)\n",
            "video 1/1 (280/371) /content/sample_data/movie.mp4: 640x384 Done. (0.015s)\n",
            "video 1/1 (281/371) /content/sample_data/movie.mp4: 640x384 Done. (0.013s)\n",
            "video 1/1 (282/371) /content/sample_data/movie.mp4: 640x384 Done. (0.012s)\n",
            "video 1/1 (283/371) /content/sample_data/movie.mp4: 640x384 Done. (0.014s)\n",
            "video 1/1 (284/371) /content/sample_data/movie.mp4: 640x384 Done. (0.012s)\n",
            "video 1/1 (285/371) /content/sample_data/movie.mp4: 640x384 Done. (0.010s)\n",
            "video 1/1 (286/371) /content/sample_data/movie.mp4: 640x384 Done. (0.012s)\n",
            "video 1/1 (287/371) /content/sample_data/movie.mp4: 640x384 Done. (0.011s)\n",
            "video 1/1 (288/371) /content/sample_data/movie.mp4: 640x384 Done. (0.010s)\n",
            "video 1/1 (289/371) /content/sample_data/movie.mp4: 640x384 Done. (0.010s)\n",
            "video 1/1 (290/371) /content/sample_data/movie.mp4: 640x384 Done. (0.010s)\n",
            "video 1/1 (291/371) /content/sample_data/movie.mp4: 640x384 Done. (0.010s)\n",
            "video 1/1 (292/371) /content/sample_data/movie.mp4: 640x384 Done. (0.010s)\n",
            "video 1/1 (293/371) /content/sample_data/movie.mp4: 640x384 Done. (0.010s)\n",
            "video 1/1 (294/371) /content/sample_data/movie.mp4: 640x384 Done. (0.010s)\n",
            "video 1/1 (295/371) /content/sample_data/movie.mp4: 640x384 Done. (0.010s)\n",
            "video 1/1 (296/371) /content/sample_data/movie.mp4: 640x384 Done. (0.010s)\n",
            "video 1/1 (297/371) /content/sample_data/movie.mp4: 640x384 Done. (0.011s)\n",
            "video 1/1 (298/371) /content/sample_data/movie.mp4: 640x384 Done. (0.010s)\n",
            "video 1/1 (299/371) /content/sample_data/movie.mp4: 640x384 Done. (0.011s)\n",
            "video 1/1 (300/371) /content/sample_data/movie.mp4: 640x384 Done. (0.013s)\n",
            "video 1/1 (301/371) /content/sample_data/movie.mp4: 640x384 Done. (0.010s)\n",
            "video 1/1 (302/371) /content/sample_data/movie.mp4: 640x384 Done. (0.010s)\n",
            "video 1/1 (303/371) /content/sample_data/movie.mp4: 640x384 Done. (0.012s)\n",
            "video 1/1 (304/371) /content/sample_data/movie.mp4: 640x384 Done. (0.010s)\n",
            "video 1/1 (305/371) /content/sample_data/movie.mp4: 640x384 Done. (0.010s)\n",
            "video 1/1 (306/371) /content/sample_data/movie.mp4: 640x384 Done. (0.010s)\n",
            "video 1/1 (307/371) /content/sample_data/movie.mp4: 640x384 Done. (0.010s)\n",
            "video 1/1 (308/371) /content/sample_data/movie.mp4: 640x384 Done. (0.010s)\n",
            "video 1/1 (309/371) /content/sample_data/movie.mp4: 640x384 Done. (0.010s)\n",
            "video 1/1 (310/371) /content/sample_data/movie.mp4: 640x384 Done. (0.010s)\n",
            "video 1/1 (311/371) /content/sample_data/movie.mp4: 640x384 Done. (0.010s)\n",
            "video 1/1 (312/371) /content/sample_data/movie.mp4: 640x384 Done. (0.010s)\n",
            "video 1/1 (313/371) /content/sample_data/movie.mp4: 640x384 Done. (0.017s)\n",
            "video 1/1 (314/371) /content/sample_data/movie.mp4: 640x384 Done. (0.011s)\n",
            "video 1/1 (315/371) /content/sample_data/movie.mp4: 640x384 Done. (0.010s)\n",
            "video 1/1 (316/371) /content/sample_data/movie.mp4: 640x384 Done. (0.010s)\n",
            "video 1/1 (317/371) /content/sample_data/movie.mp4: 640x384 Done. (0.010s)\n",
            "video 1/1 (318/371) /content/sample_data/movie.mp4: 640x384 Done. (0.010s)\n",
            "video 1/1 (319/371) /content/sample_data/movie.mp4: 640x384 Done. (0.011s)\n",
            "video 1/1 (320/371) /content/sample_data/movie.mp4: 640x384 Done. (0.010s)\n",
            "video 1/1 (321/371) /content/sample_data/movie.mp4: 640x384 Done. (0.010s)\n",
            "video 1/1 (322/371) /content/sample_data/movie.mp4: 640x384 Done. (0.010s)\n",
            "video 1/1 (323/371) /content/sample_data/movie.mp4: 640x384 Done. (0.010s)\n",
            "video 1/1 (324/371) /content/sample_data/movie.mp4: 640x384 Done. (0.010s)\n",
            "video 1/1 (325/371) /content/sample_data/movie.mp4: 640x384 Done. (0.010s)\n",
            "video 1/1 (326/371) /content/sample_data/movie.mp4: 640x384 Done. (0.012s)\n",
            "video 1/1 (327/371) /content/sample_data/movie.mp4: 640x384 Done. (0.010s)\n",
            "video 1/1 (328/371) /content/sample_data/movie.mp4: 640x384 Done. (0.010s)\n",
            "video 1/1 (329/371) /content/sample_data/movie.mp4: 640x384 Done. (0.014s)\n",
            "video 1/1 (330/371) /content/sample_data/movie.mp4: 640x384 Done. (0.010s)\n",
            "video 1/1 (331/371) /content/sample_data/movie.mp4: 640x384 Done. (0.010s)\n",
            "video 1/1 (332/371) /content/sample_data/movie.mp4: 640x384 Done. (0.010s)\n",
            "video 1/1 (333/371) /content/sample_data/movie.mp4: 640x384 Done. (0.010s)\n",
            "video 1/1 (334/371) /content/sample_data/movie.mp4: 640x384 Done. (0.010s)\n",
            "video 1/1 (335/371) /content/sample_data/movie.mp4: 640x384 Done. (0.010s)\n",
            "video 1/1 (336/371) /content/sample_data/movie.mp4: 640x384 Done. (0.010s)\n",
            "video 1/1 (337/371) /content/sample_data/movie.mp4: 640x384 Done. (0.010s)\n",
            "video 1/1 (338/371) /content/sample_data/movie.mp4: 640x384 Done. (0.016s)\n",
            "video 1/1 (339/371) /content/sample_data/movie.mp4: 640x384 Done. (0.010s)\n",
            "video 1/1 (340/371) /content/sample_data/movie.mp4: 640x384 Done. (0.010s)\n",
            "video 1/1 (341/371) /content/sample_data/movie.mp4: 640x384 Done. (0.010s)\n",
            "video 1/1 (342/371) /content/sample_data/movie.mp4: 640x384 Done. (0.010s)\n",
            "video 1/1 (343/371) /content/sample_data/movie.mp4: 640x384 Done. (0.010s)\n",
            "video 1/1 (344/371) /content/sample_data/movie.mp4: 640x384 Done. (0.010s)\n",
            "video 1/1 (345/371) /content/sample_data/movie.mp4: 640x384 Done. (0.012s)\n",
            "video 1/1 (346/371) /content/sample_data/movie.mp4: 640x384 Done. (0.010s)\n",
            "video 1/1 (347/371) /content/sample_data/movie.mp4: 640x384 Done. (0.010s)\n",
            "video 1/1 (348/371) /content/sample_data/movie.mp4: 640x384 Done. (0.010s)\n",
            "video 1/1 (349/371) /content/sample_data/movie.mp4: 640x384 Done. (0.010s)\n",
            "video 1/1 (350/371) /content/sample_data/movie.mp4: 640x384 Done. (0.010s)\n",
            "video 1/1 (351/371) /content/sample_data/movie.mp4: 640x384 Done. (0.010s)\n",
            "video 1/1 (352/371) /content/sample_data/movie.mp4: 640x384 Done. (0.010s)\n",
            "video 1/1 (353/371) /content/sample_data/movie.mp4: 640x384 Done. (0.010s)\n",
            "video 1/1 (354/371) /content/sample_data/movie.mp4: 640x384 Done. (0.012s)\n",
            "video 1/1 (355/371) /content/sample_data/movie.mp4: 640x384 Done. (0.010s)\n",
            "video 1/1 (356/371) /content/sample_data/movie.mp4: 640x384 Done. (0.010s)\n",
            "video 1/1 (357/371) /content/sample_data/movie.mp4: 640x384 Done. (0.011s)\n",
            "video 1/1 (358/371) /content/sample_data/movie.mp4: 640x384 Done. (0.010s)\n",
            "video 1/1 (359/371) /content/sample_data/movie.mp4: 640x384 Done. (0.010s)\n",
            "video 1/1 (360/371) /content/sample_data/movie.mp4: 640x384 Done. (0.010s)\n",
            "video 1/1 (361/371) /content/sample_data/movie.mp4: 640x384 Done. (0.010s)\n",
            "video 1/1 (362/371) /content/sample_data/movie.mp4: 640x384 Done. (0.011s)\n",
            "video 1/1 (363/371) /content/sample_data/movie.mp4: 640x384 Done. (0.010s)\n",
            "video 1/1 (364/371) /content/sample_data/movie.mp4: 640x384 Done. (0.010s)\n",
            "video 1/1 (365/371) /content/sample_data/movie.mp4: 640x384 Done. (0.010s)\n",
            "video 1/1 (366/371) /content/sample_data/movie.mp4: 640x384 Done. (0.010s)\n",
            "video 1/1 (367/371) /content/sample_data/movie.mp4: 640x384 Done. (0.010s)\n",
            "video 1/1 (368/371) /content/sample_data/movie.mp4: 640x384 Done. (0.013s)\n",
            "video 1/1 (369/371) /content/sample_data/movie.mp4: 640x384 Done. (0.011s)\n",
            "video 1/1 (370/371) /content/sample_data/movie.mp4: 640x384 Done. (0.011s)\n",
            "video 1/1 (371/371) /content/sample_data/movie.mp4: 640x384 Done. (0.011s)\n",
            "Speed: 0.4ms pre-process, 10.7ms inference, 0.3ms NMS per image at shape (1, 3, 640, 640)\n",
            "Results saved to \u001b[1myolov5/runs/detect/exp\u001b[0m\n"
          ]
        }
      ]
    },
    {
      "cell_type": "code",
      "source": [
        "shutil.move(\"/content/yolov5/runs/detect/exp/movie.mp4\", \"/content/sample_data/movie.mp4\")\n",
        "shutil.rmtree(\"/content/yolov5/runs/detect/exp\")\n",
        "\n",
        "ct =str(int(time.time()))\n",
        "os.rename(\"/content/sample_data/movie.mp4\", \"/content/sample_data/output_optical\"+str(ct)+\".mp4\")\n",
        "shutil.move(\"/content/sample_data/output_optical\"+str(ct)+\".mp4\", \"/content/drive/MyDrive/METIS/outputs/output_optical\"+str(ct)+\".mp4\")\n",
        "opticalVideoTimestamp = str(ct)"
      ],
      "metadata": {
        "id": "S4-GsbrEkMb4"
      },
      "execution_count": null,
      "outputs": []
    },
    {
      "cell_type": "code",
      "source": [
        "!python /content/yolov5/detect.py --weights /content/drive/MyDrive/METIS/models/YOLO_thermal_best.pt --img 320 --conf 0.25 --source /content/sample_data/movie_thermal.mp4"
      ],
      "metadata": {
        "id": "jiHwGEjbcXJH",
        "colab": {
          "base_uri": "https://localhost:8080/"
        },
        "outputId": "03ddf13b-a9a0-44b2-9674-d7a1531f1058"
      },
      "execution_count": null,
      "outputs": [
        {
          "output_type": "stream",
          "name": "stdout",
          "text": [
            "\u001b[34m\u001b[1mdetect: \u001b[0mweights=['/content/drive/MyDrive/METIS/models/YOLO_thermal_best.pt'], source=/content/sample_data/movie_thermal.mp4, data=yolov5/data/coco128.yaml, imgsz=[320, 320], conf_thres=0.25, iou_thres=0.45, max_det=1000, device=, view_img=False, save_txt=False, save_conf=False, save_crop=False, nosave=False, classes=None, agnostic_nms=False, augment=False, visualize=False, update=False, project=yolov5/runs/detect, name=exp, exist_ok=False, line_thickness=3, hide_labels=False, hide_conf=False, half=False, dnn=False\n",
            "YOLOv5 🚀 v6.1-280-g27d831b Python-3.7.13 torch-1.11.0+cu113 CUDA:0 (Tesla T4, 15110MiB)\n",
            "\n",
            "Fusing layers... \n",
            "Model summary: 213 layers, 7012822 parameters, 0 gradients\n",
            "video 1/1 (1/371) /content/sample_data/movie_thermal.mp4: 320x256 Done. (0.014s)\n",
            "video 1/1 (2/371) /content/sample_data/movie_thermal.mp4: 320x256 Done. (0.009s)\n",
            "video 1/1 (3/371) /content/sample_data/movie_thermal.mp4: 320x256 Done. (0.009s)\n",
            "video 1/1 (4/371) /content/sample_data/movie_thermal.mp4: 320x256 Done. (0.013s)\n",
            "video 1/1 (5/371) /content/sample_data/movie_thermal.mp4: 320x256 Done. (0.009s)\n",
            "video 1/1 (6/371) /content/sample_data/movie_thermal.mp4: 320x256 Done. (0.009s)\n",
            "video 1/1 (7/371) /content/sample_data/movie_thermal.mp4: 320x256 Done. (0.009s)\n",
            "video 1/1 (8/371) /content/sample_data/movie_thermal.mp4: 320x256 Done. (0.009s)\n",
            "video 1/1 (9/371) /content/sample_data/movie_thermal.mp4: 320x256 Done. (0.009s)\n",
            "video 1/1 (10/371) /content/sample_data/movie_thermal.mp4: 320x256 Done. (0.009s)\n",
            "video 1/1 (11/371) /content/sample_data/movie_thermal.mp4: 320x256 Done. (0.008s)\n",
            "video 1/1 (12/371) /content/sample_data/movie_thermal.mp4: 320x256 Done. (0.008s)\n",
            "video 1/1 (13/371) /content/sample_data/movie_thermal.mp4: 320x256 Done. (0.010s)\n",
            "video 1/1 (14/371) /content/sample_data/movie_thermal.mp4: 320x256 Done. (0.009s)\n",
            "video 1/1 (15/371) /content/sample_data/movie_thermal.mp4: 320x256 Done. (0.009s)\n",
            "video 1/1 (16/371) /content/sample_data/movie_thermal.mp4: 320x256 Done. (0.009s)\n",
            "video 1/1 (17/371) /content/sample_data/movie_thermal.mp4: 320x256 Done. (0.009s)\n",
            "video 1/1 (18/371) /content/sample_data/movie_thermal.mp4: 320x256 Done. (0.009s)\n",
            "video 1/1 (19/371) /content/sample_data/movie_thermal.mp4: 320x256 Done. (0.009s)\n",
            "video 1/1 (20/371) /content/sample_data/movie_thermal.mp4: 320x256 Done. (0.009s)\n",
            "video 1/1 (21/371) /content/sample_data/movie_thermal.mp4: 320x256 Done. (0.009s)\n",
            "video 1/1 (22/371) /content/sample_data/movie_thermal.mp4: 320x256 Done. (0.009s)\n",
            "video 1/1 (23/371) /content/sample_data/movie_thermal.mp4: 320x256 Done. (0.009s)\n",
            "video 1/1 (24/371) /content/sample_data/movie_thermal.mp4: 320x256 Done. (0.009s)\n",
            "video 1/1 (25/371) /content/sample_data/movie_thermal.mp4: 320x256 Done. (0.009s)\n",
            "video 1/1 (26/371) /content/sample_data/movie_thermal.mp4: 320x256 Done. (0.010s)\n",
            "video 1/1 (27/371) /content/sample_data/movie_thermal.mp4: 320x256 Done. (0.009s)\n",
            "video 1/1 (28/371) /content/sample_data/movie_thermal.mp4: 320x256 Done. (0.010s)\n",
            "video 1/1 (29/371) /content/sample_data/movie_thermal.mp4: 320x256 Done. (0.009s)\n",
            "video 1/1 (30/371) /content/sample_data/movie_thermal.mp4: 320x256 Done. (0.009s)\n",
            "video 1/1 (31/371) /content/sample_data/movie_thermal.mp4: 320x256 Done. (0.014s)\n",
            "video 1/1 (32/371) /content/sample_data/movie_thermal.mp4: 320x256 Done. (0.017s)\n",
            "video 1/1 (33/371) /content/sample_data/movie_thermal.mp4: 320x256 Done. (0.010s)\n",
            "video 1/1 (34/371) /content/sample_data/movie_thermal.mp4: 320x256 Done. (0.010s)\n",
            "video 1/1 (35/371) /content/sample_data/movie_thermal.mp4: 320x256 Done. (0.009s)\n",
            "video 1/1 (36/371) /content/sample_data/movie_thermal.mp4: 320x256 Done. (0.009s)\n",
            "video 1/1 (37/371) /content/sample_data/movie_thermal.mp4: 320x256 Done. (0.009s)\n",
            "video 1/1 (38/371) /content/sample_data/movie_thermal.mp4: 320x256 Done. (0.009s)\n",
            "video 1/1 (39/371) /content/sample_data/movie_thermal.mp4: 320x256 Done. (0.010s)\n",
            "video 1/1 (40/371) /content/sample_data/movie_thermal.mp4: 320x256 Done. (0.010s)\n",
            "video 1/1 (41/371) /content/sample_data/movie_thermal.mp4: 320x256 Done. (0.011s)\n",
            "video 1/1 (42/371) /content/sample_data/movie_thermal.mp4: 320x256 Done. (0.009s)\n",
            "video 1/1 (43/371) /content/sample_data/movie_thermal.mp4: 320x256 Done. (0.009s)\n",
            "video 1/1 (44/371) /content/sample_data/movie_thermal.mp4: 320x256 Done. (0.009s)\n",
            "video 1/1 (45/371) /content/sample_data/movie_thermal.mp4: 320x256 Done. (0.009s)\n",
            "video 1/1 (46/371) /content/sample_data/movie_thermal.mp4: 320x256 Done. (0.009s)\n",
            "video 1/1 (47/371) /content/sample_data/movie_thermal.mp4: 320x256 Done. (0.009s)\n",
            "video 1/1 (48/371) /content/sample_data/movie_thermal.mp4: 320x256 Done. (0.009s)\n",
            "video 1/1 (49/371) /content/sample_data/movie_thermal.mp4: 320x256 Done. (0.009s)\n",
            "video 1/1 (50/371) /content/sample_data/movie_thermal.mp4: 320x256 Done. (0.012s)\n",
            "video 1/1 (51/371) /content/sample_data/movie_thermal.mp4: 320x256 Done. (0.009s)\n",
            "video 1/1 (52/371) /content/sample_data/movie_thermal.mp4: 320x256 Done. (0.009s)\n",
            "video 1/1 (53/371) /content/sample_data/movie_thermal.mp4: 320x256 Done. (0.009s)\n",
            "video 1/1 (54/371) /content/sample_data/movie_thermal.mp4: 320x256 Done. (0.009s)\n",
            "video 1/1 (55/371) /content/sample_data/movie_thermal.mp4: 320x256 Done. (0.010s)\n",
            "video 1/1 (56/371) /content/sample_data/movie_thermal.mp4: 320x256 Done. (0.009s)\n",
            "video 1/1 (57/371) /content/sample_data/movie_thermal.mp4: 320x256 Done. (0.008s)\n",
            "video 1/1 (58/371) /content/sample_data/movie_thermal.mp4: 320x256 Done. (0.009s)\n",
            "video 1/1 (59/371) /content/sample_data/movie_thermal.mp4: 320x256 Done. (0.009s)\n",
            "video 1/1 (60/371) /content/sample_data/movie_thermal.mp4: 320x256 Done. (0.009s)\n",
            "video 1/1 (61/371) /content/sample_data/movie_thermal.mp4: 320x256 Done. (0.009s)\n",
            "video 1/1 (62/371) /content/sample_data/movie_thermal.mp4: 320x256 Done. (0.010s)\n",
            "video 1/1 (63/371) /content/sample_data/movie_thermal.mp4: 320x256 Done. (0.009s)\n",
            "video 1/1 (64/371) /content/sample_data/movie_thermal.mp4: 320x256 Done. (0.009s)\n",
            "video 1/1 (65/371) /content/sample_data/movie_thermal.mp4: 320x256 Done. (0.011s)\n",
            "video 1/1 (66/371) /content/sample_data/movie_thermal.mp4: 320x256 Done. (0.009s)\n",
            "video 1/1 (67/371) /content/sample_data/movie_thermal.mp4: 320x256 Done. (0.009s)\n",
            "video 1/1 (68/371) /content/sample_data/movie_thermal.mp4: 320x256 Done. (0.009s)\n",
            "video 1/1 (69/371) /content/sample_data/movie_thermal.mp4: 320x256 Done. (0.010s)\n",
            "video 1/1 (70/371) /content/sample_data/movie_thermal.mp4: 320x256 Done. (0.009s)\n",
            "video 1/1 (71/371) /content/sample_data/movie_thermal.mp4: 320x256 Done. (0.009s)\n",
            "video 1/1 (72/371) /content/sample_data/movie_thermal.mp4: 320x256 Done. (0.009s)\n",
            "video 1/1 (73/371) /content/sample_data/movie_thermal.mp4: 320x256 Done. (0.009s)\n",
            "video 1/1 (74/371) /content/sample_data/movie_thermal.mp4: 320x256 Done. (0.012s)\n",
            "video 1/1 (75/371) /content/sample_data/movie_thermal.mp4: 320x256 Done. (0.009s)\n",
            "video 1/1 (76/371) /content/sample_data/movie_thermal.mp4: 320x256 Done. (0.009s)\n",
            "video 1/1 (77/371) /content/sample_data/movie_thermal.mp4: 320x256 Done. (0.009s)\n",
            "video 1/1 (78/371) /content/sample_data/movie_thermal.mp4: 320x256 Done. (0.010s)\n",
            "video 1/1 (79/371) /content/sample_data/movie_thermal.mp4: 320x256 Done. (0.010s)\n",
            "video 1/1 (80/371) /content/sample_data/movie_thermal.mp4: 320x256 Done. (0.009s)\n",
            "video 1/1 (81/371) /content/sample_data/movie_thermal.mp4: 320x256 Done. (0.009s)\n",
            "video 1/1 (82/371) /content/sample_data/movie_thermal.mp4: 320x256 Done. (0.009s)\n",
            "video 1/1 (83/371) /content/sample_data/movie_thermal.mp4: 320x256 Done. (0.009s)\n",
            "video 1/1 (84/371) /content/sample_data/movie_thermal.mp4: 320x256 Done. (0.009s)\n",
            "video 1/1 (85/371) /content/sample_data/movie_thermal.mp4: 320x256 Done. (0.009s)\n",
            "video 1/1 (86/371) /content/sample_data/movie_thermal.mp4: 320x256 Done. (0.009s)\n",
            "video 1/1 (87/371) /content/sample_data/movie_thermal.mp4: 320x256 Done. (0.011s)\n",
            "video 1/1 (88/371) /content/sample_data/movie_thermal.mp4: 320x256 Done. (0.009s)\n",
            "video 1/1 (89/371) /content/sample_data/movie_thermal.mp4: 320x256 Done. (0.009s)\n",
            "video 1/1 (90/371) /content/sample_data/movie_thermal.mp4: 320x256 Done. (0.009s)\n",
            "video 1/1 (91/371) /content/sample_data/movie_thermal.mp4: 320x256 Done. (0.009s)\n",
            "video 1/1 (92/371) /content/sample_data/movie_thermal.mp4: 320x256 Done. (0.009s)\n",
            "video 1/1 (93/371) /content/sample_data/movie_thermal.mp4: 320x256 Done. (0.009s)\n",
            "video 1/1 (94/371) /content/sample_data/movie_thermal.mp4: 320x256 Done. (0.009s)\n",
            "video 1/1 (95/371) /content/sample_data/movie_thermal.mp4: 320x256 Done. (0.009s)\n",
            "video 1/1 (96/371) /content/sample_data/movie_thermal.mp4: 320x256 Done. (0.009s)\n",
            "video 1/1 (97/371) /content/sample_data/movie_thermal.mp4: 320x256 Done. (0.009s)\n",
            "video 1/1 (98/371) /content/sample_data/movie_thermal.mp4: 320x256 Done. (0.009s)\n",
            "video 1/1 (99/371) /content/sample_data/movie_thermal.mp4: 320x256 Done. (0.009s)\n",
            "video 1/1 (100/371) /content/sample_data/movie_thermal.mp4: 320x256 Done. (0.009s)\n",
            "video 1/1 (101/371) /content/sample_data/movie_thermal.mp4: 320x256 Done. (0.009s)\n",
            "video 1/1 (102/371) /content/sample_data/movie_thermal.mp4: 320x256 Done. (0.009s)\n",
            "video 1/1 (103/371) /content/sample_data/movie_thermal.mp4: 320x256 Done. (0.009s)\n",
            "video 1/1 (104/371) /content/sample_data/movie_thermal.mp4: 320x256 Done. (0.009s)\n",
            "video 1/1 (105/371) /content/sample_data/movie_thermal.mp4: 320x256 Done. (0.009s)\n",
            "video 1/1 (106/371) /content/sample_data/movie_thermal.mp4: 320x256 Done. (0.009s)\n",
            "video 1/1 (107/371) /content/sample_data/movie_thermal.mp4: 320x256 Done. (0.012s)\n",
            "video 1/1 (108/371) /content/sample_data/movie_thermal.mp4: 320x256 Done. (0.009s)\n",
            "video 1/1 (109/371) /content/sample_data/movie_thermal.mp4: 320x256 Done. (0.009s)\n",
            "video 1/1 (110/371) /content/sample_data/movie_thermal.mp4: 320x256 Done. (0.009s)\n",
            "video 1/1 (111/371) /content/sample_data/movie_thermal.mp4: 320x256 Done. (0.011s)\n",
            "video 1/1 (112/371) /content/sample_data/movie_thermal.mp4: 320x256 Done. (0.009s)\n",
            "video 1/1 (113/371) /content/sample_data/movie_thermal.mp4: 320x256 Done. (0.009s)\n",
            "video 1/1 (114/371) /content/sample_data/movie_thermal.mp4: 320x256 Done. (0.009s)\n",
            "video 1/1 (115/371) /content/sample_data/movie_thermal.mp4: 320x256 Done. (0.009s)\n",
            "video 1/1 (116/371) /content/sample_data/movie_thermal.mp4: 320x256 Done. (0.009s)\n",
            "video 1/1 (117/371) /content/sample_data/movie_thermal.mp4: 320x256 Done. (0.009s)\n",
            "video 1/1 (118/371) /content/sample_data/movie_thermal.mp4: 320x256 Done. (0.010s)\n",
            "video 1/1 (119/371) /content/sample_data/movie_thermal.mp4: 320x256 Done. (0.010s)\n",
            "video 1/1 (120/371) /content/sample_data/movie_thermal.mp4: 320x256 Done. (0.010s)\n",
            "video 1/1 (121/371) /content/sample_data/movie_thermal.mp4: 320x256 Done. (0.010s)\n",
            "video 1/1 (122/371) /content/sample_data/movie_thermal.mp4: 320x256 Done. (0.009s)\n",
            "video 1/1 (123/371) /content/sample_data/movie_thermal.mp4: 320x256 Done. (0.009s)\n",
            "video 1/1 (124/371) /content/sample_data/movie_thermal.mp4: 320x256 Done. (0.009s)\n",
            "video 1/1 (125/371) /content/sample_data/movie_thermal.mp4: 320x256 Done. (0.014s)\n",
            "video 1/1 (126/371) /content/sample_data/movie_thermal.mp4: 320x256 Done. (0.010s)\n",
            "video 1/1 (127/371) /content/sample_data/movie_thermal.mp4: 320x256 Done. (0.010s)\n",
            "video 1/1 (128/371) /content/sample_data/movie_thermal.mp4: 320x256 Done. (0.010s)\n",
            "video 1/1 (129/371) /content/sample_data/movie_thermal.mp4: 320x256 Done. (0.009s)\n",
            "video 1/1 (130/371) /content/sample_data/movie_thermal.mp4: 320x256 Done. (0.009s)\n",
            "video 1/1 (131/371) /content/sample_data/movie_thermal.mp4: 320x256 Done. (0.009s)\n",
            "video 1/1 (132/371) /content/sample_data/movie_thermal.mp4: 320x256 Done. (0.010s)\n",
            "video 1/1 (133/371) /content/sample_data/movie_thermal.mp4: 320x256 Done. (0.010s)\n",
            "video 1/1 (134/371) /content/sample_data/movie_thermal.mp4: 320x256 Done. (0.013s)\n",
            "video 1/1 (135/371) /content/sample_data/movie_thermal.mp4: 320x256 Done. (0.012s)\n",
            "video 1/1 (136/371) /content/sample_data/movie_thermal.mp4: 320x256 Done. (0.010s)\n",
            "video 1/1 (137/371) /content/sample_data/movie_thermal.mp4: 320x256 Done. (0.010s)\n",
            "video 1/1 (138/371) /content/sample_data/movie_thermal.mp4: 320x256 Done. (0.009s)\n",
            "video 1/1 (139/371) /content/sample_data/movie_thermal.mp4: 320x256 Done. (0.010s)\n",
            "video 1/1 (140/371) /content/sample_data/movie_thermal.mp4: 320x256 Done. (0.009s)\n",
            "video 1/1 (141/371) /content/sample_data/movie_thermal.mp4: 320x256 Done. (0.009s)\n",
            "video 1/1 (142/371) /content/sample_data/movie_thermal.mp4: 320x256 Done. (0.010s)\n",
            "video 1/1 (143/371) /content/sample_data/movie_thermal.mp4: 320x256 Done. (0.009s)\n",
            "video 1/1 (144/371) /content/sample_data/movie_thermal.mp4: 320x256 Done. (0.010s)\n",
            "video 1/1 (145/371) /content/sample_data/movie_thermal.mp4: 320x256 Done. (0.009s)\n",
            "video 1/1 (146/371) /content/sample_data/movie_thermal.mp4: 320x256 Done. (0.009s)\n",
            "video 1/1 (147/371) /content/sample_data/movie_thermal.mp4: 320x256 Done. (0.009s)\n",
            "video 1/1 (148/371) /content/sample_data/movie_thermal.mp4: 320x256 Done. (0.009s)\n",
            "video 1/1 (149/371) /content/sample_data/movie_thermal.mp4: 320x256 Done. (0.009s)\n",
            "video 1/1 (150/371) /content/sample_data/movie_thermal.mp4: 320x256 Done. (0.009s)\n",
            "video 1/1 (151/371) /content/sample_data/movie_thermal.mp4: 320x256 Done. (0.009s)\n",
            "video 1/1 (152/371) /content/sample_data/movie_thermal.mp4: 320x256 Done. (0.010s)\n",
            "video 1/1 (153/371) /content/sample_data/movie_thermal.mp4: 320x256 Done. (0.009s)\n",
            "video 1/1 (154/371) /content/sample_data/movie_thermal.mp4: 320x256 Done. (0.009s)\n",
            "video 1/1 (155/371) /content/sample_data/movie_thermal.mp4: 320x256 Done. (0.010s)\n",
            "video 1/1 (156/371) /content/sample_data/movie_thermal.mp4: 320x256 Done. (0.010s)\n",
            "video 1/1 (157/371) /content/sample_data/movie_thermal.mp4: 320x256 Done. (0.012s)\n",
            "video 1/1 (158/371) /content/sample_data/movie_thermal.mp4: 320x256 Done. (0.009s)\n",
            "video 1/1 (159/371) /content/sample_data/movie_thermal.mp4: 320x256 Done. (0.010s)\n",
            "video 1/1 (160/371) /content/sample_data/movie_thermal.mp4: 320x256 Done. (0.009s)\n",
            "video 1/1 (161/371) /content/sample_data/movie_thermal.mp4: 320x256 Done. (0.013s)\n",
            "video 1/1 (162/371) /content/sample_data/movie_thermal.mp4: 320x256 Done. (0.010s)\n",
            "video 1/1 (163/371) /content/sample_data/movie_thermal.mp4: 320x256 Done. (0.009s)\n",
            "video 1/1 (164/371) /content/sample_data/movie_thermal.mp4: 320x256 Done. (0.009s)\n",
            "video 1/1 (165/371) /content/sample_data/movie_thermal.mp4: 320x256 Done. (0.009s)\n",
            "video 1/1 (166/371) /content/sample_data/movie_thermal.mp4: 320x256 Done. (0.009s)\n",
            "video 1/1 (167/371) /content/sample_data/movie_thermal.mp4: 320x256 Done. (0.009s)\n",
            "video 1/1 (168/371) /content/sample_data/movie_thermal.mp4: 320x256 Done. (0.009s)\n",
            "video 1/1 (169/371) /content/sample_data/movie_thermal.mp4: 320x256 Done. (0.009s)\n",
            "video 1/1 (170/371) /content/sample_data/movie_thermal.mp4: 320x256 Done. (0.010s)\n",
            "video 1/1 (171/371) /content/sample_data/movie_thermal.mp4: 320x256 Done. (0.011s)\n",
            "video 1/1 (172/371) /content/sample_data/movie_thermal.mp4: 320x256 1 Man overboard, Done. (0.011s)\n",
            "video 1/1 (173/371) /content/sample_data/movie_thermal.mp4: 320x256 1 Man overboard, Done. (0.009s)\n",
            "video 1/1 (174/371) /content/sample_data/movie_thermal.mp4: 320x256 1 Man overboard, Done. (0.009s)\n",
            "video 1/1 (175/371) /content/sample_data/movie_thermal.mp4: 320x256 1 Man overboard, Done. (0.009s)\n",
            "video 1/1 (176/371) /content/sample_data/movie_thermal.mp4: 320x256 1 Man overboard, Done. (0.009s)\n",
            "video 1/1 (177/371) /content/sample_data/movie_thermal.mp4: 320x256 1 Man overboard, Done. (0.009s)\n",
            "video 1/1 (178/371) /content/sample_data/movie_thermal.mp4: 320x256 1 Man overboard, Done. (0.009s)\n",
            "video 1/1 (179/371) /content/sample_data/movie_thermal.mp4: 320x256 1 Man overboard, Done. (0.010s)\n",
            "video 1/1 (180/371) /content/sample_data/movie_thermal.mp4: 320x256 1 Man overboard, Done. (0.012s)\n",
            "video 1/1 (181/371) /content/sample_data/movie_thermal.mp4: 320x256 1 Man overboard, Done. (0.009s)\n",
            "video 1/1 (182/371) /content/sample_data/movie_thermal.mp4: 320x256 1 Man overboard, Done. (0.010s)\n",
            "video 1/1 (183/371) /content/sample_data/movie_thermal.mp4: 320x256 1 Man overboard, Done. (0.010s)\n",
            "video 1/1 (184/371) /content/sample_data/movie_thermal.mp4: 320x256 1 Man overboard, Done. (0.010s)\n",
            "video 1/1 (185/371) /content/sample_data/movie_thermal.mp4: 320x256 1 Man overboard, Done. (0.011s)\n",
            "video 1/1 (186/371) /content/sample_data/movie_thermal.mp4: 320x256 1 Man overboard, Done. (0.013s)\n",
            "video 1/1 (187/371) /content/sample_data/movie_thermal.mp4: 320x256 1 Man overboard, Done. (0.009s)\n",
            "video 1/1 (188/371) /content/sample_data/movie_thermal.mp4: 320x256 1 Man overboard, Done. (0.009s)\n",
            "video 1/1 (189/371) /content/sample_data/movie_thermal.mp4: 320x256 1 Man overboard, Done. (0.009s)\n",
            "video 1/1 (190/371) /content/sample_data/movie_thermal.mp4: 320x256 1 Man overboard, Done. (0.010s)\n",
            "video 1/1 (191/371) /content/sample_data/movie_thermal.mp4: 320x256 1 Man overboard, Done. (0.009s)\n",
            "video 1/1 (192/371) /content/sample_data/movie_thermal.mp4: 320x256 1 Man overboard, Done. (0.009s)\n",
            "video 1/1 (193/371) /content/sample_data/movie_thermal.mp4: 320x256 1 Man overboard, Done. (0.009s)\n",
            "video 1/1 (194/371) /content/sample_data/movie_thermal.mp4: 320x256 1 Man overboard, Done. (0.009s)\n",
            "video 1/1 (195/371) /content/sample_data/movie_thermal.mp4: 320x256 1 Man overboard, Done. (0.009s)\n",
            "video 1/1 (196/371) /content/sample_data/movie_thermal.mp4: 320x256 1 Man overboard, Done. (0.009s)\n",
            "video 1/1 (197/371) /content/sample_data/movie_thermal.mp4: 320x256 1 Man overboard, Done. (0.009s)\n",
            "video 1/1 (198/371) /content/sample_data/movie_thermal.mp4: 320x256 1 Man overboard, Done. (0.009s)\n",
            "video 1/1 (199/371) /content/sample_data/movie_thermal.mp4: 320x256 Done. (0.009s)\n",
            "video 1/1 (200/371) /content/sample_data/movie_thermal.mp4: 320x256 Done. (0.008s)\n",
            "video 1/1 (201/371) /content/sample_data/movie_thermal.mp4: 320x256 Done. (0.009s)\n",
            "video 1/1 (202/371) /content/sample_data/movie_thermal.mp4: 320x256 Done. (0.009s)\n",
            "video 1/1 (203/371) /content/sample_data/movie_thermal.mp4: 320x256 Done. (0.009s)\n",
            "video 1/1 (204/371) /content/sample_data/movie_thermal.mp4: 320x256 Done. (0.008s)\n",
            "video 1/1 (205/371) /content/sample_data/movie_thermal.mp4: 320x256 Done. (0.009s)\n",
            "video 1/1 (206/371) /content/sample_data/movie_thermal.mp4: 320x256 Done. (0.009s)\n",
            "video 1/1 (207/371) /content/sample_data/movie_thermal.mp4: 320x256 Done. (0.012s)\n",
            "video 1/1 (208/371) /content/sample_data/movie_thermal.mp4: 320x256 Done. (0.009s)\n",
            "video 1/1 (209/371) /content/sample_data/movie_thermal.mp4: 320x256 Done. (0.009s)\n",
            "video 1/1 (210/371) /content/sample_data/movie_thermal.mp4: 320x256 Done. (0.009s)\n",
            "video 1/1 (211/371) /content/sample_data/movie_thermal.mp4: 320x256 Done. (0.012s)\n",
            "video 1/1 (212/371) /content/sample_data/movie_thermal.mp4: 320x256 Done. (0.015s)\n",
            "video 1/1 (213/371) /content/sample_data/movie_thermal.mp4: 320x256 Done. (0.012s)\n",
            "video 1/1 (214/371) /content/sample_data/movie_thermal.mp4: 320x256 Done. (0.009s)\n",
            "video 1/1 (215/371) /content/sample_data/movie_thermal.mp4: 320x256 Done. (0.009s)\n",
            "video 1/1 (216/371) /content/sample_data/movie_thermal.mp4: 320x256 Done. (0.009s)\n",
            "video 1/1 (217/371) /content/sample_data/movie_thermal.mp4: 320x256 Done. (0.009s)\n",
            "video 1/1 (218/371) /content/sample_data/movie_thermal.mp4: 320x256 Done. (0.009s)\n",
            "video 1/1 (219/371) /content/sample_data/movie_thermal.mp4: 320x256 Done. (0.009s)\n",
            "video 1/1 (220/371) /content/sample_data/movie_thermal.mp4: 320x256 Done. (0.010s)\n",
            "video 1/1 (221/371) /content/sample_data/movie_thermal.mp4: 320x256 Done. (0.009s)\n",
            "video 1/1 (222/371) /content/sample_data/movie_thermal.mp4: 320x256 Done. (0.009s)\n",
            "video 1/1 (223/371) /content/sample_data/movie_thermal.mp4: 320x256 Done. (0.009s)\n",
            "video 1/1 (224/371) /content/sample_data/movie_thermal.mp4: 320x256 Done. (0.009s)\n",
            "video 1/1 (225/371) /content/sample_data/movie_thermal.mp4: 320x256 Done. (0.009s)\n",
            "video 1/1 (226/371) /content/sample_data/movie_thermal.mp4: 320x256 Done. (0.009s)\n",
            "video 1/1 (227/371) /content/sample_data/movie_thermal.mp4: 320x256 Done. (0.010s)\n",
            "video 1/1 (228/371) /content/sample_data/movie_thermal.mp4: 320x256 Done. (0.009s)\n",
            "video 1/1 (229/371) /content/sample_data/movie_thermal.mp4: 320x256 Done. (0.009s)\n",
            "video 1/1 (230/371) /content/sample_data/movie_thermal.mp4: 320x256 Done. (0.009s)\n",
            "video 1/1 (231/371) /content/sample_data/movie_thermal.mp4: 320x256 Done. (0.009s)\n",
            "video 1/1 (232/371) /content/sample_data/movie_thermal.mp4: 320x256 Done. (0.009s)\n",
            "video 1/1 (233/371) /content/sample_data/movie_thermal.mp4: 320x256 Done. (0.009s)\n",
            "video 1/1 (234/371) /content/sample_data/movie_thermal.mp4: 320x256 Done. (0.009s)\n",
            "video 1/1 (235/371) /content/sample_data/movie_thermal.mp4: 320x256 Done. (0.009s)\n",
            "video 1/1 (236/371) /content/sample_data/movie_thermal.mp4: 320x256 Done. (0.010s)\n",
            "video 1/1 (237/371) /content/sample_data/movie_thermal.mp4: 320x256 Done. (0.009s)\n",
            "video 1/1 (238/371) /content/sample_data/movie_thermal.mp4: 320x256 Done. (0.010s)\n",
            "video 1/1 (239/371) /content/sample_data/movie_thermal.mp4: 320x256 Done. (0.012s)\n",
            "video 1/1 (240/371) /content/sample_data/movie_thermal.mp4: 320x256 Done. (0.010s)\n",
            "video 1/1 (241/371) /content/sample_data/movie_thermal.mp4: 320x256 Done. (0.009s)\n",
            "video 1/1 (242/371) /content/sample_data/movie_thermal.mp4: 320x256 Done. (0.009s)\n",
            "video 1/1 (243/371) /content/sample_data/movie_thermal.mp4: 320x256 Done. (0.010s)\n",
            "video 1/1 (244/371) /content/sample_data/movie_thermal.mp4: 320x256 Done. (0.009s)\n",
            "video 1/1 (245/371) /content/sample_data/movie_thermal.mp4: 320x256 Done. (0.009s)\n",
            "video 1/1 (246/371) /content/sample_data/movie_thermal.mp4: 320x256 Done. (0.009s)\n",
            "video 1/1 (247/371) /content/sample_data/movie_thermal.mp4: 320x256 Done. (0.009s)\n",
            "video 1/1 (248/371) /content/sample_data/movie_thermal.mp4: 320x256 Done. (0.009s)\n",
            "video 1/1 (249/371) /content/sample_data/movie_thermal.mp4: 320x256 Done. (0.008s)\n",
            "video 1/1 (250/371) /content/sample_data/movie_thermal.mp4: 320x256 Done. (0.008s)\n",
            "video 1/1 (251/371) /content/sample_data/movie_thermal.mp4: 320x256 Done. (0.008s)\n",
            "video 1/1 (252/371) /content/sample_data/movie_thermal.mp4: 320x256 Done. (0.008s)\n",
            "video 1/1 (253/371) /content/sample_data/movie_thermal.mp4: 320x256 Done. (0.009s)\n",
            "video 1/1 (254/371) /content/sample_data/movie_thermal.mp4: 320x256 Done. (0.009s)\n",
            "video 1/1 (255/371) /content/sample_data/movie_thermal.mp4: 320x256 Done. (0.009s)\n",
            "video 1/1 (256/371) /content/sample_data/movie_thermal.mp4: 320x256 Done. (0.009s)\n",
            "video 1/1 (257/371) /content/sample_data/movie_thermal.mp4: 320x256 Done. (0.009s)\n",
            "video 1/1 (258/371) /content/sample_data/movie_thermal.mp4: 320x256 Done. (0.009s)\n",
            "video 1/1 (259/371) /content/sample_data/movie_thermal.mp4: 320x256 Done. (0.009s)\n",
            "video 1/1 (260/371) /content/sample_data/movie_thermal.mp4: 320x256 Done. (0.009s)\n",
            "video 1/1 (261/371) /content/sample_data/movie_thermal.mp4: 320x256 Done. (0.009s)\n",
            "video 1/1 (262/371) /content/sample_data/movie_thermal.mp4: 320x256 Done. (0.012s)\n",
            "video 1/1 (263/371) /content/sample_data/movie_thermal.mp4: 320x256 Done. (0.010s)\n",
            "video 1/1 (264/371) /content/sample_data/movie_thermal.mp4: 320x256 Done. (0.010s)\n",
            "video 1/1 (265/371) /content/sample_data/movie_thermal.mp4: 320x256 Done. (0.010s)\n",
            "video 1/1 (266/371) /content/sample_data/movie_thermal.mp4: 320x256 Done. (0.011s)\n",
            "video 1/1 (267/371) /content/sample_data/movie_thermal.mp4: 320x256 Done. (0.011s)\n",
            "video 1/1 (268/371) /content/sample_data/movie_thermal.mp4: 320x256 Done. (0.009s)\n",
            "video 1/1 (269/371) /content/sample_data/movie_thermal.mp4: 320x256 Done. (0.009s)\n",
            "video 1/1 (270/371) /content/sample_data/movie_thermal.mp4: 320x256 Done. (0.009s)\n",
            "video 1/1 (271/371) /content/sample_data/movie_thermal.mp4: 320x256 Done. (0.009s)\n",
            "video 1/1 (272/371) /content/sample_data/movie_thermal.mp4: 320x256 Done. (0.009s)\n",
            "video 1/1 (273/371) /content/sample_data/movie_thermal.mp4: 320x256 Done. (0.009s)\n",
            "video 1/1 (274/371) /content/sample_data/movie_thermal.mp4: 320x256 Done. (0.009s)\n",
            "video 1/1 (275/371) /content/sample_data/movie_thermal.mp4: 320x256 Done. (0.009s)\n",
            "video 1/1 (276/371) /content/sample_data/movie_thermal.mp4: 320x256 Done. (0.009s)\n",
            "video 1/1 (277/371) /content/sample_data/movie_thermal.mp4: 320x256 Done. (0.009s)\n",
            "video 1/1 (278/371) /content/sample_data/movie_thermal.mp4: 320x256 Done. (0.009s)\n",
            "video 1/1 (279/371) /content/sample_data/movie_thermal.mp4: 320x256 Done. (0.009s)\n",
            "video 1/1 (280/371) /content/sample_data/movie_thermal.mp4: 320x256 Done. (0.009s)\n",
            "video 1/1 (281/371) /content/sample_data/movie_thermal.mp4: 320x256 Done. (0.009s)\n",
            "video 1/1 (282/371) /content/sample_data/movie_thermal.mp4: 320x256 Done. (0.009s)\n",
            "video 1/1 (283/371) /content/sample_data/movie_thermal.mp4: 320x256 Done. (0.010s)\n",
            "video 1/1 (284/371) /content/sample_data/movie_thermal.mp4: 320x256 Done. (0.010s)\n",
            "video 1/1 (285/371) /content/sample_data/movie_thermal.mp4: 320x256 Done. (0.010s)\n",
            "video 1/1 (286/371) /content/sample_data/movie_thermal.mp4: 320x256 Done. (0.010s)\n",
            "video 1/1 (287/371) /content/sample_data/movie_thermal.mp4: 320x256 Done. (0.010s)\n",
            "video 1/1 (288/371) /content/sample_data/movie_thermal.mp4: 320x256 Done. (0.010s)\n",
            "video 1/1 (289/371) /content/sample_data/movie_thermal.mp4: 320x256 Done. (0.010s)\n",
            "video 1/1 (290/371) /content/sample_data/movie_thermal.mp4: 320x256 Done. (0.010s)\n",
            "video 1/1 (291/371) /content/sample_data/movie_thermal.mp4: 320x256 Done. (0.011s)\n",
            "video 1/1 (292/371) /content/sample_data/movie_thermal.mp4: 320x256 Done. (0.011s)\n",
            "video 1/1 (293/371) /content/sample_data/movie_thermal.mp4: 320x256 Done. (0.015s)\n",
            "video 1/1 (294/371) /content/sample_data/movie_thermal.mp4: 320x256 Done. (0.011s)\n",
            "video 1/1 (295/371) /content/sample_data/movie_thermal.mp4: 320x256 Done. (0.010s)\n",
            "video 1/1 (296/371) /content/sample_data/movie_thermal.mp4: 320x256 Done. (0.009s)\n",
            "video 1/1 (297/371) /content/sample_data/movie_thermal.mp4: 320x256 Done. (0.010s)\n",
            "video 1/1 (298/371) /content/sample_data/movie_thermal.mp4: 320x256 Done. (0.009s)\n",
            "video 1/1 (299/371) /content/sample_data/movie_thermal.mp4: 320x256 Done. (0.009s)\n",
            "video 1/1 (300/371) /content/sample_data/movie_thermal.mp4: 320x256 Done. (0.009s)\n",
            "video 1/1 (301/371) /content/sample_data/movie_thermal.mp4: 320x256 Done. (0.010s)\n",
            "video 1/1 (302/371) /content/sample_data/movie_thermal.mp4: 320x256 Done. (0.010s)\n",
            "video 1/1 (303/371) /content/sample_data/movie_thermal.mp4: 320x256 Done. (0.009s)\n",
            "video 1/1 (304/371) /content/sample_data/movie_thermal.mp4: 320x256 Done. (0.014s)\n",
            "video 1/1 (305/371) /content/sample_data/movie_thermal.mp4: 320x256 Done. (0.010s)\n",
            "video 1/1 (306/371) /content/sample_data/movie_thermal.mp4: 320x256 Done. (0.009s)\n",
            "video 1/1 (307/371) /content/sample_data/movie_thermal.mp4: 320x256 Done. (0.010s)\n",
            "video 1/1 (308/371) /content/sample_data/movie_thermal.mp4: 320x256 Done. (0.009s)\n",
            "video 1/1 (309/371) /content/sample_data/movie_thermal.mp4: 320x256 Done. (0.009s)\n",
            "video 1/1 (310/371) /content/sample_data/movie_thermal.mp4: 320x256 Done. (0.009s)\n",
            "video 1/1 (311/371) /content/sample_data/movie_thermal.mp4: 320x256 Done. (0.009s)\n",
            "video 1/1 (312/371) /content/sample_data/movie_thermal.mp4: 320x256 Done. (0.009s)\n",
            "video 1/1 (313/371) /content/sample_data/movie_thermal.mp4: 320x256 Done. (0.009s)\n",
            "video 1/1 (314/371) /content/sample_data/movie_thermal.mp4: 320x256 Done. (0.009s)\n",
            "video 1/1 (315/371) /content/sample_data/movie_thermal.mp4: 320x256 Done. (0.009s)\n",
            "video 1/1 (316/371) /content/sample_data/movie_thermal.mp4: 320x256 Done. (0.009s)\n",
            "video 1/1 (317/371) /content/sample_data/movie_thermal.mp4: 320x256 Done. (0.009s)\n",
            "video 1/1 (318/371) /content/sample_data/movie_thermal.mp4: 320x256 Done. (0.009s)\n",
            "video 1/1 (319/371) /content/sample_data/movie_thermal.mp4: 320x256 Done. (0.012s)\n",
            "video 1/1 (320/371) /content/sample_data/movie_thermal.mp4: 320x256 Done. (0.009s)\n",
            "video 1/1 (321/371) /content/sample_data/movie_thermal.mp4: 320x256 Done. (0.009s)\n",
            "video 1/1 (322/371) /content/sample_data/movie_thermal.mp4: 320x256 Done. (0.009s)\n",
            "video 1/1 (323/371) /content/sample_data/movie_thermal.mp4: 320x256 Done. (0.009s)\n",
            "video 1/1 (324/371) /content/sample_data/movie_thermal.mp4: 320x256 Done. (0.009s)\n",
            "video 1/1 (325/371) /content/sample_data/movie_thermal.mp4: 320x256 Done. (0.012s)\n",
            "video 1/1 (326/371) /content/sample_data/movie_thermal.mp4: 320x256 Done. (0.009s)\n",
            "video 1/1 (327/371) /content/sample_data/movie_thermal.mp4: 320x256 Done. (0.009s)\n",
            "video 1/1 (328/371) /content/sample_data/movie_thermal.mp4: 320x256 Done. (0.009s)\n",
            "video 1/1 (329/371) /content/sample_data/movie_thermal.mp4: 320x256 Done. (0.009s)\n",
            "video 1/1 (330/371) /content/sample_data/movie_thermal.mp4: 320x256 Done. (0.009s)\n",
            "video 1/1 (331/371) /content/sample_data/movie_thermal.mp4: 320x256 Done. (0.009s)\n",
            "video 1/1 (332/371) /content/sample_data/movie_thermal.mp4: 320x256 Done. (0.010s)\n",
            "video 1/1 (333/371) /content/sample_data/movie_thermal.mp4: 320x256 Done. (0.009s)\n",
            "video 1/1 (334/371) /content/sample_data/movie_thermal.mp4: 320x256 Done. (0.010s)\n",
            "video 1/1 (335/371) /content/sample_data/movie_thermal.mp4: 320x256 Done. (0.009s)\n",
            "video 1/1 (336/371) /content/sample_data/movie_thermal.mp4: 320x256 Done. (0.009s)\n",
            "video 1/1 (337/371) /content/sample_data/movie_thermal.mp4: 320x256 Done. (0.012s)\n",
            "video 1/1 (338/371) /content/sample_data/movie_thermal.mp4: 320x256 Done. (0.013s)\n",
            "video 1/1 (339/371) /content/sample_data/movie_thermal.mp4: 320x256 Done. (0.012s)\n",
            "video 1/1 (340/371) /content/sample_data/movie_thermal.mp4: 320x256 Done. (0.009s)\n",
            "video 1/1 (341/371) /content/sample_data/movie_thermal.mp4: 320x256 Done. (0.009s)\n",
            "video 1/1 (342/371) /content/sample_data/movie_thermal.mp4: 320x256 Done. (0.009s)\n",
            "video 1/1 (343/371) /content/sample_data/movie_thermal.mp4: 320x256 Done. (0.009s)\n",
            "video 1/1 (344/371) /content/sample_data/movie_thermal.mp4: 320x256 Done. (0.009s)\n",
            "video 1/1 (345/371) /content/sample_data/movie_thermal.mp4: 320x256 Done. (0.009s)\n",
            "video 1/1 (346/371) /content/sample_data/movie_thermal.mp4: 320x256 Done. (0.012s)\n",
            "video 1/1 (347/371) /content/sample_data/movie_thermal.mp4: 320x256 Done. (0.010s)\n",
            "video 1/1 (348/371) /content/sample_data/movie_thermal.mp4: 320x256 Done. (0.010s)\n",
            "video 1/1 (349/371) /content/sample_data/movie_thermal.mp4: 320x256 Done. (0.010s)\n",
            "video 1/1 (350/371) /content/sample_data/movie_thermal.mp4: 320x256 Done. (0.009s)\n",
            "video 1/1 (351/371) /content/sample_data/movie_thermal.mp4: 320x256 Done. (0.009s)\n",
            "video 1/1 (352/371) /content/sample_data/movie_thermal.mp4: 320x256 Done. (0.009s)\n",
            "video 1/1 (353/371) /content/sample_data/movie_thermal.mp4: 320x256 Done. (0.009s)\n",
            "video 1/1 (354/371) /content/sample_data/movie_thermal.mp4: 320x256 Done. (0.009s)\n",
            "video 1/1 (355/371) /content/sample_data/movie_thermal.mp4: 320x256 Done. (0.009s)\n",
            "video 1/1 (356/371) /content/sample_data/movie_thermal.mp4: 320x256 Done. (0.009s)\n",
            "video 1/1 (357/371) /content/sample_data/movie_thermal.mp4: 320x256 Done. (0.009s)\n",
            "video 1/1 (358/371) /content/sample_data/movie_thermal.mp4: 320x256 Done. (0.009s)\n",
            "video 1/1 (359/371) /content/sample_data/movie_thermal.mp4: 320x256 Done. (0.009s)\n",
            "video 1/1 (360/371) /content/sample_data/movie_thermal.mp4: 320x256 Done. (0.009s)\n",
            "video 1/1 (361/371) /content/sample_data/movie_thermal.mp4: 320x256 Done. (0.009s)\n",
            "video 1/1 (362/371) /content/sample_data/movie_thermal.mp4: 320x256 Done. (0.009s)\n",
            "video 1/1 (363/371) /content/sample_data/movie_thermal.mp4: 320x256 Done. (0.009s)\n",
            "video 1/1 (364/371) /content/sample_data/movie_thermal.mp4: 320x256 Done. (0.009s)\n",
            "video 1/1 (365/371) /content/sample_data/movie_thermal.mp4: 320x256 Done. (0.011s)\n",
            "video 1/1 (366/371) /content/sample_data/movie_thermal.mp4: 320x256 Done. (0.009s)\n",
            "video 1/1 (367/371) /content/sample_data/movie_thermal.mp4: 320x256 Done. (0.009s)\n",
            "video 1/1 (368/371) /content/sample_data/movie_thermal.mp4: 320x256 Done. (0.009s)\n",
            "video 1/1 (369/371) /content/sample_data/movie_thermal.mp4: 320x256 Done. (0.009s)\n",
            "video 1/1 (370/371) /content/sample_data/movie_thermal.mp4: 320x256 Done. (0.009s)\n",
            "video 1/1 (371/371) /content/sample_data/movie_thermal.mp4: 320x256 Done. (0.009s)\n",
            "Speed: 0.2ms pre-process, 9.5ms inference, 0.2ms NMS per image at shape (1, 3, 320, 320)\n",
            "Results saved to \u001b[1myolov5/runs/detect/exp\u001b[0m\n"
          ]
        }
      ]
    },
    {
      "cell_type": "code",
      "source": [
        "shutil.move(\"/content/yolov5/runs/detect/exp/movie_thermal.mp4\", \"/content/sample_data/movie_thermal.mp4\")\n",
        "shutil.rmtree(\"/content/yolov5/runs/detect/exp\")\n",
        "\n",
        "ct =str(int(time.time()))\n",
        "os.rename(\"/content/sample_data/movie_thermal.mp4\", \"/content/sample_data/output_thermal\"+str(ct)+\".mp4\")\n",
        "shutil.move(\"/content/sample_data/output_thermal\"+str(ct)+\".mp4\", \"/content/drive/MyDrive/METIS/outputs/output_thermal\"+str(ct)+\".mp4\")\n",
        "thermalVideoTimestamp = str(ct)"
      ],
      "metadata": {
        "id": "0xk4S9g-a94U"
      },
      "execution_count": null,
      "outputs": []
    },
    {
      "cell_type": "code",
      "source": [
        "#Wait 10 seconds for the upload to Drive to be completed.\n",
        "time.sleep(10)"
      ],
      "metadata": {
        "id": "BQm4u2NsYi8Z"
      },
      "execution_count": null,
      "outputs": []
    },
    {
      "cell_type": "code",
      "source": [
        "filenameOptical = \"/content/drive/MyDrive/METIS/outputs/output_optical\"+opticalVideoTimestamp+\".mp4\"\n",
        "filenameThermal = \"/content/drive/MyDrive/METIS/outputs/output_thermal\"+thermalVideoTimestamp+\".mp4\"\n",
        "\n"
      ],
      "metadata": {
        "id": "YshK9Y5tMJdm"
      },
      "execution_count": null,
      "outputs": []
    },
    {
      "cell_type": "code",
      "source": [
        "!pip install pysftp\n",
        "import pysftp\n",
        "\n",
        "cnopts = pysftp.CnOpts()\n",
        "cnopts.hostkeys = None \n",
        "with pysftp.Connection('147.102.19.87', username='ntua', password='talampekos87@', port=22, cnopts=cnopts) as sftp:\n",
        "  with sftp.cd('/home/ntua/Public/MetisVideoFiles/Optical'):\n",
        "    sftp.put(filenameOptical)\n",
        "    print('RGB File Uploaded')\n",
        "  with sftp.cd('/home/ntua/Public/MetisVideoFiles/Thermal'):\n",
        "    sftp.put(filenameOptical)\n",
        "    print('Thermal File Uploaded')\n",
        "\n",
        "opticalFileLocation = '/home/ntua/Public/MetisVideoFiles/Optical' + filenameOptical\n",
        "thermalFileLocation = '/home/ntua/Public/MetisVideoFiles/Thermal' + filenameThermal"
      ],
      "metadata": {
        "colab": {
          "base_uri": "https://localhost:8080/"
        },
        "id": "z_M7xL1w3Img",
        "outputId": "91fa3c6d-2e76-471c-959a-f79064a970c8"
      },
      "execution_count": null,
      "outputs": [
        {
          "output_type": "stream",
          "name": "stdout",
          "text": [
            "Looking in indexes: https://pypi.org/simple, https://us-python.pkg.dev/colab-wheels/public/simple/\n",
            "Requirement already satisfied: pysftp in /usr/local/lib/python3.7/dist-packages (0.2.9)\n",
            "Requirement already satisfied: paramiko>=1.17 in /usr/local/lib/python3.7/dist-packages (from pysftp) (2.11.0)\n",
            "Requirement already satisfied: six in /usr/local/lib/python3.7/dist-packages (from paramiko>=1.17->pysftp) (1.15.0)\n",
            "Requirement already satisfied: bcrypt>=3.1.3 in /usr/local/lib/python3.7/dist-packages (from paramiko>=1.17->pysftp) (3.2.2)\n",
            "Requirement already satisfied: cryptography>=2.5 in /usr/local/lib/python3.7/dist-packages (from paramiko>=1.17->pysftp) (37.0.4)\n",
            "Requirement already satisfied: pynacl>=1.0.1 in /usr/local/lib/python3.7/dist-packages (from paramiko>=1.17->pysftp) (1.5.0)\n",
            "Requirement already satisfied: cffi>=1.1 in /usr/local/lib/python3.7/dist-packages (from bcrypt>=3.1.3->paramiko>=1.17->pysftp) (1.15.0)\n",
            "Requirement already satisfied: pycparser in /usr/local/lib/python3.7/dist-packages (from cffi>=1.1->bcrypt>=3.1.3->paramiko>=1.17->pysftp) (2.21)\n"
          ]
        },
        {
          "output_type": "stream",
          "name": "stderr",
          "text": [
            "/usr/local/lib/python3.7/dist-packages/pysftp/__init__.py:61: UserWarning: Failed to load HostKeys from /root/.ssh/known_hosts.  You will need to explicitly load HostKeys (cnopts.hostkeys.load(filename)) or disableHostKey checking (cnopts.hostkeys = None).\n",
            "  warnings.warn(wmsg, UserWarning)\n",
            "Connected (version 2.0, client OpenSSH_8.2p1)\n",
            "Authentication (password) successful!\n",
            "[chan 0] Opened sftp connection (server version 3)\n"
          ]
        },
        {
          "output_type": "stream",
          "name": "stdout",
          "text": [
            "RGB File Uploaded\n",
            "Thermal File Uploaded\n"
          ]
        },
        {
          "output_type": "stream",
          "name": "stderr",
          "text": [
            "[chan 0] sftp session closed.\n"
          ]
        }
      ]
    },
    {
      "cell_type": "code",
      "source": [
        "# filename = \"/content/drive/MyDrive/METIS/outputs/output_thermal\"+thermalVideoTimestamp+\".mp4\"\n",
        "# # Retrieving the file ID for a file in `\"/content/drive/My Drive/\"`:\n",
        "# id = !xattr -p 'user.drive.id' {filename}\n",
        "# print(id)\n",
        "# print(\"https://drive.google.com/file/d/\"+ id[0] + \"//view?usp=sharing\")\n",
        "# fileLocationThermal  = \"https://drive.google.com/file/d/\"+ id[0] + \"//view?usp=sharing\""
      ],
      "metadata": {
        "id": "QA8-Fqomda9l",
        "colab": {
          "base_uri": "https://localhost:8080/"
        },
        "outputId": "1ea6957b-ed44-4b11-9366-f187baf86d97"
      },
      "execution_count": null,
      "outputs": [
        {
          "output_type": "stream",
          "name": "stdout",
          "text": [
            "['1-6SUhPeT0p3WJbzKSrgc-xLG7QYR6mbV']\n",
            "https://drive.google.com/file/d/1-6SUhPeT0p3WJbzKSrgc-xLG7QYR6mbV//view?usp=sharing\n"
          ]
        }
      ]
    },
    {
      "cell_type": "code",
      "source": [
        "print(fileLocationOptical)\n",
        "print(fileLocationThermal)\n",
        "\n",
        "r.zadd('thermal_video', {fileLocationThermal: timestamp })\n",
        "r.zadd('optical_video', {fileLocationOptical: timestamp })\n",
        "\n",
        "print(r.zrange('thermal_video', 0, -1, desc=True, withscores=True))\n",
        "print(r.zrange('optical_video', 0, -1, desc=True, withscores=True))"
      ],
      "metadata": {
        "id": "OvjKRI0iaxBh",
        "colab": {
          "base_uri": "https://localhost:8080/"
        },
        "outputId": "4d4e0e19-d3f5-48ef-b2d3-5e591f172f9d"
      },
      "execution_count": null,
      "outputs": [
        {
          "output_type": "stream",
          "name": "stdout",
          "text": [
            "https://drive.google.com/file/d/1o2fDHgQwb5ZtZVHHgqtVORnrUq64uy8s//view?usp=sharing\n",
            "https://drive.google.com/file/d/1-6SUhPeT0p3WJbzKSrgc-xLG7QYR6mbV//view?usp=sharing\n",
            "[(b'https://drive.google.com/file/d/1-6SUhPeT0p3WJbzKSrgc-xLG7QYR6mbV//view?usp=sharing', 1657214706.4727147), (b'https://drive.google.com/file/d/1-3xdxoZpqorVAT8Lwi79e5WRudTLe8w7//view?usp=sharing', 1657200611.8300571)]\n",
            "[(b'https://drive.google.com/file/d/1o2fDHgQwb5ZtZVHHgqtVORnrUq64uy8s//view?usp=sharing', 1657214706.4727147), (b'https://drive.google.com/file/d/1bj4uFHfB4futkSg2Odw3lKJW1yMjJVpd//view?usp=sharing', 1657200611.8300571)]\n"
          ]
        }
      ]
    },
    {
      "cell_type": "code",
      "source": [
        ""
      ],
      "metadata": {
        "colab": {
          "base_uri": "https://localhost:8080/"
        },
        "id": "BLiOhQS9582Y",
        "outputId": "114272e3-26a7-47de-ec43-22c5045a0530"
      },
      "execution_count": null,
      "outputs": [
        {
          "output_type": "stream",
          "name": "stdout",
          "text": [
            "output_optical1657011198.mp4  output_thermal1657011210.mp4\n",
            "output_optical1657013723.mp4  output_thermal1657013747.mp4\n",
            "output_optical1657015886.mp4  output_thermal1657015897.mp4\n",
            "output_optical1657103709.mp4  output_thermal1657103732.mp4\n",
            "output_optical1657200690.mp4  output_thermal1657200707.mp4\n"
          ]
        }
      ]
    }
  ]
}